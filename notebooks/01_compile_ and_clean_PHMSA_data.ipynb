{
 "cells": [
  {
   "attachments": {},
   "cell_type": "markdown",
   "metadata": {
    "slideshow": {
     "slide_type": "slide"
    }
   },
   "source": [
    "# Compile and Clean PHMSA Data"
   ]
  },
  {
   "attachments": {},
   "cell_type": "markdown",
   "metadata": {},
   "source": [
    "## Introduction\n",
    "\n",
    "Plan is to get and clean data available on the PHMSA website.\n",
    "\n",
    "## Data Sources\n",
    "* https://www.phmsa.dot.gov/data-and-statistics/phmsa-data-and-statistics\n",
    "* https://www.phmsa.dot.gov/data-and-statistics/pipeline/source-data"
   ]
  },
  {
   "cell_type": "markdown",
   "metadata": {
    "slideshow": {
     "slide_type": "slide"
    }
   },
   "source": [
    "## Imports and Notebook Setup"
   ]
  },
  {
   "cell_type": "code",
   "execution_count": 49,
   "metadata": {
    "slideshow": {
     "slide_type": "subslide"
    }
   },
   "outputs": [],
   "source": [
    "import numpy as np\n",
    "import pandas as pd\n",
    "import matplotlib.pyplot as plt\n",
    "import seaborn as sns\n",
    "import plotnine as gg\n",
    "\n",
    "from glob import glob\n",
    "from zipfile import ZipFile\n",
    "from urllib.request import urlopen\n",
    "import os\n",
    "\n",
    "from IPython.display import IFrame\n",
    "from IPython.display import FileLink\n",
    "\n",
    "pd.set_option('display.max_columns', 200)\n",
    "sns.set()\n",
    "plt.rcParams['figure.figsize'] = (12, 8)\n",
    "plt.style.use('ggplot')"
   ]
  },
  {
   "attachments": {},
   "cell_type": "markdown",
   "metadata": {
    "slideshow": {
     "slide_type": "slide"
    }
   },
   "source": [
    "## Get Raw Data"
   ]
  },
  {
   "cell_type": "code",
   "execution_count": 7,
   "metadata": {
    "slideshow": {
     "slide_type": "subslide"
    }
   },
   "outputs": [],
   "source": [
    "if not os.path.exists('../temp_files/'):\n",
    "    os.makedirs('../temp_files/')"
   ]
  },
  {
   "attachments": {},
   "cell_type": "markdown",
   "metadata": {},
   "source": [
    "### Annual Report Data"
   ]
  },
  {
   "cell_type": "code",
   "execution_count": 40,
   "metadata": {},
   "outputs": [],
   "source": [
    "url_annual_reports_2010_present = 'https://www.phmsa.dot.gov/sites/phmsa.dot.gov/files/data_statistics/pipeline/annual_hazardous_liquid_2010_present.zip'\n",
    "url_annual_reports = urlopen(url_annual_reports_2010_present)\n",
    "output = open('../temp_files/annual_report_zipFile.zip','wb')\n",
    "output.write(url_annual_reports.read())\n",
    "output.close()"
   ]
  },
  {
   "cell_type": "code",
   "execution_count": 41,
   "metadata": {},
   "outputs": [],
   "source": [
    "zip_obj = ZipFile('../temp_files/annual_report_zipFile.zip', 'r')"
   ]
  },
  {
   "cell_type": "code",
   "execution_count": 52,
   "metadata": {},
   "outputs": [
    {
     "data": {
      "text/plain": [
       "'../temp_files\\\\Hazardous Liquid Annual Form - PHMSA F 7000-1.1 (rev 2020) - Data Fields.pdf'"
      ]
     },
     "execution_count": 52,
     "metadata": {},
     "output_type": "execute_result"
    }
   ],
   "source": [
    "zip_obj.extractall(path='../temp_files/')\n",
    "data_key_annual = glob('../temp_files/*.pdf')[0]\n",
    "data_key_annual"
   ]
  },
  {
   "cell_type": "code",
   "execution_count": 48,
   "metadata": {},
   "outputs": [
    {
     "data": {
      "text/plain": [
       "(717, 88)"
      ]
     },
     "execution_count": 48,
     "metadata": {},
     "output_type": "execute_result"
    }
   ],
   "source": [
    "annual_2021 = pd.read_excel('../temp_files/annual_hazardous_liquid_2021.xlsx')\n",
    "annual_2021.shape"
   ]
  },
  {
   "cell_type": "code",
   "execution_count": 54,
   "metadata": {},
   "outputs": [],
   "source": [
    "annual_2021.to_csv('../data/raw_data/annual_2021.csv', index=False)"
   ]
  },
  {
   "attachments": {},
   "cell_type": "markdown",
   "metadata": {},
   "source": [
    "### Hazardous Liquid Incident Data"
   ]
  },
  {
   "cell_type": "code",
   "execution_count": 6,
   "metadata": {
    "slideshow": {
     "slide_type": "subslide"
    }
   },
   "outputs": [],
   "source": [
    "url_2010_present = 'https://www.phmsa.dot.gov/sites/phmsa.dot.gov/files/data_statistics/pipeline/accident_hazardous_liquid_jan2010_present.zip'\n",
    "url = urlopen(url_2010_present)"
   ]
  },
  {
   "cell_type": "code",
   "execution_count": 8,
   "metadata": {
    "slideshow": {
     "slide_type": "subslide"
    }
   },
   "outputs": [],
   "source": [
    "output = open('../temp_files/zipFile.zip','wb')\n",
    "output.write(url.read())\n",
    "output.close()"
   ]
  },
  {
   "cell_type": "code",
   "execution_count": 9,
   "metadata": {
    "slideshow": {
     "slide_type": "subslide"
    }
   },
   "outputs": [],
   "source": [
    "zip_obj = ZipFile('../temp_files/zipFile.zip', 'r')\n",
    "\n",
    "# https://docs.python.org/3/library/zipfile.html#zipfile.ZipFile.extract"
   ]
  },
  {
   "cell_type": "code",
   "execution_count": 23,
   "metadata": {
    "slideshow": {
     "slide_type": "subslide"
    }
   },
   "outputs": [
    {
     "data": {
      "text/plain": [
       "'..\\\\reference\\\\data_keys\\\\Hazardous Liquid Accident PHMSA F7000 1 Rev 3-2021 Data fields.pdf'"
      ]
     },
     "execution_count": 23,
     "metadata": {},
     "output_type": "execute_result"
    }
   ],
   "source": [
    "data_file = zip_obj.extract(zip_obj.filelist[0],path=\"../temp_files\")\n",
    "data_key = zip_obj.extract(zip_obj.filelist[1],path=\"../reference/data_keys\")\n",
    "data_key"
   ]
  },
  {
   "cell_type": "code",
   "execution_count": 31,
   "metadata": {
    "slideshow": {
     "slide_type": "subslide"
    }
   },
   "outputs": [
    {
     "data": {
      "text/plain": [
       "(4919, 654)"
      ]
     },
     "execution_count": 31,
     "metadata": {},
     "output_type": "execute_result"
    }
   ],
   "source": [
    "incid = pd.read_table(data_file, encoding='windows-1252', low_memory=False)\n",
    "incid.shape"
   ]
  },
  {
   "cell_type": "code",
   "execution_count": 32,
   "metadata": {
    "slideshow": {
     "slide_type": "subslide"
    }
   },
   "outputs": [],
   "source": [
    "incid.to_parquet('../data/raw_data/incidents_2010_present.parquet', index=False)"
   ]
  },
  {
   "attachments": {},
   "cell_type": "markdown",
   "metadata": {
    "slideshow": {
     "slide_type": "slide"
    }
   },
   "source": [
    "## Clean Data"
   ]
  },
  {
   "attachments": {},
   "cell_type": "markdown",
   "metadata": {},
   "source": [
    "### Hazardous Liquid Incident Data"
   ]
  },
  {
   "cell_type": "code",
   "execution_count": 33,
   "metadata": {},
   "outputs": [
    {
     "data": {
      "text/html": [
       "<div>\n",
       "<style scoped>\n",
       "    .dataframe tbody tr th:only-of-type {\n",
       "        vertical-align: middle;\n",
       "    }\n",
       "\n",
       "    .dataframe tbody tr th {\n",
       "        vertical-align: top;\n",
       "    }\n",
       "\n",
       "    .dataframe thead th {\n",
       "        text-align: right;\n",
       "    }\n",
       "</style>\n",
       "<table border=\"1\" class=\"dataframe\">\n",
       "  <thead>\n",
       "    <tr style=\"text-align: right;\">\n",
       "      <th></th>\n",
       "      <th>REPORT_RECEIVED_DATE</th>\n",
       "      <th>IYEAR</th>\n",
       "      <th>REPORT_NUMBER</th>\n",
       "      <th>SUPPLEMENTAL_NUMBER</th>\n",
       "      <th>REPORT_TYPE</th>\n",
       "      <th>OPERATOR_ID</th>\n",
       "      <th>NAME</th>\n",
       "      <th>OPERATOR_STREET_ADDRESS</th>\n",
       "      <th>OPERATOR_CITY_NAME</th>\n",
       "      <th>OPERATOR_STATE_ABBREVIATION</th>\n",
       "      <th>OPERATOR_POSTAL_CODE</th>\n",
       "      <th>LOCAL_DATETIME</th>\n",
       "      <th>TIME_ZONE</th>\n",
       "      <th>DAYLIGHT_SAVINGS_IND</th>\n",
       "      <th>LOCATION_LATITUDE</th>\n",
       "      <th>LOCATION_LONGITUDE</th>\n",
       "      <th>COMMODITY_RELEASED_TYPE</th>\n",
       "      <th>COMMODITY_SUBTYPE</th>\n",
       "      <th>COMMODITY_DETAILS</th>\n",
       "      <th>BLEND_DETAILS</th>\n",
       "      <th>BIO_DIESEL_DETAILS</th>\n",
       "      <th>UNINTENTIONAL_RELEASE_BBLS</th>\n",
       "      <th>INTENTIONAL_RELEASE_BBLS</th>\n",
       "      <th>RECOVERED_BBLS</th>\n",
       "      <th>FATALITY_IND</th>\n",
       "      <th>NUM_EMP_FATALITIES</th>\n",
       "      <th>NUM_CONTR_FATALITIES</th>\n",
       "      <th>NUM_ER_FATALITIES</th>\n",
       "      <th>NUM_WORKER_FATALITIES</th>\n",
       "      <th>NUM_GP_FATALITIES</th>\n",
       "      <th>FATAL</th>\n",
       "      <th>INJURY_IND</th>\n",
       "      <th>NUM_EMP_INJURIES</th>\n",
       "      <th>NUM_CONTR_INJURIES</th>\n",
       "      <th>NUM_ER_INJURIES</th>\n",
       "      <th>NUM_WORKER_INJURIES</th>\n",
       "      <th>NUM_GP_INJURIES</th>\n",
       "      <th>INJURE</th>\n",
       "      <th>ACCIDENT_IDENTIFIER</th>\n",
       "      <th>ACCIDENT_DETAILS</th>\n",
       "      <th>OPERATOR_TYPE</th>\n",
       "      <th>INCIDENT_IDENTIFIED_DATETIME</th>\n",
       "      <th>SYSTEM_PART_INVOLVED</th>\n",
       "      <th>ON_OFF_SHORE</th>\n",
       "      <th>STATUS_WHEN_IDENTIFIED</th>\n",
       "      <th>SHUTDOWN_DUE_ACCIDENT_IND</th>\n",
       "      <th>SHUTDOWN_EXPLAIN</th>\n",
       "      <th>SHUTDOWN_DATETIME</th>\n",
       "      <th>RESTART_DATETIME</th>\n",
       "      <th>STILL_SHUTDOWN_IND</th>\n",
       "      <th>COMMUNICATION_STATE_FED_IND</th>\n",
       "      <th>PARTY_INITIATED_COMMUNICATION</th>\n",
       "      <th>INITIAL_RESPONDER_COM_DATETIME</th>\n",
       "      <th>ON_SITE_DATETIME</th>\n",
       "      <th>CONFIRMED_DISCOVERY_DATETIME</th>\n",
       "      <th>NRC_RPT_DATETIME</th>\n",
       "      <th>NRC_RPT_NUM</th>\n",
       "      <th>ADDITIONAL_NRC_REPORT_NUMBERS</th>\n",
       "      <th>IGNITE_IND</th>\n",
       "      <th>IGNITE_DATETIME</th>\n",
       "      <th>HOW_EXTINGUISHED</th>\n",
       "      <th>HOW_EXTINGUISHED_OTHER_DETAIL</th>\n",
       "      <th>CONSUMED_BY_FIRE_IN_BARRELS</th>\n",
       "      <th>EXPLODE_IND</th>\n",
       "      <th>UPSTREAM_ACTION_TAKEN</th>\n",
       "      <th>UPSTREAM_OPRTNL_CNTRL_DETAIL</th>\n",
       "      <th>UPSTREAM_VALVE_CLOSE_DATETIME</th>\n",
       "      <th>UPSTREAM_VALVE_TYPE_IND</th>\n",
       "      <th>DOWNSTREAM_ACTION_TAKEN</th>\n",
       "      <th>DOWNSTREAM_OPRTNL_CNTRL_DETAIL</th>\n",
       "      <th>DOWNSTREAM_VLV_CLOSE_DATETIME</th>\n",
       "      <th>DOWNSTREAM_VALVE_TYPE_IND</th>\n",
       "      <th>NOTIFY_QUALIFIED_INDIV_IND</th>\n",
       "      <th>QUALIFIED_INDIV_NOTIF_DATETIME</th>\n",
       "      <th>OIL_SPILL_REMOVAL_ORG_IND</th>\n",
       "      <th>OSRO_ACTIVATED_DATETIME</th>\n",
       "      <th>OSRO_ARRIVED_ON_SITE_DT</th>\n",
       "      <th>NUM_PUB_EVACUATED</th>\n",
       "      <th>PIPE_FAC_NAME</th>\n",
       "      <th>SEGMENT_NAME</th>\n",
       "      <th>ONSHORE_STATE_ABBREVIATION</th>\n",
       "      <th>ONSHORE_POSTAL_CODE</th>\n",
       "      <th>ONSHORE_CITY_NAME</th>\n",
       "      <th>ONSHORE_COUNTY_NAME</th>\n",
       "      <th>DESIGNATED_LOCATION</th>\n",
       "      <th>DESIGNATED_NAME</th>\n",
       "      <th>FEDERAL</th>\n",
       "      <th>LOCATION_TYPE</th>\n",
       "      <th>INCIDENT_AREA_TYPE</th>\n",
       "      <th>INCIDENT_AREA_SUBTYPE</th>\n",
       "      <th>INCIDENT_AREA_DETAILS</th>\n",
       "      <th>DEPTH_OF_COVER</th>\n",
       "      <th>CROSSING</th>\n",
       "      <th>BRIDGE_CROSSING_IND</th>\n",
       "      <th>BRIDGE_TYPE</th>\n",
       "      <th>RAILROAD_CROSSING_IND</th>\n",
       "      <th>RAILROAD_TYPE</th>\n",
       "      <th>ROAD_CROSSING_IND</th>\n",
       "      <th>ROAD_TYPE</th>\n",
       "      <th>WATER_CROSSING_IND</th>\n",
       "      <th>...</th>\n",
       "      <th>EMAT_PREV_PROPUL_METHOD</th>\n",
       "      <th>CPCM_RECENT_YEAR</th>\n",
       "      <th>CPCM_RCNT_PROPUL_METHOD</th>\n",
       "      <th>CPCM_PREVIOUS_YEAR</th>\n",
       "      <th>CPCM_PREV_PROPUL_METHOD</th>\n",
       "      <th>OTHER_TOOL</th>\n",
       "      <th>OTHER_RECENT_YEAR</th>\n",
       "      <th>OTHER_RCNT_PROPUL_METHOD</th>\n",
       "      <th>OTHER_PREVIOUS_YEAR</th>\n",
       "      <th>OTHER_PREV_PROPUL_METHOD</th>\n",
       "      <th>INSP_COMPL_BEFORE_DAMAGE_IND</th>\n",
       "      <th>HAS_HYDRTST_CONDUC_BEFORE_IND</th>\n",
       "      <th>HYDRTST_MOST_RCNT_YEAR</th>\n",
       "      <th>HYDRTST_MOST_RCNT_PRESSURE</th>\n",
       "      <th>DIRECT_ASMNT_CONDUCTED</th>\n",
       "      <th>DIRECT_ASMNT_AT_PNT_ACCDNT_YR</th>\n",
       "      <th>DIRECT_ASMNT_PNT_NOT_IDNTF_YR</th>\n",
       "      <th>ASMNT_ECDA_RCNT_IND</th>\n",
       "      <th>ASMNT_ECDA_RCNT_YEAR</th>\n",
       "      <th>ASMNT_OTHER_RCNT_IND</th>\n",
       "      <th>ASMNT_OTHER_TYPE</th>\n",
       "      <th>ASMNT_OTHER_RCNT_YEAR</th>\n",
       "      <th>NON_DESTRUCTIVE_EXAM_IND</th>\n",
       "      <th>EXM_RADIOGRAPHY_RCNT_YEAR</th>\n",
       "      <th>EXM_WAVE_ULTRASONIC_RCNT_YEAR</th>\n",
       "      <th>EXM_HANDL_ULTRASONIC_RCNT_YEAR</th>\n",
       "      <th>EXM_WET_MGNT_PARTCL_RCNT_YEAR</th>\n",
       "      <th>EXM_DRY_MGNT_PARTCL_RCNT_YEAR</th>\n",
       "      <th>EXM_OTHER_TYPE</th>\n",
       "      <th>EXM_OTHER_RCNT_YEAR</th>\n",
       "      <th>EXM_RADIOGRAPHY_RCNT_IND</th>\n",
       "      <th>EXM_WAVE_ULTRASONIC_RCNT_IND</th>\n",
       "      <th>EXM_HANDL_ULTRASONIC_RCNT_IND</th>\n",
       "      <th>EXM_WET_MGNT_PARTCL_RCNT_IND</th>\n",
       "      <th>EXM_DRY_MGNT_PARTCL_RCNT_IND</th>\n",
       "      <th>EXM_OTHER_RCNT_IND</th>\n",
       "      <th>EXTRNL_COR_GALVANIC_IND</th>\n",
       "      <th>EXTRNL_COR_ATMOSPHERIC_IND</th>\n",
       "      <th>EXTRNL_COR_STRAY_CURRENT_IND</th>\n",
       "      <th>EXTRNL_COR_MICROBIOLOGIC_IND</th>\n",
       "      <th>EXTRNL_COR_SELECTIVE_SEAM_IND</th>\n",
       "      <th>INTRNL_COR_CORROSIVE_CMDTY_IND</th>\n",
       "      <th>INTRNL_COR_WTR_DRPOUT_ACID_IND</th>\n",
       "      <th>INTRNL_COR_MICROBIOLOGIC_IND</th>\n",
       "      <th>INTRNL_COR_EROSION_IND</th>\n",
       "      <th>NF_EARTH_MOVEMENT_IND</th>\n",
       "      <th>NF_HEAVY_RAINS_IND</th>\n",
       "      <th>NF_LIGHTNING_IND</th>\n",
       "      <th>NF_TEMPERATURE_IND</th>\n",
       "      <th>NF_HIGH_WINDS_IND</th>\n",
       "      <th>NF_VEGITATION_ROOT_IND</th>\n",
       "      <th>EXCVTN_DMG_OPERATOR_IND</th>\n",
       "      <th>EXCVTN_DMG_OP_CONTRACTOR_IND</th>\n",
       "      <th>EXCVTN_DMG_THIRD_PARTY_IND</th>\n",
       "      <th>EXCVTN_DMG_PREVIOUS_DAMAGE_IND</th>\n",
       "      <th>OSF_NEARBY_INDUSTRIAL_IND</th>\n",
       "      <th>OSF_VEHICLE_IND</th>\n",
       "      <th>OSF_BOAT_IND</th>\n",
       "      <th>OSF_OTHER_MARITIME_IND</th>\n",
       "      <th>OSF_ELECTRICAL_ARCING_IND</th>\n",
       "      <th>OSF_PREVIOUS_MECHANICAL_IND</th>\n",
       "      <th>OSF_INTENTIONAL_IND</th>\n",
       "      <th>PWF_DESIGN_IND</th>\n",
       "      <th>PWF_CONSTRUCTION_IND</th>\n",
       "      <th>PWF_INSTALLATION_IND</th>\n",
       "      <th>PWF_FABRICATION_IND</th>\n",
       "      <th>PWF_MANUFACTURING_IND</th>\n",
       "      <th>PWF_ENV_STRESS_CORROSION_IND</th>\n",
       "      <th>PWF_ENV_SULFIDE_STRESS_IND</th>\n",
       "      <th>PWF_ENV_HYDROGEN_STRESS_IND</th>\n",
       "      <th>PWF_ENV_HARD_SPOT_IND</th>\n",
       "      <th>EQF_CONTROL_RELEAF_IND</th>\n",
       "      <th>EQF_PUMP_EQUIPMENT_IND</th>\n",
       "      <th>EQF_THREADED_COUPLING_IND</th>\n",
       "      <th>EQF_NON_THREADED_IND</th>\n",
       "      <th>EQF_DEFECTIVE_FITTING_IND</th>\n",
       "      <th>EQF_EQUIPMENT_BODY_IND</th>\n",
       "      <th>IO_DAMAGE_BY_OPERATOR_IND</th>\n",
       "      <th>IO_TANK_VESSEL_IND</th>\n",
       "      <th>IO_VALVE_POSITION_IND</th>\n",
       "      <th>IO_EQUIPMENT_OVERPRESSURE_IND</th>\n",
       "      <th>IO_NOT_INSTALLED_PROPERLY_IND</th>\n",
       "      <th>IO_WRONG_EQUIPMENT_IND</th>\n",
       "      <th>IO_INADEQUATE_PROCEDURE_IND</th>\n",
       "      <th>IO_NO_PROCEDURE_IND</th>\n",
       "      <th>IO_FOLLOW_PROCEDURE_IND</th>\n",
       "      <th>PREPARER_NAME</th>\n",
       "      <th>PREPARER_TITLE</th>\n",
       "      <th>PREPARER_EMAIL</th>\n",
       "      <th>PREPARER_TELEPHONE</th>\n",
       "      <th>PREPARER_FAX</th>\n",
       "      <th>PREPARED_DATE</th>\n",
       "      <th>LOCAL_CONTACT_NAME</th>\n",
       "      <th>LOCAL_CONTACT_EMAIL</th>\n",
       "      <th>LOCAL_CONTACT_TELEPHONE</th>\n",
       "      <th>AUTHORIZER_NAME</th>\n",
       "      <th>AUTHORIZER_TELEPHONE</th>\n",
       "      <th>AUTHORIZER_TITLE</th>\n",
       "      <th>AUTHORIZER_EMAIL</th>\n",
       "      <th>NARRATIVE</th>\n",
       "    </tr>\n",
       "  </thead>\n",
       "  <tbody>\n",
       "    <tr>\n",
       "      <th>0</th>\n",
       "      <td>11/29/2022</td>\n",
       "      <td>2022</td>\n",
       "      <td>20220264</td>\n",
       "      <td>37392</td>\n",
       "      <td>ORIGINAL FINAL</td>\n",
       "      <td>40295</td>\n",
       "      <td>FUNDARE RESOURCES OPERATING COMPANY, LLC</td>\n",
       "      <td>5251 DTC PKWY STE #950</td>\n",
       "      <td>GREENWOOD VILLAGE</td>\n",
       "      <td>CO</td>\n",
       "      <td>80111</td>\n",
       "      <td>11/14/2022 10:00</td>\n",
       "      <td>MOUNTAIN</td>\n",
       "      <td>YES</td>\n",
       "      <td>40.781120</td>\n",
       "      <td>-103.944800</td>\n",
       "      <td>CRUDE OIL</td>\n",
       "      <td>None</td>\n",
       "      <td>None</td>\n",
       "      <td>NaN</td>\n",
       "      <td>NaN</td>\n",
       "      <td>28.19</td>\n",
       "      <td>NaN</td>\n",
       "      <td>25.50</td>\n",
       "      <td>NO</td>\n",
       "      <td>NaN</td>\n",
       "      <td>NaN</td>\n",
       "      <td>NaN</td>\n",
       "      <td>NaN</td>\n",
       "      <td>NaN</td>\n",
       "      <td>0</td>\n",
       "      <td>NO</td>\n",
       "      <td>NaN</td>\n",
       "      <td>NaN</td>\n",
       "      <td>NaN</td>\n",
       "      <td>NaN</td>\n",
       "      <td>NaN</td>\n",
       "      <td>0</td>\n",
       "      <td>LOCAL OPERATING PERSONNEL, INCLUDING CONTRACTORS</td>\n",
       "      <td>None</td>\n",
       "      <td>CONTRACTOR WORKING FOR THE OPERATOR</td>\n",
       "      <td>11/14/2022 12:38</td>\n",
       "      <td>ONSHORE PUMP/METER STATION EQUIPMENT AND PIPING</td>\n",
       "      <td>ONSHORE</td>\n",
       "      <td>NORMAL OPERATION, INCLUDES PAUSES BETWEEN BATC...</td>\n",
       "      <td>YES</td>\n",
       "      <td>None</td>\n",
       "      <td>11/14/2022 12:42</td>\n",
       "      <td>11/14/2022 16:15</td>\n",
       "      <td>None</td>\n",
       "      <td>YES</td>\n",
       "      <td>OPERATOR</td>\n",
       "      <td>11/15/2022 8:00</td>\n",
       "      <td>11/14/2022 12:55</td>\n",
       "      <td>11/14/2022 12:38</td>\n",
       "      <td>11/21/2022 2:30</td>\n",
       "      <td>1353138</td>\n",
       "      <td>None</td>\n",
       "      <td>NO</td>\n",
       "      <td>None</td>\n",
       "      <td>None</td>\n",
       "      <td>None</td>\n",
       "      <td>NaN</td>\n",
       "      <td>None</td>\n",
       "      <td>None</td>\n",
       "      <td>None</td>\n",
       "      <td>None</td>\n",
       "      <td>None</td>\n",
       "      <td>None</td>\n",
       "      <td>None</td>\n",
       "      <td>None</td>\n",
       "      <td>None</td>\n",
       "      <td>YES</td>\n",
       "      <td>11/14/2022 6:33</td>\n",
       "      <td>NO</td>\n",
       "      <td>None</td>\n",
       "      <td>None</td>\n",
       "      <td>0.0</td>\n",
       "      <td>REDTAIL GAS GATHERING SYSTEM</td>\n",
       "      <td>CR 110 EAST</td>\n",
       "      <td>CO</td>\n",
       "      <td>80742</td>\n",
       "      <td>NEW RAYMER</td>\n",
       "      <td>WELD</td>\n",
       "      <td>MILEPOST</td>\n",
       "      <td>10.5</td>\n",
       "      <td>NO</td>\n",
       "      <td>TOTALLY CONTAINED ON OPERATOR-CONTROLLED PROPERTY</td>\n",
       "      <td>ABOVEGROUND</td>\n",
       "      <td>TYPICAL ABOVEGROUND FACILITY PIPING OR APPURTE...</td>\n",
       "      <td>None</td>\n",
       "      <td>None</td>\n",
       "      <td>NO</td>\n",
       "      <td>None</td>\n",
       "      <td>None</td>\n",
       "      <td>None</td>\n",
       "      <td>None</td>\n",
       "      <td>None</td>\n",
       "      <td>None</td>\n",
       "      <td>None</td>\n",
       "      <td>...</td>\n",
       "      <td>NaN</td>\n",
       "      <td>NaN</td>\n",
       "      <td>NaN</td>\n",
       "      <td>NaN</td>\n",
       "      <td>NaN</td>\n",
       "      <td>None</td>\n",
       "      <td>NaN</td>\n",
       "      <td>None</td>\n",
       "      <td>NaN</td>\n",
       "      <td>None</td>\n",
       "      <td>None</td>\n",
       "      <td>None</td>\n",
       "      <td>NaN</td>\n",
       "      <td>NaN</td>\n",
       "      <td>None</td>\n",
       "      <td>NaN</td>\n",
       "      <td>NaN</td>\n",
       "      <td>None</td>\n",
       "      <td>NaN</td>\n",
       "      <td>None</td>\n",
       "      <td>None</td>\n",
       "      <td>NaN</td>\n",
       "      <td>None</td>\n",
       "      <td>NaN</td>\n",
       "      <td>NaN</td>\n",
       "      <td>NaN</td>\n",
       "      <td>NaN</td>\n",
       "      <td>NaN</td>\n",
       "      <td>None</td>\n",
       "      <td>NaN</td>\n",
       "      <td>None</td>\n",
       "      <td>None</td>\n",
       "      <td>None</td>\n",
       "      <td>None</td>\n",
       "      <td>None</td>\n",
       "      <td>None</td>\n",
       "      <td>NaN</td>\n",
       "      <td>None</td>\n",
       "      <td>None</td>\n",
       "      <td>NaN</td>\n",
       "      <td>NaN</td>\n",
       "      <td>None</td>\n",
       "      <td>None</td>\n",
       "      <td>None</td>\n",
       "      <td>None</td>\n",
       "      <td>None</td>\n",
       "      <td>NaN</td>\n",
       "      <td>None</td>\n",
       "      <td>None</td>\n",
       "      <td>NaN</td>\n",
       "      <td>NaN</td>\n",
       "      <td>NaN</td>\n",
       "      <td>NaN</td>\n",
       "      <td>NaN</td>\n",
       "      <td>NaN</td>\n",
       "      <td>NaN</td>\n",
       "      <td>None</td>\n",
       "      <td>NaN</td>\n",
       "      <td>None</td>\n",
       "      <td>None</td>\n",
       "      <td>NaN</td>\n",
       "      <td>NaN</td>\n",
       "      <td>None</td>\n",
       "      <td>None</td>\n",
       "      <td>None</td>\n",
       "      <td>NaN</td>\n",
       "      <td>NaN</td>\n",
       "      <td>NaN</td>\n",
       "      <td>NaN</td>\n",
       "      <td>NaN</td>\n",
       "      <td>NaN</td>\n",
       "      <td>None</td>\n",
       "      <td>None</td>\n",
       "      <td>None</td>\n",
       "      <td>None</td>\n",
       "      <td>None</td>\n",
       "      <td>None</td>\n",
       "      <td>NaN</td>\n",
       "      <td>None</td>\n",
       "      <td>NaN</td>\n",
       "      <td>None</td>\n",
       "      <td>NaN</td>\n",
       "      <td>None</td>\n",
       "      <td>NaN</td>\n",
       "      <td>NaN</td>\n",
       "      <td>None</td>\n",
       "      <td>SYDNEY SMITH</td>\n",
       "      <td>DIRECTOR EHSR</td>\n",
       "      <td>ssmith@fundareresources.com</td>\n",
       "      <td>3039104511</td>\n",
       "      <td>None</td>\n",
       "      <td>11/28/2022</td>\n",
       "      <td>SYDNEY SMITH</td>\n",
       "      <td>ssmith@fundareresources.com</td>\n",
       "      <td>3039104511</td>\n",
       "      <td>SYDNEY SMITH</td>\n",
       "      <td>3039104511</td>\n",
       "      <td>DIRECTOR EHSR</td>\n",
       "      <td>ssmith@fundareresources.com</td>\n",
       "      <td>ON NOVEMBER 14, 2022 A THREE-INCH VALVE FROZE ...</td>\n",
       "    </tr>\n",
       "    <tr>\n",
       "      <th>1</th>\n",
       "      <td>11/29/2022</td>\n",
       "      <td>2022</td>\n",
       "      <td>20220263</td>\n",
       "      <td>37390</td>\n",
       "      <td>ORIGINAL FINAL</td>\n",
       "      <td>22855</td>\n",
       "      <td>FLINT HILLS RESOURCES, LC</td>\n",
       "      <td>4111 EAST 37TH STREET NORTH</td>\n",
       "      <td>WICHITA</td>\n",
       "      <td>KS</td>\n",
       "      <td>67220</td>\n",
       "      <td>11/3/2022 15:05</td>\n",
       "      <td>CENTRAL</td>\n",
       "      <td>YES</td>\n",
       "      <td>44.881773</td>\n",
       "      <td>-92.956596</td>\n",
       "      <td>CRUDE OIL</td>\n",
       "      <td>None</td>\n",
       "      <td>None</td>\n",
       "      <td>NaN</td>\n",
       "      <td>NaN</td>\n",
       "      <td>0.50</td>\n",
       "      <td>NaN</td>\n",
       "      <td>0.50</td>\n",
       "      <td>NO</td>\n",
       "      <td>NaN</td>\n",
       "      <td>NaN</td>\n",
       "      <td>NaN</td>\n",
       "      <td>NaN</td>\n",
       "      <td>NaN</td>\n",
       "      <td>0</td>\n",
       "      <td>NO</td>\n",
       "      <td>NaN</td>\n",
       "      <td>NaN</td>\n",
       "      <td>NaN</td>\n",
       "      <td>NaN</td>\n",
       "      <td>NaN</td>\n",
       "      <td>0</td>\n",
       "      <td>LOCAL OPERATING PERSONNEL, INCLUDING CONTRACTORS</td>\n",
       "      <td>None</td>\n",
       "      <td>OPERATOR EMPLOYEE</td>\n",
       "      <td>11/3/2022 15:05</td>\n",
       "      <td>ONSHORE PIPELINE, INCLUDING VALVE SITES</td>\n",
       "      <td>ONSHORE</td>\n",
       "      <td>NORMAL OPERATION, INCLUDES PAUSES BETWEEN BATC...</td>\n",
       "      <td>YES</td>\n",
       "      <td>None</td>\n",
       "      <td>11/3/2022 15:39</td>\n",
       "      <td>11/3/2022 21:17</td>\n",
       "      <td>None</td>\n",
       "      <td>NO</td>\n",
       "      <td>None</td>\n",
       "      <td>None</td>\n",
       "      <td>11/3/2022 15:05</td>\n",
       "      <td>11/3/2022 15:05</td>\n",
       "      <td>None</td>\n",
       "      <td>NRC NOTIFICATION NOT REQUIRED</td>\n",
       "      <td>None</td>\n",
       "      <td>NO</td>\n",
       "      <td>None</td>\n",
       "      <td>None</td>\n",
       "      <td>None</td>\n",
       "      <td>NaN</td>\n",
       "      <td>None</td>\n",
       "      <td>VALVE CLOSURE</td>\n",
       "      <td>None</td>\n",
       "      <td>11/3/2022 15:17</td>\n",
       "      <td>REMOTELY CONTROLLED</td>\n",
       "      <td>VALVE CLOSURE</td>\n",
       "      <td>None</td>\n",
       "      <td>11/3/2022 15:39</td>\n",
       "      <td>REMOTELY CONTROLLED</td>\n",
       "      <td>NO</td>\n",
       "      <td>None</td>\n",
       "      <td>NO</td>\n",
       "      <td>None</td>\n",
       "      <td>None</td>\n",
       "      <td>0.0</td>\n",
       "      <td>MINNESOTA PIPELINE LINE / LINE 1</td>\n",
       "      <td>HUGO TO COTTAGE GROVE / 5608</td>\n",
       "      <td>MN</td>\n",
       "      <td>55129</td>\n",
       "      <td>WOODBURY</td>\n",
       "      <td>WASHINGTON</td>\n",
       "      <td>MILEPOST</td>\n",
       "      <td>245</td>\n",
       "      <td>NO</td>\n",
       "      <td>PIPELINE RIGHT-OF-WAY</td>\n",
       "      <td>UNDERGROUND</td>\n",
       "      <td>EXPOSED DUE TO EXCAVATION</td>\n",
       "      <td>None</td>\n",
       "      <td>36</td>\n",
       "      <td>NO</td>\n",
       "      <td>None</td>\n",
       "      <td>None</td>\n",
       "      <td>None</td>\n",
       "      <td>None</td>\n",
       "      <td>None</td>\n",
       "      <td>None</td>\n",
       "      <td>None</td>\n",
       "      <td>...</td>\n",
       "      <td>NaN</td>\n",
       "      <td>NaN</td>\n",
       "      <td>NaN</td>\n",
       "      <td>NaN</td>\n",
       "      <td>NaN</td>\n",
       "      <td>HELICAL MFL</td>\n",
       "      <td>2021.0</td>\n",
       "      <td>FREE SWIMMING</td>\n",
       "      <td>2016.0</td>\n",
       "      <td>FREE SWIMMING</td>\n",
       "      <td>None</td>\n",
       "      <td>YES</td>\n",
       "      <td>2014.0</td>\n",
       "      <td>1519.0</td>\n",
       "      <td>NO</td>\n",
       "      <td>NaN</td>\n",
       "      <td>NaN</td>\n",
       "      <td>None</td>\n",
       "      <td>NaN</td>\n",
       "      <td>None</td>\n",
       "      <td>None</td>\n",
       "      <td>NaN</td>\n",
       "      <td>NO</td>\n",
       "      <td>NaN</td>\n",
       "      <td>NaN</td>\n",
       "      <td>NaN</td>\n",
       "      <td>NaN</td>\n",
       "      <td>NaN</td>\n",
       "      <td>None</td>\n",
       "      <td>NaN</td>\n",
       "      <td>None</td>\n",
       "      <td>None</td>\n",
       "      <td>None</td>\n",
       "      <td>None</td>\n",
       "      <td>None</td>\n",
       "      <td>None</td>\n",
       "      <td>NaN</td>\n",
       "      <td>None</td>\n",
       "      <td>None</td>\n",
       "      <td>NaN</td>\n",
       "      <td>NaN</td>\n",
       "      <td>None</td>\n",
       "      <td>None</td>\n",
       "      <td>None</td>\n",
       "      <td>None</td>\n",
       "      <td>None</td>\n",
       "      <td>NaN</td>\n",
       "      <td>None</td>\n",
       "      <td>None</td>\n",
       "      <td>NaN</td>\n",
       "      <td>NaN</td>\n",
       "      <td>NaN</td>\n",
       "      <td>NaN</td>\n",
       "      <td>NaN</td>\n",
       "      <td>NaN</td>\n",
       "      <td>NaN</td>\n",
       "      <td>None</td>\n",
       "      <td>NaN</td>\n",
       "      <td>None</td>\n",
       "      <td>None</td>\n",
       "      <td>NaN</td>\n",
       "      <td>NaN</td>\n",
       "      <td>None</td>\n",
       "      <td>None</td>\n",
       "      <td>None</td>\n",
       "      <td>NaN</td>\n",
       "      <td>NaN</td>\n",
       "      <td>NaN</td>\n",
       "      <td>NaN</td>\n",
       "      <td>NaN</td>\n",
       "      <td>NaN</td>\n",
       "      <td>None</td>\n",
       "      <td>None</td>\n",
       "      <td>None</td>\n",
       "      <td>None</td>\n",
       "      <td>None</td>\n",
       "      <td>None</td>\n",
       "      <td>NaN</td>\n",
       "      <td>None</td>\n",
       "      <td>NaN</td>\n",
       "      <td>None</td>\n",
       "      <td>NaN</td>\n",
       "      <td>None</td>\n",
       "      <td>NaN</td>\n",
       "      <td>NaN</td>\n",
       "      <td>None</td>\n",
       "      <td>MELINA PEREZ</td>\n",
       "      <td>COMPLIANCE MANAGMENT SYSTEMS SPECIALIST</td>\n",
       "      <td>melina.perez@fhr.com</td>\n",
       "      <td>361-242-8781</td>\n",
       "      <td>None</td>\n",
       "      <td>11/29/2022</td>\n",
       "      <td>KASON LAUBER</td>\n",
       "      <td>kason.lauber@fhr.com</td>\n",
       "      <td>3167080732</td>\n",
       "      <td>KASON LAUBER</td>\n",
       "      <td>3167080732</td>\n",
       "      <td>COMPLIANCE SPECIALIST</td>\n",
       "      <td>kason.lauber@fhr.com</td>\n",
       "      <td>ON 11/03/2022 FLINT HILLS RESOURCES WAS ON SIT...</td>\n",
       "    </tr>\n",
       "    <tr>\n",
       "      <th>2</th>\n",
       "      <td>11/15/2022</td>\n",
       "      <td>2022</td>\n",
       "      <td>20220253</td>\n",
       "      <td>37358</td>\n",
       "      <td>ORIGINAL FINAL</td>\n",
       "      <td>31174</td>\n",
       "      <td>SHELL PIPELINE CO., L.P.</td>\n",
       "      <td>150 NORTH DAIRY ASHFORD ROAD WCK BLDG. A</td>\n",
       "      <td>HOUSTON</td>\n",
       "      <td>TX</td>\n",
       "      <td>77079</td>\n",
       "      <td>11/2/2022 17:45</td>\n",
       "      <td>CENTRAL</td>\n",
       "      <td>YES</td>\n",
       "      <td>29.977491</td>\n",
       "      <td>-93.936475</td>\n",
       "      <td>CRUDE OIL</td>\n",
       "      <td>None</td>\n",
       "      <td>None</td>\n",
       "      <td>NaN</td>\n",
       "      <td>NaN</td>\n",
       "      <td>3.75</td>\n",
       "      <td>NaN</td>\n",
       "      <td>3.75</td>\n",
       "      <td>NO</td>\n",
       "      <td>NaN</td>\n",
       "      <td>NaN</td>\n",
       "      <td>NaN</td>\n",
       "      <td>NaN</td>\n",
       "      <td>NaN</td>\n",
       "      <td>0</td>\n",
       "      <td>NO</td>\n",
       "      <td>NaN</td>\n",
       "      <td>NaN</td>\n",
       "      <td>NaN</td>\n",
       "      <td>NaN</td>\n",
       "      <td>NaN</td>\n",
       "      <td>0</td>\n",
       "      <td>LOCAL OPERATING PERSONNEL, INCLUDING CONTRACTORS</td>\n",
       "      <td>None</td>\n",
       "      <td>OPERATOR EMPLOYEE</td>\n",
       "      <td>11/2/2022 17:45</td>\n",
       "      <td>ONSHORE TERMINAL/TANK FARM EQUIPMENT AND PIPING</td>\n",
       "      <td>ONSHORE</td>\n",
       "      <td>NORMAL OPERATION, INCLUDES PAUSES BETWEEN BATC...</td>\n",
       "      <td>YES</td>\n",
       "      <td>None</td>\n",
       "      <td>11/2/2022 18:00</td>\n",
       "      <td>11/6/2022 20:08</td>\n",
       "      <td>None</td>\n",
       "      <td>YES</td>\n",
       "      <td>OPERATOR</td>\n",
       "      <td>11/2/2022 18:24</td>\n",
       "      <td>11/2/2022 18:24</td>\n",
       "      <td>11/2/2022 17:45</td>\n",
       "      <td>11/2/2022 19:24</td>\n",
       "      <td>1351585</td>\n",
       "      <td>1351751</td>\n",
       "      <td>NO</td>\n",
       "      <td>None</td>\n",
       "      <td>None</td>\n",
       "      <td>None</td>\n",
       "      <td>NaN</td>\n",
       "      <td>None</td>\n",
       "      <td>None</td>\n",
       "      <td>None</td>\n",
       "      <td>None</td>\n",
       "      <td>None</td>\n",
       "      <td>None</td>\n",
       "      <td>None</td>\n",
       "      <td>None</td>\n",
       "      <td>None</td>\n",
       "      <td>YES</td>\n",
       "      <td>11/2/2022 17:45</td>\n",
       "      <td>YES</td>\n",
       "      <td>11/2/2022 18:30</td>\n",
       "      <td>11/2/2022 18:50</td>\n",
       "      <td>0.0</td>\n",
       "      <td>20\" ZYDECO PIPELINE</td>\n",
       "      <td>PORT NECHES TANK FARM</td>\n",
       "      <td>TX</td>\n",
       "      <td>77651</td>\n",
       "      <td>PORT NECHES</td>\n",
       "      <td>JEFFERSON COUNTY</td>\n",
       "      <td>MILEPOST</td>\n",
       "      <td>PN TANK FARM</td>\n",
       "      <td>NO</td>\n",
       "      <td>TOTALLY CONTAINED ON OPERATOR-CONTROLLED PROPERTY</td>\n",
       "      <td>UNDERGROUND</td>\n",
       "      <td>UNDER SOIL</td>\n",
       "      <td>None</td>\n",
       "      <td>66</td>\n",
       "      <td>NO</td>\n",
       "      <td>None</td>\n",
       "      <td>None</td>\n",
       "      <td>None</td>\n",
       "      <td>None</td>\n",
       "      <td>None</td>\n",
       "      <td>None</td>\n",
       "      <td>None</td>\n",
       "      <td>...</td>\n",
       "      <td>NaN</td>\n",
       "      <td>NaN</td>\n",
       "      <td>NaN</td>\n",
       "      <td>NaN</td>\n",
       "      <td>NaN</td>\n",
       "      <td>None</td>\n",
       "      <td>NaN</td>\n",
       "      <td>None</td>\n",
       "      <td>NaN</td>\n",
       "      <td>None</td>\n",
       "      <td>None</td>\n",
       "      <td>None</td>\n",
       "      <td>NaN</td>\n",
       "      <td>NaN</td>\n",
       "      <td>None</td>\n",
       "      <td>NaN</td>\n",
       "      <td>NaN</td>\n",
       "      <td>None</td>\n",
       "      <td>NaN</td>\n",
       "      <td>None</td>\n",
       "      <td>None</td>\n",
       "      <td>NaN</td>\n",
       "      <td>None</td>\n",
       "      <td>NaN</td>\n",
       "      <td>NaN</td>\n",
       "      <td>NaN</td>\n",
       "      <td>NaN</td>\n",
       "      <td>NaN</td>\n",
       "      <td>None</td>\n",
       "      <td>NaN</td>\n",
       "      <td>None</td>\n",
       "      <td>None</td>\n",
       "      <td>None</td>\n",
       "      <td>None</td>\n",
       "      <td>None</td>\n",
       "      <td>None</td>\n",
       "      <td>NaN</td>\n",
       "      <td>None</td>\n",
       "      <td>None</td>\n",
       "      <td>NaN</td>\n",
       "      <td>NaN</td>\n",
       "      <td>None</td>\n",
       "      <td>None</td>\n",
       "      <td>None</td>\n",
       "      <td>None</td>\n",
       "      <td>None</td>\n",
       "      <td>NaN</td>\n",
       "      <td>None</td>\n",
       "      <td>None</td>\n",
       "      <td>NaN</td>\n",
       "      <td>NaN</td>\n",
       "      <td>NaN</td>\n",
       "      <td>NaN</td>\n",
       "      <td>NaN</td>\n",
       "      <td>NaN</td>\n",
       "      <td>NaN</td>\n",
       "      <td>None</td>\n",
       "      <td>NaN</td>\n",
       "      <td>None</td>\n",
       "      <td>None</td>\n",
       "      <td>NaN</td>\n",
       "      <td>NaN</td>\n",
       "      <td>None</td>\n",
       "      <td>None</td>\n",
       "      <td>None</td>\n",
       "      <td>NaN</td>\n",
       "      <td>NaN</td>\n",
       "      <td>NaN</td>\n",
       "      <td>NaN</td>\n",
       "      <td>NaN</td>\n",
       "      <td>NaN</td>\n",
       "      <td>None</td>\n",
       "      <td>None</td>\n",
       "      <td>None</td>\n",
       "      <td>None</td>\n",
       "      <td>None</td>\n",
       "      <td>None</td>\n",
       "      <td>NaN</td>\n",
       "      <td>None</td>\n",
       "      <td>NaN</td>\n",
       "      <td>None</td>\n",
       "      <td>NaN</td>\n",
       "      <td>None</td>\n",
       "      <td>NaN</td>\n",
       "      <td>NaN</td>\n",
       "      <td>None</td>\n",
       "      <td>JEREME HAVARD</td>\n",
       "      <td>OPERATIONS SUPPORT COORDINATOR</td>\n",
       "      <td>jereme.havard@shell.com</td>\n",
       "      <td>4095402781</td>\n",
       "      <td>None</td>\n",
       "      <td>11/15/2022</td>\n",
       "      <td>JEREME HAVARD</td>\n",
       "      <td>jereme.havard@shell.com</td>\n",
       "      <td>4095402781</td>\n",
       "      <td>DEBORAH PRICE</td>\n",
       "      <td>9364990580</td>\n",
       "      <td>INTEGRITY AND REGULATORY SERVICES MANAGER</td>\n",
       "      <td>deborah.price@shell.com</td>\n",
       "      <td>AROUND 17:45 ON NOVEMBER 2, 2022, THE STATION ...</td>\n",
       "    </tr>\n",
       "    <tr>\n",
       "      <th>3</th>\n",
       "      <td>11/29/2022</td>\n",
       "      <td>2022</td>\n",
       "      <td>20220265</td>\n",
       "      <td>37394</td>\n",
       "      <td>ORIGINAL FINAL</td>\n",
       "      <td>22855</td>\n",
       "      <td>FLINT HILLS RESOURCES, LC</td>\n",
       "      <td>4111 EAST 37TH STREET NORTH</td>\n",
       "      <td>WICHITA</td>\n",
       "      <td>KS</td>\n",
       "      <td>67220</td>\n",
       "      <td>10/30/2022 18:30</td>\n",
       "      <td>CENTRAL</td>\n",
       "      <td>NO</td>\n",
       "      <td>27.911192</td>\n",
       "      <td>-97.411412</td>\n",
       "      <td>CRUDE OIL</td>\n",
       "      <td>None</td>\n",
       "      <td>None</td>\n",
       "      <td>NaN</td>\n",
       "      <td>NaN</td>\n",
       "      <td>0.19</td>\n",
       "      <td>NaN</td>\n",
       "      <td>0.19</td>\n",
       "      <td>NO</td>\n",
       "      <td>NaN</td>\n",
       "      <td>NaN</td>\n",
       "      <td>NaN</td>\n",
       "      <td>NaN</td>\n",
       "      <td>NaN</td>\n",
       "      <td>0</td>\n",
       "      <td>NO</td>\n",
       "      <td>NaN</td>\n",
       "      <td>NaN</td>\n",
       "      <td>NaN</td>\n",
       "      <td>NaN</td>\n",
       "      <td>NaN</td>\n",
       "      <td>0</td>\n",
       "      <td>SCADA-BASED INFORMATION (SUCH AS ALARM(S), ALE...</td>\n",
       "      <td>None</td>\n",
       "      <td>None</td>\n",
       "      <td>10/30/2022 17:44</td>\n",
       "      <td>ONSHORE PUMP/METER STATION EQUIPMENT AND PIPING</td>\n",
       "      <td>ONSHORE</td>\n",
       "      <td>NORMAL OPERATION, INCLUDES PAUSES BETWEEN BATC...</td>\n",
       "      <td>YES</td>\n",
       "      <td>None</td>\n",
       "      <td>10/30/2022 17:44</td>\n",
       "      <td>10/31/2022 17:44</td>\n",
       "      <td>None</td>\n",
       "      <td>YES</td>\n",
       "      <td>OPERATOR</td>\n",
       "      <td>10/30/2022 19:45</td>\n",
       "      <td>10/30/2022 18:30</td>\n",
       "      <td>10/30/2022 18:30</td>\n",
       "      <td>None</td>\n",
       "      <td>NRC NOTIFICATION NOT REQUIRED</td>\n",
       "      <td>None</td>\n",
       "      <td>NO</td>\n",
       "      <td>None</td>\n",
       "      <td>None</td>\n",
       "      <td>None</td>\n",
       "      <td>NaN</td>\n",
       "      <td>None</td>\n",
       "      <td>None</td>\n",
       "      <td>None</td>\n",
       "      <td>None</td>\n",
       "      <td>None</td>\n",
       "      <td>None</td>\n",
       "      <td>None</td>\n",
       "      <td>None</td>\n",
       "      <td>None</td>\n",
       "      <td>NO</td>\n",
       "      <td>None</td>\n",
       "      <td>NO</td>\n",
       "      <td>None</td>\n",
       "      <td>None</td>\n",
       "      <td>0.0</td>\n",
       "      <td>MIDWAY PUMP STATION</td>\n",
       "      <td>60510010 MIDWAY TO EAST WHITE POINT 10\"</td>\n",
       "      <td>TX</td>\n",
       "      <td>78390</td>\n",
       "      <td>Not Within a Municipality</td>\n",
       "      <td>SAN PATRICIO</td>\n",
       "      <td>SURVEY STATION NO.</td>\n",
       "      <td>520 + 90</td>\n",
       "      <td>NO</td>\n",
       "      <td>TOTALLY CONTAINED ON OPERATOR-CONTROLLED PROPERTY</td>\n",
       "      <td>ABOVEGROUND</td>\n",
       "      <td>TYPICAL ABOVEGROUND FACILITY PIPING OR APPURTE...</td>\n",
       "      <td>None</td>\n",
       "      <td>None</td>\n",
       "      <td>NO</td>\n",
       "      <td>None</td>\n",
       "      <td>None</td>\n",
       "      <td>None</td>\n",
       "      <td>None</td>\n",
       "      <td>None</td>\n",
       "      <td>None</td>\n",
       "      <td>None</td>\n",
       "      <td>...</td>\n",
       "      <td>NaN</td>\n",
       "      <td>NaN</td>\n",
       "      <td>NaN</td>\n",
       "      <td>NaN</td>\n",
       "      <td>NaN</td>\n",
       "      <td>None</td>\n",
       "      <td>NaN</td>\n",
       "      <td>None</td>\n",
       "      <td>NaN</td>\n",
       "      <td>None</td>\n",
       "      <td>None</td>\n",
       "      <td>None</td>\n",
       "      <td>NaN</td>\n",
       "      <td>NaN</td>\n",
       "      <td>None</td>\n",
       "      <td>NaN</td>\n",
       "      <td>NaN</td>\n",
       "      <td>None</td>\n",
       "      <td>NaN</td>\n",
       "      <td>None</td>\n",
       "      <td>None</td>\n",
       "      <td>NaN</td>\n",
       "      <td>None</td>\n",
       "      <td>NaN</td>\n",
       "      <td>NaN</td>\n",
       "      <td>NaN</td>\n",
       "      <td>NaN</td>\n",
       "      <td>NaN</td>\n",
       "      <td>None</td>\n",
       "      <td>NaN</td>\n",
       "      <td>None</td>\n",
       "      <td>None</td>\n",
       "      <td>None</td>\n",
       "      <td>None</td>\n",
       "      <td>None</td>\n",
       "      <td>None</td>\n",
       "      <td>NaN</td>\n",
       "      <td>None</td>\n",
       "      <td>None</td>\n",
       "      <td>NaN</td>\n",
       "      <td>NaN</td>\n",
       "      <td>None</td>\n",
       "      <td>None</td>\n",
       "      <td>None</td>\n",
       "      <td>None</td>\n",
       "      <td>None</td>\n",
       "      <td>NaN</td>\n",
       "      <td>None</td>\n",
       "      <td>None</td>\n",
       "      <td>NaN</td>\n",
       "      <td>NaN</td>\n",
       "      <td>NaN</td>\n",
       "      <td>NaN</td>\n",
       "      <td>NaN</td>\n",
       "      <td>NaN</td>\n",
       "      <td>NaN</td>\n",
       "      <td>None</td>\n",
       "      <td>NaN</td>\n",
       "      <td>None</td>\n",
       "      <td>None</td>\n",
       "      <td>NaN</td>\n",
       "      <td>NaN</td>\n",
       "      <td>None</td>\n",
       "      <td>None</td>\n",
       "      <td>None</td>\n",
       "      <td>NaN</td>\n",
       "      <td>NaN</td>\n",
       "      <td>NaN</td>\n",
       "      <td>NaN</td>\n",
       "      <td>NaN</td>\n",
       "      <td>NaN</td>\n",
       "      <td>None</td>\n",
       "      <td>YES</td>\n",
       "      <td>None</td>\n",
       "      <td>None</td>\n",
       "      <td>None</td>\n",
       "      <td>None</td>\n",
       "      <td>NaN</td>\n",
       "      <td>None</td>\n",
       "      <td>NaN</td>\n",
       "      <td>None</td>\n",
       "      <td>NaN</td>\n",
       "      <td>None</td>\n",
       "      <td>NaN</td>\n",
       "      <td>NaN</td>\n",
       "      <td>None</td>\n",
       "      <td>MERLE TEETER</td>\n",
       "      <td>SR COMPLIANCE SPECIALIST</td>\n",
       "      <td>merle.teeter@fhr.com</td>\n",
       "      <td>409-273-9482</td>\n",
       "      <td>None</td>\n",
       "      <td>11/29/2022</td>\n",
       "      <td>MERLE TEETER</td>\n",
       "      <td>merle.teeter@fhr.com</td>\n",
       "      <td>409-273-9482</td>\n",
       "      <td>MERLE TEETER</td>\n",
       "      <td>409-273-9482</td>\n",
       "      <td>SR COMPLIANCE SPECIALIST</td>\n",
       "      <td>merle.teeter@fhr.com</td>\n",
       "      <td>ON OCTOBER 30, 2022 AT APPROXIMATELY 17:44, A ...</td>\n",
       "    </tr>\n",
       "    <tr>\n",
       "      <th>4</th>\n",
       "      <td>11/28/2022</td>\n",
       "      <td>2022</td>\n",
       "      <td>20220261</td>\n",
       "      <td>37386</td>\n",
       "      <td>ORIGINAL FINAL</td>\n",
       "      <td>22610</td>\n",
       "      <td>MAGELLAN PIPELINE COMPANY, LP</td>\n",
       "      <td>ONE WILLIAMS CENTER, MD OTC-9 P.O. BOX 22186, ...</td>\n",
       "      <td>TULSA</td>\n",
       "      <td>OK</td>\n",
       "      <td>74172</td>\n",
       "      <td>10/28/2022 11:10</td>\n",
       "      <td>CENTRAL</td>\n",
       "      <td>YES</td>\n",
       "      <td>45.103927</td>\n",
       "      <td>-95.082402</td>\n",
       "      <td>REFINED AND/OR PETROLEUM PRODUCT (NON-HVL) WHI...</td>\n",
       "      <td>GASOLINE (NON-ETHANOL)</td>\n",
       "      <td>None</td>\n",
       "      <td>NaN</td>\n",
       "      <td>NaN</td>\n",
       "      <td>0.24</td>\n",
       "      <td>NaN</td>\n",
       "      <td>0.12</td>\n",
       "      <td>NO</td>\n",
       "      <td>NaN</td>\n",
       "      <td>NaN</td>\n",
       "      <td>NaN</td>\n",
       "      <td>NaN</td>\n",
       "      <td>NaN</td>\n",
       "      <td>0</td>\n",
       "      <td>NO</td>\n",
       "      <td>NaN</td>\n",
       "      <td>NaN</td>\n",
       "      <td>NaN</td>\n",
       "      <td>NaN</td>\n",
       "      <td>NaN</td>\n",
       "      <td>0</td>\n",
       "      <td>LOCAL OPERATING PERSONNEL, INCLUDING CONTRACTORS</td>\n",
       "      <td>None</td>\n",
       "      <td>OPERATOR EMPLOYEE</td>\n",
       "      <td>10/28/2022 11:10</td>\n",
       "      <td>ONSHORE PUMP/METER STATION EQUIPMENT AND PIPING</td>\n",
       "      <td>ONSHORE</td>\n",
       "      <td>NORMAL OPERATION, INCLUDES PAUSES BETWEEN BATC...</td>\n",
       "      <td>YES</td>\n",
       "      <td>None</td>\n",
       "      <td>10/28/2022 11:10</td>\n",
       "      <td>10/28/2022 12:30</td>\n",
       "      <td>None</td>\n",
       "      <td>YES</td>\n",
       "      <td>OPERATOR</td>\n",
       "      <td>10/28/2022 12:06</td>\n",
       "      <td>10/28/2022 11:10</td>\n",
       "      <td>10/28/2022 11:10</td>\n",
       "      <td>None</td>\n",
       "      <td>NRC NOTIFICATION NOT REQUIRED</td>\n",
       "      <td>None</td>\n",
       "      <td>NO</td>\n",
       "      <td>None</td>\n",
       "      <td>None</td>\n",
       "      <td>None</td>\n",
       "      <td>NaN</td>\n",
       "      <td>None</td>\n",
       "      <td>None</td>\n",
       "      <td>None</td>\n",
       "      <td>None</td>\n",
       "      <td>None</td>\n",
       "      <td>None</td>\n",
       "      <td>None</td>\n",
       "      <td>None</td>\n",
       "      <td>None</td>\n",
       "      <td>YES</td>\n",
       "      <td>10/28/2022 11:10</td>\n",
       "      <td>NO</td>\n",
       "      <td>None</td>\n",
       "      <td>None</td>\n",
       "      <td>0.0</td>\n",
       "      <td>WILLMAR</td>\n",
       "      <td>780</td>\n",
       "      <td>MN</td>\n",
       "      <td>56201</td>\n",
       "      <td>WILLMAR</td>\n",
       "      <td>KANDIYOHI</td>\n",
       "      <td>MILEPOST</td>\n",
       "      <td>0</td>\n",
       "      <td>NO</td>\n",
       "      <td>TOTALLY CONTAINED ON OPERATOR-CONTROLLED PROPERTY</td>\n",
       "      <td>ABOVEGROUND</td>\n",
       "      <td>TYPICAL ABOVEGROUND FACILITY PIPING OR APPURTE...</td>\n",
       "      <td>None</td>\n",
       "      <td>None</td>\n",
       "      <td>NO</td>\n",
       "      <td>None</td>\n",
       "      <td>None</td>\n",
       "      <td>None</td>\n",
       "      <td>None</td>\n",
       "      <td>None</td>\n",
       "      <td>None</td>\n",
       "      <td>None</td>\n",
       "      <td>...</td>\n",
       "      <td>NaN</td>\n",
       "      <td>NaN</td>\n",
       "      <td>NaN</td>\n",
       "      <td>NaN</td>\n",
       "      <td>NaN</td>\n",
       "      <td>None</td>\n",
       "      <td>NaN</td>\n",
       "      <td>None</td>\n",
       "      <td>NaN</td>\n",
       "      <td>None</td>\n",
       "      <td>None</td>\n",
       "      <td>None</td>\n",
       "      <td>NaN</td>\n",
       "      <td>NaN</td>\n",
       "      <td>None</td>\n",
       "      <td>NaN</td>\n",
       "      <td>NaN</td>\n",
       "      <td>None</td>\n",
       "      <td>NaN</td>\n",
       "      <td>None</td>\n",
       "      <td>None</td>\n",
       "      <td>NaN</td>\n",
       "      <td>None</td>\n",
       "      <td>NaN</td>\n",
       "      <td>NaN</td>\n",
       "      <td>NaN</td>\n",
       "      <td>NaN</td>\n",
       "      <td>NaN</td>\n",
       "      <td>None</td>\n",
       "      <td>NaN</td>\n",
       "      <td>None</td>\n",
       "      <td>None</td>\n",
       "      <td>None</td>\n",
       "      <td>None</td>\n",
       "      <td>None</td>\n",
       "      <td>None</td>\n",
       "      <td>NaN</td>\n",
       "      <td>None</td>\n",
       "      <td>None</td>\n",
       "      <td>NaN</td>\n",
       "      <td>NaN</td>\n",
       "      <td>None</td>\n",
       "      <td>None</td>\n",
       "      <td>None</td>\n",
       "      <td>None</td>\n",
       "      <td>None</td>\n",
       "      <td>NaN</td>\n",
       "      <td>None</td>\n",
       "      <td>None</td>\n",
       "      <td>NaN</td>\n",
       "      <td>NaN</td>\n",
       "      <td>NaN</td>\n",
       "      <td>NaN</td>\n",
       "      <td>NaN</td>\n",
       "      <td>NaN</td>\n",
       "      <td>NaN</td>\n",
       "      <td>None</td>\n",
       "      <td>NaN</td>\n",
       "      <td>None</td>\n",
       "      <td>None</td>\n",
       "      <td>NaN</td>\n",
       "      <td>NaN</td>\n",
       "      <td>None</td>\n",
       "      <td>None</td>\n",
       "      <td>None</td>\n",
       "      <td>NaN</td>\n",
       "      <td>NaN</td>\n",
       "      <td>NaN</td>\n",
       "      <td>NaN</td>\n",
       "      <td>NaN</td>\n",
       "      <td>NaN</td>\n",
       "      <td>None</td>\n",
       "      <td>None</td>\n",
       "      <td>None</td>\n",
       "      <td>None</td>\n",
       "      <td>None</td>\n",
       "      <td>None</td>\n",
       "      <td>NaN</td>\n",
       "      <td>None</td>\n",
       "      <td>NaN</td>\n",
       "      <td>None</td>\n",
       "      <td>NaN</td>\n",
       "      <td>None</td>\n",
       "      <td>NaN</td>\n",
       "      <td>NaN</td>\n",
       "      <td>YES</td>\n",
       "      <td>CAROLINE RATLIFF</td>\n",
       "      <td>STRATEGIC DATA ENGINEER</td>\n",
       "      <td>caroline.ratliff@magellanlp.com</td>\n",
       "      <td>9185747065</td>\n",
       "      <td>None</td>\n",
       "      <td>10/28/2022</td>\n",
       "      <td>None</td>\n",
       "      <td>None</td>\n",
       "      <td>None</td>\n",
       "      <td>GRACE RIESS</td>\n",
       "      <td>9185747165</td>\n",
       "      <td>SUPV. INTEGRITY MGMT AND REGULATORY COMPLIANCE</td>\n",
       "      <td>grace.riess@magellanlp.com</td>\n",
       "      <td>AT APPROXIMATELY 10:30AM, MAGELLAN OPERATIONS ...</td>\n",
       "    </tr>\n",
       "  </tbody>\n",
       "</table>\n",
       "<p>5 rows × 654 columns</p>\n",
       "</div>"
      ],
      "text/plain": [
       "  REPORT_RECEIVED_DATE  IYEAR  REPORT_NUMBER  SUPPLEMENTAL_NUMBER  \\\n",
       "0           11/29/2022   2022       20220264                37392   \n",
       "1           11/29/2022   2022       20220263                37390   \n",
       "2           11/15/2022   2022       20220253                37358   \n",
       "3           11/29/2022   2022       20220265                37394   \n",
       "4           11/28/2022   2022       20220261                37386   \n",
       "\n",
       "      REPORT_TYPE  OPERATOR_ID                                      NAME  \\\n",
       "0  ORIGINAL FINAL        40295  FUNDARE RESOURCES OPERATING COMPANY, LLC   \n",
       "1  ORIGINAL FINAL        22855                 FLINT HILLS RESOURCES, LC   \n",
       "2  ORIGINAL FINAL        31174                  SHELL PIPELINE CO., L.P.   \n",
       "3  ORIGINAL FINAL        22855                 FLINT HILLS RESOURCES, LC   \n",
       "4  ORIGINAL FINAL        22610             MAGELLAN PIPELINE COMPANY, LP   \n",
       "\n",
       "                             OPERATOR_STREET_ADDRESS OPERATOR_CITY_NAME  \\\n",
       "0                             5251 DTC PKWY STE #950  GREENWOOD VILLAGE   \n",
       "1                        4111 EAST 37TH STREET NORTH            WICHITA   \n",
       "2           150 NORTH DAIRY ASHFORD ROAD WCK BLDG. A            HOUSTON   \n",
       "3                        4111 EAST 37TH STREET NORTH            WICHITA   \n",
       "4  ONE WILLIAMS CENTER, MD OTC-9 P.O. BOX 22186, ...              TULSA   \n",
       "\n",
       "  OPERATOR_STATE_ABBREVIATION OPERATOR_POSTAL_CODE    LOCAL_DATETIME  \\\n",
       "0                          CO                80111  11/14/2022 10:00   \n",
       "1                          KS                67220   11/3/2022 15:05   \n",
       "2                          TX                77079   11/2/2022 17:45   \n",
       "3                          KS                67220  10/30/2022 18:30   \n",
       "4                          OK                74172  10/28/2022 11:10   \n",
       "\n",
       "  TIME_ZONE DAYLIGHT_SAVINGS_IND  LOCATION_LATITUDE  LOCATION_LONGITUDE  \\\n",
       "0  MOUNTAIN                  YES          40.781120         -103.944800   \n",
       "1   CENTRAL                  YES          44.881773          -92.956596   \n",
       "2   CENTRAL                  YES          29.977491          -93.936475   \n",
       "3   CENTRAL                   NO          27.911192          -97.411412   \n",
       "4   CENTRAL                  YES          45.103927          -95.082402   \n",
       "\n",
       "                             COMMODITY_RELEASED_TYPE       COMMODITY_SUBTYPE  \\\n",
       "0                                          CRUDE OIL                    None   \n",
       "1                                          CRUDE OIL                    None   \n",
       "2                                          CRUDE OIL                    None   \n",
       "3                                          CRUDE OIL                    None   \n",
       "4  REFINED AND/OR PETROLEUM PRODUCT (NON-HVL) WHI...  GASOLINE (NON-ETHANOL)   \n",
       "\n",
       "  COMMODITY_DETAILS  BLEND_DETAILS  BIO_DIESEL_DETAILS  \\\n",
       "0              None            NaN                 NaN   \n",
       "1              None            NaN                 NaN   \n",
       "2              None            NaN                 NaN   \n",
       "3              None            NaN                 NaN   \n",
       "4              None            NaN                 NaN   \n",
       "\n",
       "   UNINTENTIONAL_RELEASE_BBLS  INTENTIONAL_RELEASE_BBLS  RECOVERED_BBLS  \\\n",
       "0                       28.19                       NaN           25.50   \n",
       "1                        0.50                       NaN            0.50   \n",
       "2                        3.75                       NaN            3.75   \n",
       "3                        0.19                       NaN            0.19   \n",
       "4                        0.24                       NaN            0.12   \n",
       "\n",
       "  FATALITY_IND  NUM_EMP_FATALITIES  NUM_CONTR_FATALITIES  NUM_ER_FATALITIES  \\\n",
       "0           NO                 NaN                   NaN                NaN   \n",
       "1           NO                 NaN                   NaN                NaN   \n",
       "2           NO                 NaN                   NaN                NaN   \n",
       "3           NO                 NaN                   NaN                NaN   \n",
       "4           NO                 NaN                   NaN                NaN   \n",
       "\n",
       "   NUM_WORKER_FATALITIES  NUM_GP_FATALITIES  FATAL INJURY_IND  \\\n",
       "0                    NaN                NaN      0         NO   \n",
       "1                    NaN                NaN      0         NO   \n",
       "2                    NaN                NaN      0         NO   \n",
       "3                    NaN                NaN      0         NO   \n",
       "4                    NaN                NaN      0         NO   \n",
       "\n",
       "   NUM_EMP_INJURIES  NUM_CONTR_INJURIES  NUM_ER_INJURIES  NUM_WORKER_INJURIES  \\\n",
       "0               NaN                 NaN              NaN                  NaN   \n",
       "1               NaN                 NaN              NaN                  NaN   \n",
       "2               NaN                 NaN              NaN                  NaN   \n",
       "3               NaN                 NaN              NaN                  NaN   \n",
       "4               NaN                 NaN              NaN                  NaN   \n",
       "\n",
       "   NUM_GP_INJURIES  INJURE                                ACCIDENT_IDENTIFIER  \\\n",
       "0              NaN       0   LOCAL OPERATING PERSONNEL, INCLUDING CONTRACTORS   \n",
       "1              NaN       0   LOCAL OPERATING PERSONNEL, INCLUDING CONTRACTORS   \n",
       "2              NaN       0   LOCAL OPERATING PERSONNEL, INCLUDING CONTRACTORS   \n",
       "3              NaN       0  SCADA-BASED INFORMATION (SUCH AS ALARM(S), ALE...   \n",
       "4              NaN       0   LOCAL OPERATING PERSONNEL, INCLUDING CONTRACTORS   \n",
       "\n",
       "  ACCIDENT_DETAILS                        OPERATOR_TYPE  \\\n",
       "0             None  CONTRACTOR WORKING FOR THE OPERATOR   \n",
       "1             None                    OPERATOR EMPLOYEE   \n",
       "2             None                    OPERATOR EMPLOYEE   \n",
       "3             None                                 None   \n",
       "4             None                    OPERATOR EMPLOYEE   \n",
       "\n",
       "  INCIDENT_IDENTIFIED_DATETIME  \\\n",
       "0             11/14/2022 12:38   \n",
       "1              11/3/2022 15:05   \n",
       "2              11/2/2022 17:45   \n",
       "3             10/30/2022 17:44   \n",
       "4             10/28/2022 11:10   \n",
       "\n",
       "                              SYSTEM_PART_INVOLVED ON_OFF_SHORE  \\\n",
       "0  ONSHORE PUMP/METER STATION EQUIPMENT AND PIPING      ONSHORE   \n",
       "1          ONSHORE PIPELINE, INCLUDING VALVE SITES      ONSHORE   \n",
       "2  ONSHORE TERMINAL/TANK FARM EQUIPMENT AND PIPING      ONSHORE   \n",
       "3  ONSHORE PUMP/METER STATION EQUIPMENT AND PIPING      ONSHORE   \n",
       "4  ONSHORE PUMP/METER STATION EQUIPMENT AND PIPING      ONSHORE   \n",
       "\n",
       "                              STATUS_WHEN_IDENTIFIED  \\\n",
       "0  NORMAL OPERATION, INCLUDES PAUSES BETWEEN BATC...   \n",
       "1  NORMAL OPERATION, INCLUDES PAUSES BETWEEN BATC...   \n",
       "2  NORMAL OPERATION, INCLUDES PAUSES BETWEEN BATC...   \n",
       "3  NORMAL OPERATION, INCLUDES PAUSES BETWEEN BATC...   \n",
       "4  NORMAL OPERATION, INCLUDES PAUSES BETWEEN BATC...   \n",
       "\n",
       "  SHUTDOWN_DUE_ACCIDENT_IND SHUTDOWN_EXPLAIN SHUTDOWN_DATETIME  \\\n",
       "0                       YES             None  11/14/2022 12:42   \n",
       "1                       YES             None   11/3/2022 15:39   \n",
       "2                       YES             None   11/2/2022 18:00   \n",
       "3                       YES             None  10/30/2022 17:44   \n",
       "4                       YES             None  10/28/2022 11:10   \n",
       "\n",
       "   RESTART_DATETIME STILL_SHUTDOWN_IND COMMUNICATION_STATE_FED_IND  \\\n",
       "0  11/14/2022 16:15               None                         YES   \n",
       "1   11/3/2022 21:17               None                          NO   \n",
       "2   11/6/2022 20:08               None                         YES   \n",
       "3  10/31/2022 17:44               None                         YES   \n",
       "4  10/28/2022 12:30               None                         YES   \n",
       "\n",
       "  PARTY_INITIATED_COMMUNICATION INITIAL_RESPONDER_COM_DATETIME  \\\n",
       "0                      OPERATOR                11/15/2022 8:00   \n",
       "1                          None                           None   \n",
       "2                      OPERATOR                11/2/2022 18:24   \n",
       "3                      OPERATOR               10/30/2022 19:45   \n",
       "4                      OPERATOR               10/28/2022 12:06   \n",
       "\n",
       "   ON_SITE_DATETIME CONFIRMED_DISCOVERY_DATETIME NRC_RPT_DATETIME  \\\n",
       "0  11/14/2022 12:55             11/14/2022 12:38  11/21/2022 2:30   \n",
       "1   11/3/2022 15:05              11/3/2022 15:05             None   \n",
       "2   11/2/2022 18:24              11/2/2022 17:45  11/2/2022 19:24   \n",
       "3  10/30/2022 18:30             10/30/2022 18:30             None   \n",
       "4  10/28/2022 11:10             10/28/2022 11:10             None   \n",
       "\n",
       "                     NRC_RPT_NUM ADDITIONAL_NRC_REPORT_NUMBERS IGNITE_IND  \\\n",
       "0                        1353138                          None         NO   \n",
       "1  NRC NOTIFICATION NOT REQUIRED                          None         NO   \n",
       "2                        1351585                       1351751         NO   \n",
       "3  NRC NOTIFICATION NOT REQUIRED                          None         NO   \n",
       "4  NRC NOTIFICATION NOT REQUIRED                          None         NO   \n",
       "\n",
       "  IGNITE_DATETIME HOW_EXTINGUISHED HOW_EXTINGUISHED_OTHER_DETAIL  \\\n",
       "0            None             None                          None   \n",
       "1            None             None                          None   \n",
       "2            None             None                          None   \n",
       "3            None             None                          None   \n",
       "4            None             None                          None   \n",
       "\n",
       "   CONSUMED_BY_FIRE_IN_BARRELS EXPLODE_IND UPSTREAM_ACTION_TAKEN  \\\n",
       "0                          NaN        None                  None   \n",
       "1                          NaN        None         VALVE CLOSURE   \n",
       "2                          NaN        None                  None   \n",
       "3                          NaN        None                  None   \n",
       "4                          NaN        None                  None   \n",
       "\n",
       "  UPSTREAM_OPRTNL_CNTRL_DETAIL UPSTREAM_VALVE_CLOSE_DATETIME  \\\n",
       "0                         None                          None   \n",
       "1                         None               11/3/2022 15:17   \n",
       "2                         None                          None   \n",
       "3                         None                          None   \n",
       "4                         None                          None   \n",
       "\n",
       "  UPSTREAM_VALVE_TYPE_IND DOWNSTREAM_ACTION_TAKEN  \\\n",
       "0                    None                    None   \n",
       "1     REMOTELY CONTROLLED           VALVE CLOSURE   \n",
       "2                    None                    None   \n",
       "3                    None                    None   \n",
       "4                    None                    None   \n",
       "\n",
       "  DOWNSTREAM_OPRTNL_CNTRL_DETAIL DOWNSTREAM_VLV_CLOSE_DATETIME  \\\n",
       "0                           None                          None   \n",
       "1                           None               11/3/2022 15:39   \n",
       "2                           None                          None   \n",
       "3                           None                          None   \n",
       "4                           None                          None   \n",
       "\n",
       "  DOWNSTREAM_VALVE_TYPE_IND NOTIFY_QUALIFIED_INDIV_IND  \\\n",
       "0                      None                        YES   \n",
       "1       REMOTELY CONTROLLED                         NO   \n",
       "2                      None                        YES   \n",
       "3                      None                         NO   \n",
       "4                      None                        YES   \n",
       "\n",
       "  QUALIFIED_INDIV_NOTIF_DATETIME OIL_SPILL_REMOVAL_ORG_IND  \\\n",
       "0                11/14/2022 6:33                        NO   \n",
       "1                           None                        NO   \n",
       "2                11/2/2022 17:45                       YES   \n",
       "3                           None                        NO   \n",
       "4               10/28/2022 11:10                        NO   \n",
       "\n",
       "  OSRO_ACTIVATED_DATETIME OSRO_ARRIVED_ON_SITE_DT  NUM_PUB_EVACUATED  \\\n",
       "0                    None                    None                0.0   \n",
       "1                    None                    None                0.0   \n",
       "2         11/2/2022 18:30         11/2/2022 18:50                0.0   \n",
       "3                    None                    None                0.0   \n",
       "4                    None                    None                0.0   \n",
       "\n",
       "                      PIPE_FAC_NAME                             SEGMENT_NAME  \\\n",
       "0      REDTAIL GAS GATHERING SYSTEM                              CR 110 EAST   \n",
       "1  MINNESOTA PIPELINE LINE / LINE 1             HUGO TO COTTAGE GROVE / 5608   \n",
       "2               20\" ZYDECO PIPELINE                    PORT NECHES TANK FARM   \n",
       "3               MIDWAY PUMP STATION  60510010 MIDWAY TO EAST WHITE POINT 10\"   \n",
       "4                           WILLMAR                                      780   \n",
       "\n",
       "  ONSHORE_STATE_ABBREVIATION ONSHORE_POSTAL_CODE          ONSHORE_CITY_NAME  \\\n",
       "0                         CO               80742                 NEW RAYMER   \n",
       "1                         MN               55129                   WOODBURY   \n",
       "2                         TX               77651                PORT NECHES   \n",
       "3                         TX               78390  Not Within a Municipality   \n",
       "4                         MN               56201                    WILLMAR   \n",
       "\n",
       "  ONSHORE_COUNTY_NAME DESIGNATED_LOCATION DESIGNATED_NAME FEDERAL  \\\n",
       "0                WELD            MILEPOST            10.5      NO   \n",
       "1          WASHINGTON            MILEPOST             245      NO   \n",
       "2    JEFFERSON COUNTY            MILEPOST    PN TANK FARM      NO   \n",
       "3        SAN PATRICIO  SURVEY STATION NO.        520 + 90      NO   \n",
       "4           KANDIYOHI            MILEPOST               0      NO   \n",
       "\n",
       "                                       LOCATION_TYPE INCIDENT_AREA_TYPE  \\\n",
       "0  TOTALLY CONTAINED ON OPERATOR-CONTROLLED PROPERTY        ABOVEGROUND   \n",
       "1                              PIPELINE RIGHT-OF-WAY        UNDERGROUND   \n",
       "2  TOTALLY CONTAINED ON OPERATOR-CONTROLLED PROPERTY        UNDERGROUND   \n",
       "3  TOTALLY CONTAINED ON OPERATOR-CONTROLLED PROPERTY        ABOVEGROUND   \n",
       "4  TOTALLY CONTAINED ON OPERATOR-CONTROLLED PROPERTY        ABOVEGROUND   \n",
       "\n",
       "                               INCIDENT_AREA_SUBTYPE INCIDENT_AREA_DETAILS  \\\n",
       "0  TYPICAL ABOVEGROUND FACILITY PIPING OR APPURTE...                  None   \n",
       "1                          EXPOSED DUE TO EXCAVATION                  None   \n",
       "2                                         UNDER SOIL                  None   \n",
       "3  TYPICAL ABOVEGROUND FACILITY PIPING OR APPURTE...                  None   \n",
       "4  TYPICAL ABOVEGROUND FACILITY PIPING OR APPURTE...                  None   \n",
       "\n",
       "  DEPTH_OF_COVER CROSSING BRIDGE_CROSSING_IND BRIDGE_TYPE  \\\n",
       "0           None       NO                None        None   \n",
       "1             36       NO                None        None   \n",
       "2             66       NO                None        None   \n",
       "3           None       NO                None        None   \n",
       "4           None       NO                None        None   \n",
       "\n",
       "  RAILROAD_CROSSING_IND RAILROAD_TYPE ROAD_CROSSING_IND ROAD_TYPE  \\\n",
       "0                  None          None              None      None   \n",
       "1                  None          None              None      None   \n",
       "2                  None          None              None      None   \n",
       "3                  None          None              None      None   \n",
       "4                  None          None              None      None   \n",
       "\n",
       "  WATER_CROSSING_IND  ... EMAT_PREV_PROPUL_METHOD CPCM_RECENT_YEAR  \\\n",
       "0               None  ...                     NaN              NaN   \n",
       "1               None  ...                     NaN              NaN   \n",
       "2               None  ...                     NaN              NaN   \n",
       "3               None  ...                     NaN              NaN   \n",
       "4               None  ...                     NaN              NaN   \n",
       "\n",
       "  CPCM_RCNT_PROPUL_METHOD CPCM_PREVIOUS_YEAR CPCM_PREV_PROPUL_METHOD  \\\n",
       "0                     NaN                NaN                     NaN   \n",
       "1                     NaN                NaN                     NaN   \n",
       "2                     NaN                NaN                     NaN   \n",
       "3                     NaN                NaN                     NaN   \n",
       "4                     NaN                NaN                     NaN   \n",
       "\n",
       "    OTHER_TOOL OTHER_RECENT_YEAR OTHER_RCNT_PROPUL_METHOD OTHER_PREVIOUS_YEAR  \\\n",
       "0         None               NaN                     None                 NaN   \n",
       "1  HELICAL MFL            2021.0            FREE SWIMMING              2016.0   \n",
       "2         None               NaN                     None                 NaN   \n",
       "3         None               NaN                     None                 NaN   \n",
       "4         None               NaN                     None                 NaN   \n",
       "\n",
       "  OTHER_PREV_PROPUL_METHOD INSP_COMPL_BEFORE_DAMAGE_IND  \\\n",
       "0                     None                         None   \n",
       "1            FREE SWIMMING                         None   \n",
       "2                     None                         None   \n",
       "3                     None                         None   \n",
       "4                     None                         None   \n",
       "\n",
       "  HAS_HYDRTST_CONDUC_BEFORE_IND HYDRTST_MOST_RCNT_YEAR  \\\n",
       "0                          None                    NaN   \n",
       "1                           YES                 2014.0   \n",
       "2                          None                    NaN   \n",
       "3                          None                    NaN   \n",
       "4                          None                    NaN   \n",
       "\n",
       "  HYDRTST_MOST_RCNT_PRESSURE DIRECT_ASMNT_CONDUCTED  \\\n",
       "0                        NaN                   None   \n",
       "1                     1519.0                     NO   \n",
       "2                        NaN                   None   \n",
       "3                        NaN                   None   \n",
       "4                        NaN                   None   \n",
       "\n",
       "  DIRECT_ASMNT_AT_PNT_ACCDNT_YR DIRECT_ASMNT_PNT_NOT_IDNTF_YR  \\\n",
       "0                           NaN                           NaN   \n",
       "1                           NaN                           NaN   \n",
       "2                           NaN                           NaN   \n",
       "3                           NaN                           NaN   \n",
       "4                           NaN                           NaN   \n",
       "\n",
       "  ASMNT_ECDA_RCNT_IND ASMNT_ECDA_RCNT_YEAR  ASMNT_OTHER_RCNT_IND  \\\n",
       "0                None                  NaN                  None   \n",
       "1                None                  NaN                  None   \n",
       "2                None                  NaN                  None   \n",
       "3                None                  NaN                  None   \n",
       "4                None                  NaN                  None   \n",
       "\n",
       "  ASMNT_OTHER_TYPE ASMNT_OTHER_RCNT_YEAR NON_DESTRUCTIVE_EXAM_IND  \\\n",
       "0             None                   NaN                     None   \n",
       "1             None                   NaN                       NO   \n",
       "2             None                   NaN                     None   \n",
       "3             None                   NaN                     None   \n",
       "4             None                   NaN                     None   \n",
       "\n",
       "  EXM_RADIOGRAPHY_RCNT_YEAR EXM_WAVE_ULTRASONIC_RCNT_YEAR  \\\n",
       "0                       NaN                           NaN   \n",
       "1                       NaN                           NaN   \n",
       "2                       NaN                           NaN   \n",
       "3                       NaN                           NaN   \n",
       "4                       NaN                           NaN   \n",
       "\n",
       "  EXM_HANDL_ULTRASONIC_RCNT_YEAR EXM_WET_MGNT_PARTCL_RCNT_YEAR  \\\n",
       "0                            NaN                           NaN   \n",
       "1                            NaN                           NaN   \n",
       "2                            NaN                           NaN   \n",
       "3                            NaN                           NaN   \n",
       "4                            NaN                           NaN   \n",
       "\n",
       "  EXM_DRY_MGNT_PARTCL_RCNT_YEAR EXM_OTHER_TYPE EXM_OTHER_RCNT_YEAR  \\\n",
       "0                           NaN           None                 NaN   \n",
       "1                           NaN           None                 NaN   \n",
       "2                           NaN           None                 NaN   \n",
       "3                           NaN           None                 NaN   \n",
       "4                           NaN           None                 NaN   \n",
       "\n",
       "  EXM_RADIOGRAPHY_RCNT_IND EXM_WAVE_ULTRASONIC_RCNT_IND  \\\n",
       "0                     None                         None   \n",
       "1                     None                         None   \n",
       "2                     None                         None   \n",
       "3                     None                         None   \n",
       "4                     None                         None   \n",
       "\n",
       "   EXM_HANDL_ULTRASONIC_RCNT_IND  EXM_WET_MGNT_PARTCL_RCNT_IND  \\\n",
       "0                           None                          None   \n",
       "1                           None                          None   \n",
       "2                           None                          None   \n",
       "3                           None                          None   \n",
       "4                           None                          None   \n",
       "\n",
       "  EXM_DRY_MGNT_PARTCL_RCNT_IND EXM_OTHER_RCNT_IND  EXTRNL_COR_GALVANIC_IND  \\\n",
       "0                         None               None                      NaN   \n",
       "1                         None               None                      NaN   \n",
       "2                         None               None                      NaN   \n",
       "3                         None               None                      NaN   \n",
       "4                         None               None                      NaN   \n",
       "\n",
       "  EXTRNL_COR_ATMOSPHERIC_IND EXTRNL_COR_STRAY_CURRENT_IND  \\\n",
       "0                       None                         None   \n",
       "1                       None                         None   \n",
       "2                       None                         None   \n",
       "3                       None                         None   \n",
       "4                       None                         None   \n",
       "\n",
       "   EXTRNL_COR_MICROBIOLOGIC_IND EXTRNL_COR_SELECTIVE_SEAM_IND  \\\n",
       "0                           NaN                           NaN   \n",
       "1                           NaN                           NaN   \n",
       "2                           NaN                           NaN   \n",
       "3                           NaN                           NaN   \n",
       "4                           NaN                           NaN   \n",
       "\n",
       "  INTRNL_COR_CORROSIVE_CMDTY_IND INTRNL_COR_WTR_DRPOUT_ACID_IND  \\\n",
       "0                           None                           None   \n",
       "1                           None                           None   \n",
       "2                           None                           None   \n",
       "3                           None                           None   \n",
       "4                           None                           None   \n",
       "\n",
       "  INTRNL_COR_MICROBIOLOGIC_IND INTRNL_COR_EROSION_IND NF_EARTH_MOVEMENT_IND  \\\n",
       "0                         None                   None                  None   \n",
       "1                         None                   None                  None   \n",
       "2                         None                   None                  None   \n",
       "3                         None                   None                  None   \n",
       "4                         None                   None                  None   \n",
       "\n",
       "  NF_HEAVY_RAINS_IND NF_LIGHTNING_IND NF_TEMPERATURE_IND NF_HIGH_WINDS_IND  \\\n",
       "0                NaN             None               None               NaN   \n",
       "1                NaN             None               None               NaN   \n",
       "2                NaN             None               None               NaN   \n",
       "3                NaN             None               None               NaN   \n",
       "4                NaN             None               None               NaN   \n",
       "\n",
       "  NF_VEGITATION_ROOT_IND EXCVTN_DMG_OPERATOR_IND EXCVTN_DMG_OP_CONTRACTOR_IND  \\\n",
       "0                    NaN                     NaN                          NaN   \n",
       "1                    NaN                     NaN                          NaN   \n",
       "2                    NaN                     NaN                          NaN   \n",
       "3                    NaN                     NaN                          NaN   \n",
       "4                    NaN                     NaN                          NaN   \n",
       "\n",
       "  EXCVTN_DMG_THIRD_PARTY_IND  EXCVTN_DMG_PREVIOUS_DAMAGE_IND  \\\n",
       "0                        NaN                             NaN   \n",
       "1                        NaN                             NaN   \n",
       "2                        NaN                             NaN   \n",
       "3                        NaN                             NaN   \n",
       "4                        NaN                             NaN   \n",
       "\n",
       "   OSF_NEARBY_INDUSTRIAL_IND  OSF_VEHICLE_IND  OSF_BOAT_IND  \\\n",
       "0                        NaN             None           NaN   \n",
       "1                        NaN             None           NaN   \n",
       "2                        NaN             None           NaN   \n",
       "3                        NaN             None           NaN   \n",
       "4                        NaN             None           NaN   \n",
       "\n",
       "   OSF_OTHER_MARITIME_IND OSF_ELECTRICAL_ARCING_IND  \\\n",
       "0                    None                      None   \n",
       "1                    None                      None   \n",
       "2                    None                      None   \n",
       "3                    None                      None   \n",
       "4                    None                      None   \n",
       "\n",
       "   OSF_PREVIOUS_MECHANICAL_IND OSF_INTENTIONAL_IND  PWF_DESIGN_IND  \\\n",
       "0                          NaN                 NaN            None   \n",
       "1                          NaN                 NaN            None   \n",
       "2                          NaN                 NaN            None   \n",
       "3                          NaN                 NaN            None   \n",
       "4                          NaN                 NaN            None   \n",
       "\n",
       "  PWF_CONSTRUCTION_IND PWF_INSTALLATION_IND PWF_FABRICATION_IND  \\\n",
       "0                 None                 None                 NaN   \n",
       "1                 None                 None                 NaN   \n",
       "2                 None                 None                 NaN   \n",
       "3                 None                 None                 NaN   \n",
       "4                 None                 None                 NaN   \n",
       "\n",
       "  PWF_MANUFACTURING_IND PWF_ENV_STRESS_CORROSION_IND  \\\n",
       "0                   NaN                          NaN   \n",
       "1                   NaN                          NaN   \n",
       "2                   NaN                          NaN   \n",
       "3                   NaN                          NaN   \n",
       "4                   NaN                          NaN   \n",
       "\n",
       "  PWF_ENV_SULFIDE_STRESS_IND PWF_ENV_HYDROGEN_STRESS_IND  \\\n",
       "0                        NaN                         NaN   \n",
       "1                        NaN                         NaN   \n",
       "2                        NaN                         NaN   \n",
       "3                        NaN                         NaN   \n",
       "4                        NaN                         NaN   \n",
       "\n",
       "   PWF_ENV_HARD_SPOT_IND  EQF_CONTROL_RELEAF_IND EQF_PUMP_EQUIPMENT_IND  \\\n",
       "0                    NaN                    None                   None   \n",
       "1                    NaN                    None                   None   \n",
       "2                    NaN                    None                   None   \n",
       "3                    NaN                    None                    YES   \n",
       "4                    NaN                    None                   None   \n",
       "\n",
       "  EQF_THREADED_COUPLING_IND EQF_NON_THREADED_IND EQF_DEFECTIVE_FITTING_IND  \\\n",
       "0                      None                 None                      None   \n",
       "1                      None                 None                      None   \n",
       "2                      None                 None                      None   \n",
       "3                      None                 None                      None   \n",
       "4                      None                 None                      None   \n",
       "\n",
       "   EQF_EQUIPMENT_BODY_IND  IO_DAMAGE_BY_OPERATOR_IND IO_TANK_VESSEL_IND  \\\n",
       "0                    None                        NaN               None   \n",
       "1                    None                        NaN               None   \n",
       "2                    None                        NaN               None   \n",
       "3                    None                        NaN               None   \n",
       "4                    None                        NaN               None   \n",
       "\n",
       "  IO_VALVE_POSITION_IND IO_EQUIPMENT_OVERPRESSURE_IND  \\\n",
       "0                   NaN                          None   \n",
       "1                   NaN                          None   \n",
       "2                   NaN                          None   \n",
       "3                   NaN                          None   \n",
       "4                   NaN                          None   \n",
       "\n",
       "  IO_NOT_INSTALLED_PROPERLY_IND IO_WRONG_EQUIPMENT_IND  \\\n",
       "0                           NaN                   None   \n",
       "1                           NaN                   None   \n",
       "2                           NaN                   None   \n",
       "3                           NaN                   None   \n",
       "4                           NaN                   None   \n",
       "\n",
       "  IO_INADEQUATE_PROCEDURE_IND IO_NO_PROCEDURE_IND IO_FOLLOW_PROCEDURE_IND  \\\n",
       "0                         NaN                 NaN                    None   \n",
       "1                         NaN                 NaN                    None   \n",
       "2                         NaN                 NaN                    None   \n",
       "3                         NaN                 NaN                    None   \n",
       "4                         NaN                 NaN                     YES   \n",
       "\n",
       "      PREPARER_NAME                           PREPARER_TITLE  \\\n",
       "0      SYDNEY SMITH                            DIRECTOR EHSR   \n",
       "1      MELINA PEREZ  COMPLIANCE MANAGMENT SYSTEMS SPECIALIST   \n",
       "2     JEREME HAVARD           OPERATIONS SUPPORT COORDINATOR   \n",
       "3      MERLE TEETER                 SR COMPLIANCE SPECIALIST   \n",
       "4  CAROLINE RATLIFF                  STRATEGIC DATA ENGINEER   \n",
       "\n",
       "                    PREPARER_EMAIL PREPARER_TELEPHONE PREPARER_FAX  \\\n",
       "0      ssmith@fundareresources.com         3039104511         None   \n",
       "1             melina.perez@fhr.com       361-242-8781         None   \n",
       "2          jereme.havard@shell.com         4095402781         None   \n",
       "3             merle.teeter@fhr.com       409-273-9482         None   \n",
       "4  caroline.ratliff@magellanlp.com         9185747065         None   \n",
       "\n",
       "  PREPARED_DATE LOCAL_CONTACT_NAME          LOCAL_CONTACT_EMAIL  \\\n",
       "0    11/28/2022       SYDNEY SMITH  ssmith@fundareresources.com   \n",
       "1    11/29/2022       KASON LAUBER         kason.lauber@fhr.com   \n",
       "2    11/15/2022      JEREME HAVARD      jereme.havard@shell.com   \n",
       "3    11/29/2022       MERLE TEETER         merle.teeter@fhr.com   \n",
       "4    10/28/2022               None                         None   \n",
       "\n",
       "  LOCAL_CONTACT_TELEPHONE AUTHORIZER_NAME AUTHORIZER_TELEPHONE  \\\n",
       "0              3039104511    SYDNEY SMITH           3039104511   \n",
       "1              3167080732    KASON LAUBER           3167080732   \n",
       "2              4095402781   DEBORAH PRICE           9364990580   \n",
       "3            409-273-9482    MERLE TEETER         409-273-9482   \n",
       "4                    None     GRACE RIESS           9185747165   \n",
       "\n",
       "                                 AUTHORIZER_TITLE  \\\n",
       "0                                   DIRECTOR EHSR   \n",
       "1                           COMPLIANCE SPECIALIST   \n",
       "2       INTEGRITY AND REGULATORY SERVICES MANAGER   \n",
       "3                        SR COMPLIANCE SPECIALIST   \n",
       "4  SUPV. INTEGRITY MGMT AND REGULATORY COMPLIANCE   \n",
       "\n",
       "              AUTHORIZER_EMAIL  \\\n",
       "0  ssmith@fundareresources.com   \n",
       "1         kason.lauber@fhr.com   \n",
       "2      deborah.price@shell.com   \n",
       "3         merle.teeter@fhr.com   \n",
       "4   grace.riess@magellanlp.com   \n",
       "\n",
       "                                           NARRATIVE  \n",
       "0  ON NOVEMBER 14, 2022 A THREE-INCH VALVE FROZE ...  \n",
       "1  ON 11/03/2022 FLINT HILLS RESOURCES WAS ON SIT...  \n",
       "2  AROUND 17:45 ON NOVEMBER 2, 2022, THE STATION ...  \n",
       "3  ON OCTOBER 30, 2022 AT APPROXIMATELY 17:44, A ...  \n",
       "4  AT APPROXIMATELY 10:30AM, MAGELLAN OPERATIONS ...  \n",
       "\n",
       "[5 rows x 654 columns]"
      ]
     },
     "execution_count": 33,
     "metadata": {},
     "output_type": "execute_result"
    }
   ],
   "source": [
    "hlidf = pd.read_parquet('../data/raw_data/incidents_2010_present.parquet')\n",
    "hlidf.head()"
   ]
  },
  {
   "cell_type": "code",
   "execution_count": 34,
   "metadata": {},
   "outputs": [
    {
     "name": "stdout",
     "output_type": "stream",
     "text": [
      "<class 'pandas.core.frame.DataFrame'>\n",
      "RangeIndex: 4919 entries, 0 to 4918\n",
      "Columns: 654 entries, REPORT_RECEIVED_DATE to NARRATIVE\n",
      "dtypes: float64(158), int64(7), object(489)\n",
      "memory usage: 24.5+ MB\n"
     ]
    }
   ],
   "source": [
    "hlidf.info()"
   ]
  },
  {
   "cell_type": "code",
   "execution_count": null,
   "metadata": {},
   "outputs": [],
   "source": []
  },
  {
   "cell_type": "code",
   "execution_count": null,
   "metadata": {},
   "outputs": [],
   "source": []
  },
  {
   "cell_type": "code",
   "execution_count": null,
   "metadata": {},
   "outputs": [],
   "source": []
  },
  {
   "cell_type": "code",
   "execution_count": null,
   "metadata": {},
   "outputs": [],
   "source": []
  },
  {
   "cell_type": "code",
   "execution_count": null,
   "metadata": {},
   "outputs": [],
   "source": []
  },
  {
   "cell_type": "code",
   "execution_count": null,
   "metadata": {},
   "outputs": [],
   "source": []
  },
  {
   "cell_type": "code",
   "execution_count": null,
   "metadata": {
    "scrolled": true,
    "slideshow": {
     "slide_type": "fragment"
    }
   },
   "outputs": [],
   "source": [
    "incident_vol = incid[['LOCAL_DATETIME','NAME','ONSHORE_CITY_NAME','ONSHORE_STATE_ABBREVIATION','REPORT_TYPE','ON_OFF_SHORE','CAUSE','CAUSE_DETAILS','STRESS_SUBTYPE','STRESS_DETAILS','SYSTEM_PART_INVOLVED','ITEM_INVOLVED','LOCATION_LATITUDE', 'LOCATION_LONGITUDE', 'COMMODITY_RELEASED_TYPE', 'UNINTENTIONAL_RELEASE_BBLS', 'RECOVERED_BBLS','NARRATIVE']]\n",
    "incident_vol.head(3)"
   ]
  },
  {
   "cell_type": "code",
   "execution_count": null,
   "metadata": {
    "slideshow": {
     "slide_type": "fragment"
    }
   },
   "outputs": [],
   "source": [
    "incident_vol['NAME'].nunique()"
   ]
  },
  {
   "cell_type": "code",
   "execution_count": null,
   "metadata": {
    "slideshow": {
     "slide_type": "fragment"
    }
   },
   "outputs": [],
   "source": [
    "incident_vol['NAME'].value_counts()"
   ]
  },
  {
   "cell_type": "code",
   "execution_count": null,
   "metadata": {
    "slideshow": {
     "slide_type": "skip"
    }
   },
   "outputs": [],
   "source": [
    "mask = ~incident_vol['COMMODITY_RELEASED_TYPE'].str.contains('HVL ') # filter out HVL flammable"
   ]
  },
  {
   "cell_type": "code",
   "execution_count": null,
   "metadata": {
    "slideshow": {
     "slide_type": "skip"
    }
   },
   "outputs": [],
   "source": [
    "incid_vol_liquid_and_co2 = incident_vol[mask]"
   ]
  },
  {
   "cell_type": "code",
   "execution_count": null,
   "metadata": {
    "scrolled": true,
    "slideshow": {
     "slide_type": "skip"
    }
   },
   "outputs": [],
   "source": [
    "mask2 = ~incid_vol_liquid_and_co2['COMMODITY_RELEASED_TYPE'].str.contains('CO2')\n",
    "incid_vol_liquid = incid_vol_liquid_and_co2[mask2]\n",
    "#incid_vol_liquid['COMMODITY_RELEASED_TYPE']"
   ]
  },
  {
   "cell_type": "code",
   "execution_count": null,
   "metadata": {
    "scrolled": true,
    "slideshow": {
     "slide_type": "subslide"
    }
   },
   "outputs": [],
   "source": [
    "incid_vol_liquid.info()"
   ]
  },
  {
   "cell_type": "code",
   "execution_count": null,
   "metadata": {},
   "outputs": [],
   "source": [
    "incid_vol_liquid['NAME'].nunique()"
   ]
  },
  {
   "cell_type": "code",
   "execution_count": null,
   "metadata": {},
   "outputs": [],
   "source": [
    "incid_vol_liquid['NAME'].value_counts()"
   ]
  },
  {
   "cell_type": "code",
   "execution_count": null,
   "metadata": {},
   "outputs": [],
   "source": [
    "incid_vol_liquid['UNINTENTIONAL_RELEASE_BBLS'].sum()"
   ]
  },
  {
   "cell_type": "code",
   "execution_count": null,
   "metadata": {},
   "outputs": [],
   "source": [
    "incid_vol_liquid['RECOVERED_BBLS'].sum()"
   ]
  },
  {
   "cell_type": "code",
   "execution_count": null,
   "metadata": {
    "scrolled": true,
    "slideshow": {
     "slide_type": "slide"
    }
   },
   "outputs": [],
   "source": [
    "plt.scatter(incid_vol_liquid['UNINTENTIONAL_RELEASE_BBLS'], incid_vol_liquid['RECOVERED_BBLS'])\n",
    "plt.xlabel('volume released (bbls)')\n",
    "plt.ylabel('volume recovered (bbls)')\n",
    "plt.title('PHMSA Reported Pipeline Incidents 2010 - Present\\n(Liquid Commodity)')\n",
    "plt.savefig(fig_prefix + \"liquid-released-v-recovered.png\", dpi=350) "
   ]
  },
  {
   "cell_type": "code",
   "execution_count": null,
   "metadata": {
    "slideshow": {
     "slide_type": "subslide"
    }
   },
   "outputs": [],
   "source": [
    "# look at outliers > 20000 bbl release\n",
    "mask3 = incid_vol_liquid['UNINTENTIONAL_RELEASE_BBLS'] > 20000"
   ]
  },
  {
   "cell_type": "code",
   "execution_count": null,
   "metadata": {
    "slideshow": {
     "slide_type": "subslide"
    }
   },
   "outputs": [],
   "source": [
    "large_releases = incid_vol_liquid[mask3]"
   ]
  },
  {
   "cell_type": "code",
   "execution_count": null,
   "metadata": {},
   "outputs": [],
   "source": [
    "large_releases.reset_index(inplace=True)"
   ]
  },
  {
   "cell_type": "code",
   "execution_count": null,
   "metadata": {
    "slideshow": {
     "slide_type": "subslide"
    }
   },
   "outputs": [],
   "source": [
    "large_releases"
   ]
  },
  {
   "cell_type": "code",
   "execution_count": null,
   "metadata": {},
   "outputs": [],
   "source": [
    "large_releases.info()"
   ]
  },
  {
   "cell_type": "markdown",
   "metadata": {},
   "source": [
    "## Export large releases to geojson file"
   ]
  },
  {
   "cell_type": "code",
   "execution_count": null,
   "metadata": {},
   "outputs": [],
   "source": [
    "import json\n",
    "import geojson"
   ]
  },
  {
   "cell_type": "code",
   "execution_count": null,
   "metadata": {},
   "outputs": [],
   "source": [
    "##### SOMETHING NOT WORKING RIGHT"
   ]
  },
  {
   "cell_type": "code",
   "execution_count": null,
   "metadata": {},
   "outputs": [],
   "source": [
    "def data2geojson(df):\n",
    "    points = []\n",
    "    df.apply(lambda X: points.append((X[[\"LOCATION_LONGITUDE\"]],\n",
    "                                     X[[\"LOCATION_LATITUDE\"]]), axis=1))\n",
    "    with open('map.geojson', 'w') as fp:\n",
    "        geojson.dump(geojson.MultiPoint(points), fp, sort_keys=True)"
   ]
  },
  {
   "cell_type": "code",
   "execution_count": null,
   "metadata": {},
   "outputs": [],
   "source": [
    "large_releases[['LOCATION_LONGITUDE', 'LOCATION_LATITUDE']]"
   ]
  },
  {
   "cell_type": "code",
   "execution_count": null,
   "metadata": {},
   "outputs": [],
   "source": [
    "with open('map.geojson', 'w') as fp:\n",
    "    geojson.dump(geojson.MultiPoint([(-102.856912,48.524251),(-84.972510,42.243290)]), fp, sort_keys=True)"
   ]
  },
  {
   "cell_type": "markdown",
   "metadata": {},
   "source": [
    "## Review Chevron releases"
   ]
  },
  {
   "cell_type": "code",
   "execution_count": null,
   "metadata": {},
   "outputs": [],
   "source": [
    "incid_vol_liquid.info()"
   ]
  },
  {
   "cell_type": "code",
   "execution_count": null,
   "metadata": {},
   "outputs": [],
   "source": [
    "incid_cvx = incid_vol_liquid[incid_vol_liquid['NAME'].str.contains('CHEVRON')]"
   ]
  },
  {
   "cell_type": "code",
   "execution_count": null,
   "metadata": {},
   "outputs": [],
   "source": [
    "incid_cvx"
   ]
  },
  {
   "cell_type": "code",
   "execution_count": null,
   "metadata": {},
   "outputs": [],
   "source": [
    "incid_cvx_all = incid[(incid['NAME'].str.contains('CHEVRON')) & (incid['ONSHORE_STATE_ABBREVIATION'] == 'CO')]"
   ]
  },
  {
   "cell_type": "code",
   "execution_count": null,
   "metadata": {},
   "outputs": [],
   "source": [
    "incid_cvx_all"
   ]
  },
  {
   "cell_type": "markdown",
   "metadata": {},
   "source": [
    "## Generate Word Clouds\n",
    "\n",
    "Websites:\n",
    "\n",
    "https://www.youtube.com/watch?v=95p3cVkqYHQ\n",
    "\n",
    "https://www.youtube.com/watch?v=d_zt5XjWVn4\n",
    "\n",
    "https://stackoverflow.com/questions/16645799/how-to-create-a-word-cloud-from-a-corpus-in-python"
   ]
  },
  {
   "cell_type": "markdown",
   "metadata": {},
   "source": [
    "TODO: Generate word cloud from notes columns."
   ]
  },
  {
   "cell_type": "code",
   "execution_count": null,
   "metadata": {},
   "outputs": [],
   "source": []
  },
  {
   "cell_type": "code",
   "execution_count": null,
   "metadata": {},
   "outputs": [],
   "source": []
  },
  {
   "cell_type": "code",
   "execution_count": null,
   "metadata": {},
   "outputs": [],
   "source": []
  },
  {
   "cell_type": "code",
   "execution_count": null,
   "metadata": {
    "slideshow": {
     "slide_type": "skip"
    }
   },
   "outputs": [],
   "source": [
    "incid_vol_liquid.to_csv('2017-03-01-incidents.csv')"
   ]
  },
  {
   "cell_type": "code",
   "execution_count": null,
   "metadata": {
    "slideshow": {
     "slide_type": "slide"
    }
   },
   "outputs": [],
   "source": [
    "incid_vol_liquid['PERCENT_RECOV'] = (incid_vol_liquid['RECOVERED_BBLS'] / incid_vol_liquid['UNINTENTIONAL_RELEASE_BBLS']) * 100\n",
    "incid_vol_liquid['PERCENT_RECOV'].head()"
   ]
  },
  {
   "cell_type": "code",
   "execution_count": null,
   "metadata": {
    "slideshow": {
     "slide_type": "slide"
    }
   },
   "outputs": [],
   "source": [
    "incid_vol_liquid['PERCENT_RECOV'].plot(kind = 'hist', bins = 10)\n",
    "plt.xlabel('percent recovery')\n",
    "plt.ylabel('number of incidents')\n",
    "plt.title('PHMSA Reported Pipeline Incidents 2010 - Present\\n(Liquid Commodity)')\n",
    "plt.savefig(fig_prefix + \"liquid-percent-recovery.png\", dpi=350)"
   ]
  },
  {
   "cell_type": "code",
   "execution_count": null,
   "metadata": {
    "slideshow": {
     "slide_type": "slide"
    }
   },
   "outputs": [],
   "source": [
    "plt.scatter(incid_vol_liquid['UNINTENTIONAL_RELEASE_BBLS'], incid_vol_liquid['PERCENT_RECOV'])\n",
    "plt.xlabel('volume released (bbls)')\n",
    "plt.ylabel('percent recovered')\n",
    "plt.title('PHMSA Reported Pipeline Incidents 2010 - Present\\n(Liquid Commodity)')\n",
    "plt.savefig(fig_prefix + \"liquid-percent-recovered-by-vol-released.png\", dpi=350)"
   ]
  },
  {
   "cell_type": "code",
   "execution_count": null,
   "metadata": {
    "slideshow": {
     "slide_type": "slide"
    }
   },
   "outputs": [],
   "source": [
    "incid_vol_liquid['CAUSE'].value_counts().plot(kind = 'pie', legend=False)\n",
    "plt.savefig(fig_prefix + \"major-incident-causes-pie.png\", dpi=350)"
   ]
  },
  {
   "cell_type": "code",
   "execution_count": null,
   "metadata": {
    "slideshow": {
     "slide_type": "skip"
    }
   },
   "outputs": [],
   "source": [
    "incid_vol_liquid.columns"
   ]
  },
  {
   "cell_type": "code",
   "execution_count": null,
   "metadata": {
    "slideshow": {
     "slide_type": "subslide"
    }
   },
   "outputs": [],
   "source": [
    "incid_vol_liquid[['CAUSE', 'CAUSE_DETAILS']].head(3)"
   ]
  },
  {
   "cell_type": "code",
   "execution_count": null,
   "metadata": {
    "slideshow": {
     "slide_type": "slide"
    }
   },
   "outputs": [],
   "source": [
    "causes = incid_vol_liquid['CAUSE_DETAILS'].value_counts().sort_values(ascending=True)\n",
    "causes.tail()"
   ]
  },
  {
   "cell_type": "code",
   "execution_count": null,
   "metadata": {
    "scrolled": true,
    "slideshow": {
     "slide_type": "slide"
    }
   },
   "outputs": [],
   "source": [
    "# sns.barplot(causes.values, causes.index)\n",
    "causes.plot.barh()\n",
    "plt.xlabel('number of incidents')\n",
    "plt.title('Causes of PHMSA Reported Pipeline Incidents\\n(2010 - Present for Liquid Commodity)')\n",
    "plt.savefig(fig_prefix + \"frequency-of-causes.png\", dpi=350)"
   ]
  },
  {
   "cell_type": "code",
   "execution_count": null,
   "metadata": {
    "slideshow": {
     "slide_type": "slide"
    }
   },
   "outputs": [],
   "source": [
    "incid_vol_liquid['UNINTENTIONAL_RELEASE_BBLS'].sum()"
   ]
  },
  {
   "cell_type": "code",
   "execution_count": null,
   "metadata": {
    "slideshow": {
     "slide_type": "subslide"
    }
   },
   "outputs": [],
   "source": [
    "mask4 = incid_vol_liquid['CAUSE_DETAILS'] == 'INTERNAL CORROSION'"
   ]
  },
  {
   "cell_type": "code",
   "execution_count": null,
   "metadata": {
    "slideshow": {
     "slide_type": "subslide"
    }
   },
   "outputs": [],
   "source": [
    "incid_ic = incid_vol_liquid[mask4]"
   ]
  },
  {
   "cell_type": "code",
   "execution_count": null,
   "metadata": {
    "slideshow": {
     "slide_type": "subslide"
    }
   },
   "outputs": [],
   "source": [
    "incid_ic['UNINTENTIONAL_RELEASE_BBLS'].sum()"
   ]
  },
  {
   "cell_type": "code",
   "execution_count": null,
   "metadata": {
    "slideshow": {
     "slide_type": "slide"
    }
   },
   "outputs": [],
   "source": [
    "causes_dict = {}\n",
    "for item in causes.index:\n",
    "    item_bbl_sum = incid_vol_liquid[incid_vol_liquid['CAUSE_DETAILS'] == item]['UNINTENTIONAL_RELEASE_BBLS'].sum()\n",
    "    print('Cause {} resulted in total releases of {} bbls from 2010 to present'.format(item, item_bbl_sum))\n",
    "    causes_dict[item] = item_bbl_sum"
   ]
  },
  {
   "cell_type": "code",
   "execution_count": null,
   "metadata": {
    "slideshow": {
     "slide_type": "skip"
    }
   },
   "outputs": [],
   "source": [
    "causes_dict"
   ]
  },
  {
   "cell_type": "code",
   "execution_count": null,
   "metadata": {
    "slideshow": {
     "slide_type": "slide"
    }
   },
   "outputs": [],
   "source": [
    "causes_series = pd.Series(causes_dict).sort_values(ascending=True)\n",
    "causes_series.tail()"
   ]
  },
  {
   "cell_type": "code",
   "execution_count": null,
   "metadata": {
    "slideshow": {
     "slide_type": "slide"
    }
   },
   "outputs": [],
   "source": [
    "# sns.barplot(causes_series.values, causes_series.index)\n",
    "causes_series.plot.barh()\n",
    "plt.xlabel('total volume released (bbls)')\n",
    "plt.title('Causes of PHMSA Reported Pipeline Incidents\\n(2010 - Present for Liquid Commodity)')\n",
    "plt.savefig(fig_prefix + \"liquid-released-by-cause.png\", dpi=350)"
   ]
  },
  {
   "cell_type": "code",
   "execution_count": null,
   "metadata": {},
   "outputs": [],
   "source": [
    "causes.head()\n",
    "causes['INTENTIONAL DAMAGE']"
   ]
  },
  {
   "cell_type": "code",
   "execution_count": null,
   "metadata": {},
   "outputs": [],
   "source": [
    "causes_rate_dict = {}\n",
    "for item in causes.index:\n",
    "    item_bbl_sum = incid_vol_liquid[incid_vol_liquid['CAUSE_DETAILS'] == item]['UNINTENTIONAL_RELEASE_BBLS'].sum()\n",
    "    item_count = causes[item]\n",
    "    print('Cause {} resulted in averaage of {} bbls per release from 2010 to present'.format(item, item_bbl_sum))\n",
    "    causes_rate_dict[item] = item_bbl_sum / item_count"
   ]
  },
  {
   "cell_type": "code",
   "execution_count": null,
   "metadata": {},
   "outputs": [],
   "source": [
    "causes_rate_series = pd.Series(causes_rate_dict).sort_values(ascending=True)\n",
    "causes_rate_series.tail()"
   ]
  },
  {
   "cell_type": "code",
   "execution_count": null,
   "metadata": {},
   "outputs": [],
   "source": [
    "causes_rate_series.plot.barh()\n",
    "plt.xlabel('total volume released PER incident (bbls)')\n",
    "plt.title('Causes of PHMSA Reported Pipeline Incidents\\n(2010 - Present for Liquid Commodity)')\n",
    "plt.savefig(fig_prefix + \"liquid-released-per-incident-by-cause.png\", dpi=350)"
   ]
  },
  {
   "cell_type": "code",
   "execution_count": null,
   "metadata": {},
   "outputs": [],
   "source": [
    "mask5 = incid_vol_liquid['CAUSE_DETAILS'] == 'ENVIRONMENTAL CRACKING-RELATED'\n",
    "env_cracking = incid_vol_liquid[mask5]"
   ]
  },
  {
   "cell_type": "code",
   "execution_count": null,
   "metadata": {},
   "outputs": [],
   "source": [
    "env_cracking[['NAME', 'STRESS_SUBTYPE', 'STRESS_DETAILS', 'UNINTENTIONAL_RELEASE_BBLS']]"
   ]
  },
  {
   "cell_type": "code",
   "execution_count": null,
   "metadata": {},
   "outputs": [],
   "source": [
    "incid_vol_top_10 = incid_vol_liquid.sort(columns=['UNINTENTIONAL_RELEASE_BBLS'], ascending=False).head(10)"
   ]
  },
  {
   "cell_type": "code",
   "execution_count": null,
   "metadata": {},
   "outputs": [],
   "source": [
    "incid_vol_top_10[['UNINTENTIONAL_RELEASE_BBLS', 'NARRATIVE']]"
   ]
  },
  {
   "cell_type": "code",
   "execution_count": null,
   "metadata": {},
   "outputs": [],
   "source": [
    "incid_vol_top_10['NARRATIVE'][1475]"
   ]
  },
  {
   "cell_type": "code",
   "execution_count": null,
   "metadata": {},
   "outputs": [],
   "source": [
    "incid_vol_top_10['NARRATIVE'][2601]"
   ]
  },
  {
   "cell_type": "code",
   "execution_count": null,
   "metadata": {},
   "outputs": [],
   "source": [
    "incid_vol_top_10['NARRATIVE'][2299]"
   ]
  },
  {
   "cell_type": "code",
   "execution_count": null,
   "metadata": {},
   "outputs": [],
   "source": [
    "mask6 = incid_vol_liquid['NAME'].str.contains('PLAINS')"
   ]
  },
  {
   "cell_type": "code",
   "execution_count": null,
   "metadata": {},
   "outputs": [],
   "source": [
    "plains = incid_vol_liquid[mask6]"
   ]
  },
  {
   "cell_type": "code",
   "execution_count": null,
   "metadata": {},
   "outputs": [],
   "source": [
    "plains.columns"
   ]
  },
  {
   "cell_type": "code",
   "execution_count": null,
   "metadata": {},
   "outputs": [],
   "source": [
    "plains[['ONSHORE_CITY_NAME', 'ONSHORE_STATE_ABBREVIATION']]"
   ]
  },
  {
   "cell_type": "code",
   "execution_count": null,
   "metadata": {},
   "outputs": [],
   "source": [
    "mask7 = plains['ONSHORE_STATE_ABBREVIATION'] == 'CA'"
   ]
  },
  {
   "cell_type": "code",
   "execution_count": null,
   "metadata": {},
   "outputs": [],
   "source": [
    "plains_ca = plains[mask7]"
   ]
  },
  {
   "cell_type": "code",
   "execution_count": null,
   "metadata": {},
   "outputs": [],
   "source": [
    "plains_ca['NARRATIVE'].str.contains('SANTA')"
   ]
  },
  {
   "cell_type": "code",
   "execution_count": null,
   "metadata": {},
   "outputs": [],
   "source": [
    "plains_ca['NARRATIVE'][692]"
   ]
  },
  {
   "cell_type": "code",
   "execution_count": null,
   "metadata": {},
   "outputs": [],
   "source": [
    "incidents.iloc[692]"
   ]
  },
  {
   "cell_type": "code",
   "execution_count": null,
   "metadata": {},
   "outputs": [],
   "source": []
  }
 ],
 "metadata": {
  "celltoolbar": "Slideshow",
  "kernelspec": {
   "display_name": "eda",
   "language": "python",
   "name": "python3"
  },
  "language_info": {
   "codemirror_mode": {
    "name": "ipython",
    "version": 3
   },
   "file_extension": ".py",
   "mimetype": "text/x-python",
   "name": "python",
   "nbconvert_exporter": "python",
   "pygments_lexer": "ipython3",
   "version": "3.10.8"
  },
  "vscode": {
   "interpreter": {
    "hash": "e4e9a9bd7fe3b67c37d95b02ca44811f76f2375d64d667386a234801a70b9f70"
   }
  }
 },
 "nbformat": 4,
 "nbformat_minor": 2
}
