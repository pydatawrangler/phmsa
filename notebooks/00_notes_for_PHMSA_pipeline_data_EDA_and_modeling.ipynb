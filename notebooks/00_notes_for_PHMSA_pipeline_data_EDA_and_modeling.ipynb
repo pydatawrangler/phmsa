{
 "cells": [
  {
   "cell_type": "markdown",
   "metadata": {},
   "source": [
    "# PHMSA Pipeline Data Compilation and EDA"
   ]
  },
  {
   "attachments": {},
   "cell_type": "markdown",
   "metadata": {},
   "source": [
    "## Source Data\n",
    "\n",
    "* PHMSA Website: https://www.phmsa.dot.gov/\n",
    "* Source Data: https://www.phmsa.dot.gov/data-and-statistics/pipeline/source-data"
   ]
  },
  {
   "attachments": {},
   "cell_type": "markdown",
   "metadata": {},
   "source": [
    "## Questions to Explore\n",
    "\n",
    "* Can leading indicators be used to predict incidents?\n",
    "* Can survival/reliability analysis be used to predict incidents?\n",
    "* Why is there a higher number of incidents in certain areas of the country?"
   ]
  },
  {
   "attachments": {},
   "cell_type": "markdown",
   "metadata": {},
   "source": [
    "## Data Set Notes\n",
    "\n",
    "* Put in parquet format"
   ]
  },
  {
   "cell_type": "markdown",
   "metadata": {},
   "source": []
  }
 ],
 "metadata": {
  "kernelspec": {
   "display_name": "eda",
   "language": "python",
   "name": "python3"
  },
  "language_info": {
   "name": "python",
   "version": "3.10.8 | packaged by conda-forge | (main, Nov 24 2022, 14:07:00) [MSC v.1916 64 bit (AMD64)]"
  },
  "orig_nbformat": 4,
  "vscode": {
   "interpreter": {
    "hash": "e4e9a9bd7fe3b67c37d95b02ca44811f76f2375d64d667386a234801a70b9f70"
   }
  }
 },
 "nbformat": 4,
 "nbformat_minor": 2
}
