{
 "cells": [
  {
   "cell_type": "markdown",
   "metadata": {},
   "source": [
    "# PHMSA Data Analysis"
   ]
  },
  {
   "cell_type": "markdown",
   "metadata": {},
   "source": [
    "## Imports and Notebook Setup"
   ]
  },
  {
   "cell_type": "code",
   "execution_count": null,
   "metadata": {
    "collapsed": true,
    "slideshow": {
     "slide_type": "skip"
    }
   },
   "outputs": [],
   "source": [
    "# import numpy and pandas\n",
    "import numpy as np\n",
    "import pandas as pd\n",
    "\n",
    "# import datetime packages\n",
    "import datetime\n",
    "from datetime import datetime, date\n",
    "\n",
    "# imports for downloading zip files\n",
    "from zipfile import ZipFile\n",
    "from urllib.request import urlopen\n",
    "import os\n",
    "\n",
    "# set pandas options controlling output format  \n",
    "'''\n",
    "pd.set_option('display.notebook_repr_html', False)\n",
    "pd.set_option('display.max_columns', 8)\n",
    "pd.set_option('display.max_rows', 10)\n",
    "pd.set_option('display.width', 60)\n",
    "'''\n",
    "\n",
    "# import html utilities\n",
    "from IPython.display import IFrame\n",
    "from IPython.display import FileLink"
   ]
  },
  {
   "cell_type": "code",
   "execution_count": null,
   "metadata": {
    "collapsed": true,
    "slideshow": {
     "slide_type": "skip"
    }
   },
   "outputs": [],
   "source": [
    "# import matplotlib, seaborn, and plotnine\n",
    "import matplotlib.pyplot as plt\n",
    "import seaborn as sns\n",
    "import plotnine\n",
    "%matplotlib inline"
   ]
  },
  {
   "cell_type": "code",
   "execution_count": null,
   "metadata": {
    "collapsed": true,
    "slideshow": {
     "slide_type": "skip"
    }
   },
   "outputs": [],
   "source": [
    "# Customizations\n",
    "sns.set() # set seaborn defaults defaults\n",
    "\n",
    "# Any tweaks that normally go in .matplotlibrc, etc., should explicitly go here\n",
    "plt.rcParams['figure.figsize'] = (12, 8)\n",
    "plt.style.use('ggplot')\n",
    "# %config InlineBackend.figure_format='retina'"
   ]
  },
  {
   "cell_type": "code",
   "execution_count": null,
   "metadata": {
    "collapsed": true,
    "slideshow": {
     "slide_type": "skip"
    }
   },
   "outputs": [],
   "source": [
    "# set prefix for generating figures\n",
    "fig_date = str(datetime.now()).split()[0]\n",
    "fig_prefix = f\"figures/{fig_date}-tm-\""
   ]
  },
  {
   "cell_type": "markdown",
   "metadata": {},
   "source": [
    "## Data Source Website"
   ]
  },
  {
   "cell_type": "code",
   "execution_count": null,
   "metadata": {
    "collapsed": false,
    "slideshow": {
     "slide_type": "slide"
    }
   },
   "outputs": [],
   "source": [
    "# IFrame('http://www.phmsa.dot.gov/pipeline/library/data-stats', width = 700, height = 350)"
   ]
  },
  {
   "cell_type": "markdown",
   "metadata": {},
   "source": [
    "https://www.phmsa.dot.gov/data-and-statistics/pipeline/source-data\n",
    "\n",
    "https://www.phmsa.dot.gov/data-and-statistics/pipeline/distribution-transmission-gathering-lng-and-liquid-accident-and-incident-data"
   ]
  },
  {
   "cell_type": "markdown",
   "metadata": {},
   "source": [
    "### Download data and read into pandas dataframe and export to csv"
   ]
  },
  {
   "cell_type": "code",
   "execution_count": null,
   "metadata": {},
   "outputs": [],
   "source": [
    "url_2010_present = 'https://www.phmsa.dot.gov/sites/phmsa.dot.gov/files/data_statistics/pipeline/accident_hazardous_liquid_jan2010_present.zip'"
   ]
  },
  {
   "cell_type": "code",
   "execution_count": null,
   "metadata": {},
   "outputs": [],
   "source": [
    "url = urlopen(url_2010_present)"
   ]
  },
  {
   "cell_type": "code",
   "execution_count": null,
   "metadata": {},
   "outputs": [],
   "source": [
    "output = open('../temp_files/zipFile.zip','wb')\n",
    "output.write(url.read())\n",
    "output.close()"
   ]
  },
  {
   "cell_type": "code",
   "execution_count": null,
   "metadata": {},
   "outputs": [],
   "source": [
    "zip_obj = ZipFile('../temp_files/zipFile.zip', 'r')\n",
    "\n",
    "# https://docs.python.org/3/library/zipfile.html#zipfile.ZipFile.extract"
   ]
  },
  {
   "cell_type": "code",
   "execution_count": 51,
   "metadata": {},
   "outputs": [],
   "source": [
    "data_file = zip_obj.extract(zip_obj.filelist[0],path=\"../temp_files\")"
   ]
  },
  {
   "cell_type": "code",
   "execution_count": 53,
   "metadata": {},
   "outputs": [
    {
     "name": "stderr",
     "output_type": "stream",
     "text": [
      "C:\\Users\\tmadu\\Anaconda3\\lib\\site-packages\\IPython\\core\\interactiveshell.py:2728: DtypeWarning: Columns (62,64,65,66,67,68,69,73,75,77,78,79,80,82,90,91,103,105,118,138,139,140,172,182,183,184,185,210,212,226,228,229,240,245,249,253,264,271,273,284,288,290,292,294,296,297,302,308,310,318,322,323,335,337,341,343,371,372,375,376,381,383,385,390,401,408,409,410,411,413,415,430,431,434,437,451,462,468,469,475,476,477,480,481,482,498,504,506,508,509,516,522,524,526,529,530,531,535,536,537,545,548,551,553,554,576) have mixed types. Specify dtype option on import or set low_memory=False.\n",
      "  interactivity=interactivity, compiler=compiler, result=result)\n"
     ]
    }
   ],
   "source": [
    "incid = pd.read_table(data_file, encoding='windows-1252', parse_dates=['LOCAL_DATETIME'])"
   ]
  },
  {
   "cell_type": "code",
   "execution_count": 54,
   "metadata": {
    "collapsed": false
   },
   "outputs": [
    {
     "data": {
      "text/plain": [
       "(3255, 588)"
      ]
     },
     "execution_count": 54,
     "metadata": {},
     "output_type": "execute_result"
    }
   ],
   "source": [
    "incid.shape"
   ]
  },
  {
   "cell_type": "code",
   "execution_count": 57,
   "metadata": {
    "collapsed": false
   },
   "outputs": [
    {
     "data": {
      "text/plain": [
       "Index(['REPORT_RECEIVED_DATE', 'IYEAR', 'REPORT_NUMBER', 'SUPPLEMENTAL_NUMBER',\n",
       "       'REPORT_TYPE', 'OPERATOR_ID', 'NAME', 'OPERATOR_STREET_ADDRESS',\n",
       "       'OPERATOR_CITY_NAME', 'OPERATOR_STATE_ABBREVIATION',\n",
       "       ...\n",
       "       'PREPARER_TITLE', 'PREPARER_EMAIL', 'PREPARER_TELEPHONE',\n",
       "       'PREPARER_FAX', 'PREPARED_DATE', 'AUTHORIZER_NAME', 'AUTHORIZER_TITLE',\n",
       "       'AUTHORIZER_TELEPHONE', 'AUTHORIZER_EMAIL', 'NARRATIVE'],\n",
       "      dtype='object', length=588)"
      ]
     },
     "execution_count": 57,
     "metadata": {},
     "output_type": "execute_result"
    }
   ],
   "source": [
    "incid.columns"
   ]
  },
  {
   "cell_type": "code",
   "execution_count": 62,
   "metadata": {},
   "outputs": [],
   "source": [
    "incid.to_csv('proc_data/zip_to_csv_incidents_2010_present.csv', index=False)"
   ]
  },
  {
   "cell_type": "markdown",
   "metadata": {},
   "source": [
    "### Get key to data"
   ]
  },
  {
   "cell_type": "code",
   "execution_count": 65,
   "metadata": {},
   "outputs": [],
   "source": [
    "data_key = zip_obj.extract(zip_obj.filelist[1],path=\"data_keys\")"
   ]
  },
  {
   "cell_type": "code",
   "execution_count": 66,
   "metadata": {},
   "outputs": [
    {
     "data": {
      "text/plain": [
       "'data_keys\\\\Hazardous Liquid Accident PHMSA F7000 1 Rev 7-2014 Data fields.pdf'"
      ]
     },
     "execution_count": 66,
     "metadata": {},
     "output_type": "execute_result"
    }
   ],
   "source": [
    "data_key"
   ]
  },
  {
   "cell_type": "markdown",
   "metadata": {},
   "source": [
    "## Explore Data"
   ]
  },
  {
   "cell_type": "code",
   "execution_count": 61,
   "metadata": {
    "collapsed": false,
    "scrolled": true,
    "slideshow": {
     "slide_type": "slide"
    }
   },
   "outputs": [
    {
     "data": {
      "text/html": [
       "<div>\n",
       "<style scoped>\n",
       "    .dataframe tbody tr th:only-of-type {\n",
       "        vertical-align: middle;\n",
       "    }\n",
       "\n",
       "    .dataframe tbody tr th {\n",
       "        vertical-align: top;\n",
       "    }\n",
       "\n",
       "    .dataframe thead th {\n",
       "        text-align: right;\n",
       "    }\n",
       "</style>\n",
       "<table border=\"1\" class=\"dataframe\">\n",
       "  <thead>\n",
       "    <tr style=\"text-align: right;\">\n",
       "      <th></th>\n",
       "      <th>LOCAL_DATETIME</th>\n",
       "      <th>NAME</th>\n",
       "      <th>ONSHORE_CITY_NAME</th>\n",
       "      <th>ONSHORE_STATE_ABBREVIATION</th>\n",
       "      <th>REPORT_TYPE</th>\n",
       "      <th>ON_OFF_SHORE</th>\n",
       "      <th>CAUSE</th>\n",
       "      <th>CAUSE_DETAILS</th>\n",
       "      <th>STRESS_SUBTYPE</th>\n",
       "      <th>STRESS_DETAILS</th>\n",
       "      <th>SYSTEM_PART_INVOLVED</th>\n",
       "      <th>ITEM_INVOLVED</th>\n",
       "      <th>LOCATION_LATITUDE</th>\n",
       "      <th>LOCATION_LONGITUDE</th>\n",
       "      <th>COMMODITY_RELEASED_TYPE</th>\n",
       "      <th>UNINTENTIONAL_RELEASE_BBLS</th>\n",
       "      <th>RECOVERED_BBLS</th>\n",
       "      <th>NARRATIVE</th>\n",
       "    </tr>\n",
       "  </thead>\n",
       "  <tbody>\n",
       "    <tr>\n",
       "      <th>0</th>\n",
       "      <td>2018-02-19 00:41:00</td>\n",
       "      <td>ENTERPRISE PRODUCTS OPERATING LLC</td>\n",
       "      <td>SKELLYTOWN</td>\n",
       "      <td>TX</td>\n",
       "      <td>ORIGINAL FINAL</td>\n",
       "      <td>ONSHORE</td>\n",
       "      <td>EQUIPMENT FAILURE</td>\n",
       "      <td>THREADED CONNECTION/COUPLING FAILURE</td>\n",
       "      <td>NaN</td>\n",
       "      <td>NaN</td>\n",
       "      <td>ONSHORE PUMP/METER STATION EQUIPMENT AND PIPING</td>\n",
       "      <td>PUMP</td>\n",
       "      <td>35.571333</td>\n",
       "      <td>-101.124274</td>\n",
       "      <td>HVL OR OTHER FLAMMABLE OR TOXIC FLUID WHICH IS...</td>\n",
       "      <td>3.0</td>\n",
       "      <td>0.0</td>\n",
       "      <td>ON 2/19/2018 AN EMPLOYEE OF PHILLIPS 66 NOTIFI...</td>\n",
       "    </tr>\n",
       "    <tr>\n",
       "      <th>1</th>\n",
       "      <td>2018-02-10 22:20:00</td>\n",
       "      <td>ENTERPRISE CRUDE PIPELINE LLC</td>\n",
       "      <td>MIDLAND</td>\n",
       "      <td>TX</td>\n",
       "      <td>ORIGINAL FINAL</td>\n",
       "      <td>ONSHORE</td>\n",
       "      <td>EQUIPMENT FAILURE</td>\n",
       "      <td>OTHER EQUIPMENT FAILURE</td>\n",
       "      <td>NaN</td>\n",
       "      <td>NaN</td>\n",
       "      <td>ONSHORE TERMINAL/TANK FARM EQUIPMENT AND PIPING</td>\n",
       "      <td>INSTRUMENTATION</td>\n",
       "      <td>32.015967</td>\n",
       "      <td>-102.015996</td>\n",
       "      <td>CRUDE OIL</td>\n",
       "      <td>0.3</td>\n",
       "      <td>0.3</td>\n",
       "      <td>ON 2-10-18 AT APPROXIMATELY 22:20 LOCAL OPERAT...</td>\n",
       "    </tr>\n",
       "    <tr>\n",
       "      <th>2</th>\n",
       "      <td>2018-02-07 12:27:00</td>\n",
       "      <td>ENTERPRISE CRUDE PIPELINE LLC</td>\n",
       "      <td>PECOS</td>\n",
       "      <td>TX</td>\n",
       "      <td>ORIGINAL FINAL</td>\n",
       "      <td>ONSHORE</td>\n",
       "      <td>INCORRECT OPERATION</td>\n",
       "      <td>TANK, VESSEL, OR SUMP/SEPARATOR ALLOWED OR CAU...</td>\n",
       "      <td>NaN</td>\n",
       "      <td>NaN</td>\n",
       "      <td>ONSHORE TERMINAL/TANK FARM EQUIPMENT AND PIPING</td>\n",
       "      <td>SUMP/SEPARATOR</td>\n",
       "      <td>31.526931</td>\n",
       "      <td>-103.560759</td>\n",
       "      <td>CRUDE OIL</td>\n",
       "      <td>4.0</td>\n",
       "      <td>4.0</td>\n",
       "      <td>ON 02-07-18 AT 12:27 PIPELINE CONTROL RECEIVED...</td>\n",
       "    </tr>\n",
       "  </tbody>\n",
       "</table>\n",
       "</div>"
      ],
      "text/plain": [
       "       LOCAL_DATETIME                               NAME ONSHORE_CITY_NAME  \\\n",
       "0 2018-02-19 00:41:00  ENTERPRISE PRODUCTS OPERATING LLC        SKELLYTOWN   \n",
       "1 2018-02-10 22:20:00      ENTERPRISE CRUDE PIPELINE LLC           MIDLAND   \n",
       "2 2018-02-07 12:27:00      ENTERPRISE CRUDE PIPELINE LLC             PECOS   \n",
       "\n",
       "  ONSHORE_STATE_ABBREVIATION     REPORT_TYPE ON_OFF_SHORE  \\\n",
       "0                         TX  ORIGINAL FINAL      ONSHORE   \n",
       "1                         TX  ORIGINAL FINAL      ONSHORE   \n",
       "2                         TX  ORIGINAL FINAL      ONSHORE   \n",
       "\n",
       "                 CAUSE                                      CAUSE_DETAILS  \\\n",
       "0    EQUIPMENT FAILURE               THREADED CONNECTION/COUPLING FAILURE   \n",
       "1    EQUIPMENT FAILURE                            OTHER EQUIPMENT FAILURE   \n",
       "2  INCORRECT OPERATION  TANK, VESSEL, OR SUMP/SEPARATOR ALLOWED OR CAU...   \n",
       "\n",
       "  STRESS_SUBTYPE STRESS_DETAILS  \\\n",
       "0            NaN            NaN   \n",
       "1            NaN            NaN   \n",
       "2            NaN            NaN   \n",
       "\n",
       "                              SYSTEM_PART_INVOLVED    ITEM_INVOLVED  \\\n",
       "0  ONSHORE PUMP/METER STATION EQUIPMENT AND PIPING             PUMP   \n",
       "1  ONSHORE TERMINAL/TANK FARM EQUIPMENT AND PIPING  INSTRUMENTATION   \n",
       "2  ONSHORE TERMINAL/TANK FARM EQUIPMENT AND PIPING   SUMP/SEPARATOR   \n",
       "\n",
       "   LOCATION_LATITUDE  LOCATION_LONGITUDE  \\\n",
       "0          35.571333         -101.124274   \n",
       "1          32.015967         -102.015996   \n",
       "2          31.526931         -103.560759   \n",
       "\n",
       "                             COMMODITY_RELEASED_TYPE  \\\n",
       "0  HVL OR OTHER FLAMMABLE OR TOXIC FLUID WHICH IS...   \n",
       "1                                          CRUDE OIL   \n",
       "2                                          CRUDE OIL   \n",
       "\n",
       "   UNINTENTIONAL_RELEASE_BBLS  RECOVERED_BBLS  \\\n",
       "0                         3.0             0.0   \n",
       "1                         0.3             0.3   \n",
       "2                         4.0             4.0   \n",
       "\n",
       "                                           NARRATIVE  \n",
       "0  ON 2/19/2018 AN EMPLOYEE OF PHILLIPS 66 NOTIFI...  \n",
       "1  ON 2-10-18 AT APPROXIMATELY 22:20 LOCAL OPERAT...  \n",
       "2  ON 02-07-18 AT 12:27 PIPELINE CONTROL RECEIVED...  "
      ]
     },
     "execution_count": 61,
     "metadata": {},
     "output_type": "execute_result"
    }
   ],
   "source": [
    "incident_vol = incid[['LOCAL_DATETIME','NAME','ONSHORE_CITY_NAME','ONSHORE_STATE_ABBREVIATION','REPORT_TYPE','ON_OFF_SHORE','CAUSE','CAUSE_DETAILS','STRESS_SUBTYPE','STRESS_DETAILS','SYSTEM_PART_INVOLVED','ITEM_INVOLVED','LOCATION_LATITUDE', 'LOCATION_LONGITUDE', 'COMMODITY_RELEASED_TYPE', 'UNINTENTIONAL_RELEASE_BBLS', 'RECOVERED_BBLS','NARRATIVE']]\n",
    "incident_vol.head(3)"
   ]
  },
  {
   "cell_type": "code",
   "execution_count": 67,
   "metadata": {
    "collapsed": false
   },
   "outputs": [
    {
     "data": {
      "text/plain": [
       "258"
      ]
     },
     "execution_count": 67,
     "metadata": {},
     "output_type": "execute_result"
    }
   ],
   "source": [
    "incident_vol['NAME'].nunique()"
   ]
  },
  {
   "cell_type": "code",
   "execution_count": 68,
   "metadata": {},
   "outputs": [
    {
     "data": {
      "text/plain": [
       "ENTERPRISE CRUDE PIPELINE LLC                                           241\n",
       "SUNOCO PIPELINE L.P.                                                    196\n",
       "ENTERPRISE PRODUCTS OPERATING LLC                                       179\n",
       "PLAINS PIPELINE, L.P.                                                   175\n",
       "COLONIAL PIPELINE CO                                                    156\n",
       "MAGELLAN PIPELINE COMPANY, LP                                           154\n",
       "BUCKEYE PARTNERS, LP                                                    131\n",
       "PHILLIPS 66 PIPELINE LLC                                                101\n",
       "KINDER MORGAN LIQUID TERMINALS, LLC                                     101\n",
       "MARATHON PIPE LINE LLC                                                   97\n",
       "ENBRIDGE ENERGY, LIMITED PARTNERSHIP                                     81\n",
       "SHELL PIPELINE CO., L.P.                                                 70\n",
       "EXXONMOBIL PIPELINE CO                                                   54\n",
       "ONEOK NGL PIPELINE, LLC                                                  53\n",
       "EXPLORER PIPELINE CO                                                     49\n",
       "ONEOK NGL PIPELINE LP                                                    39\n",
       "MAGELLAN AMMONIA PIPELINE, L.P.                                          38\n",
       "KOCH PIPELINE COMPANY, L.P.                                              38\n",
       "NUSTAR PIPELINE OPERATING PARTNERSHIP L.P.                               37\n",
       "CHEVRON PIPE LINE CO                                                     36\n",
       "CONOCOPHILLIPS                                                           34\n",
       "WYOMING PIPELINE COMPANY                                                 34\n",
       "WEST TEXAS GULF PIPELINE CO                                              33\n",
       "PLANTATION PIPE LINE CO                                                  33\n",
       "JAYHAWK PIPELINE LLC                                                     33\n",
       "MID - VALLEY PIPELINE CO                                                 32\n",
       "MAGELLAN TERMINALS HOLDINGS, LP                                          31\n",
       "DCP MIDSTREAM                                                            30\n",
       "ROSE ROCK MIDSTREAM L.P.                                                 29\n",
       "HOLLY ENERGY PARTNERS - OPERATING, L.P.                                  29\n",
       "                                                                       ... \n",
       "TAMPA BAY PIPELINE CO.                                                    1\n",
       "PACIFIC COAST ENERGY COMPANY, LP                                          1\n",
       "ST. JAMES OIL CORPORATION                                                 1\n",
       "CITGO PETROLEUM CORPORATION (REFINERY)                                    1\n",
       "EXXONMOBIL REFINING AND SUPPLY COMPANY                                    1\n",
       "SKEISUI SPECIALTY CHEMICALS AMERICA                                       1\n",
       "TRI-STATES NGL PIPELINE LLC                                               1\n",
       "KURARAY AMERICA, INC.                                                     1\n",
       "ENERGY XXI USA, INC                                                       1\n",
       "NUTAAQ PIPELINE, LLC                                                      1\n",
       "WHITECAP PIPE LINE COMPANY, L.L.C.                                        1\n",
       "TOTAL PETROCHEMICALS PIPELINE USA , INC.                                  1\n",
       "ASCEND PERFORMANCE MATERIALS TEXAS INC                                    1\n",
       "THUMS LONG BEACH CO                                                       1\n",
       "DOW PIPELINE CO                                                           1\n",
       "DELEK PIPELINE TEXAS, INC                                                 1\n",
       "REPUBLIC MIDSTREAM, LLC                                                   1\n",
       "HECO - HAWAIIAN ELECTRIC COMPANY, INC.                                    1\n",
       "EXXONMOBIL PRODUCTION COMPANY, A DIVISION OF EXXON MOBIL CORPORATION      1\n",
       "DENBURY GREEN PIPELINE-TEXAS, LLC                                         1\n",
       "VELOCITY CENTRAL OKLAHOMA PIPELINE, LLC                                   1\n",
       "DOW PIPELINE CO - CAYUSE                                                  1\n",
       "TORRANCE BASIN PIPELINE COMPANY LLC                                       1\n",
       "RIMROCK MIDSTREAM                                                         1\n",
       "PERMIAN EXPRESS PARTNERS LLC                                              1\n",
       "PIPELINES OF PUERTO RICO INCD, THE                                        1\n",
       "PARAMOUNT PETROLEUM CORP                                                  1\n",
       "LOOP INC                                                                  1\n",
       "ENBRIDGE PIPELINES (EAST TEXAS) L.P.                                      1\n",
       "JP ENERGY PERMIAN, LLC                                                    1\n",
       "Name: NAME, Length: 258, dtype: int64"
      ]
     },
     "execution_count": 68,
     "metadata": {},
     "output_type": "execute_result"
    }
   ],
   "source": [
    "incident_vol['NAME'].value_counts()"
   ]
  },
  {
   "cell_type": "code",
   "execution_count": 69,
   "metadata": {
    "collapsed": false,
    "slideshow": {
     "slide_type": "skip"
    }
   },
   "outputs": [],
   "source": [
    "mask = ~incident_vol['COMMODITY_RELEASED_TYPE'].str.contains('HVL ') # filter out HVL flammable"
   ]
  },
  {
   "cell_type": "code",
   "execution_count": 70,
   "metadata": {
    "collapsed": false,
    "slideshow": {
     "slide_type": "skip"
    }
   },
   "outputs": [],
   "source": [
    "incid_vol_liquid_and_co2 = incident_vol[mask]"
   ]
  },
  {
   "cell_type": "code",
   "execution_count": 71,
   "metadata": {
    "collapsed": false,
    "scrolled": true,
    "slideshow": {
     "slide_type": "skip"
    }
   },
   "outputs": [],
   "source": [
    "mask2 = ~incid_vol_liquid_and_co2['COMMODITY_RELEASED_TYPE'].str.contains('CO2')\n",
    "incid_vol_liquid = incid_vol_liquid_and_co2[mask2]\n",
    "#incid_vol_liquid['COMMODITY_RELEASED_TYPE']"
   ]
  },
  {
   "cell_type": "code",
   "execution_count": 72,
   "metadata": {
    "collapsed": false,
    "scrolled": true,
    "slideshow": {
     "slide_type": "subslide"
    }
   },
   "outputs": [
    {
     "name": "stdout",
     "output_type": "stream",
     "text": [
      "<class 'pandas.core.frame.DataFrame'>\n",
      "Int64Index: 2707 entries, 1 to 3253\n",
      "Data columns (total 18 columns):\n",
      "LOCAL_DATETIME                2707 non-null datetime64[ns]\n",
      "NAME                          2707 non-null object\n",
      "ONSHORE_CITY_NAME             2619 non-null object\n",
      "ONSHORE_STATE_ABBREVIATION    2687 non-null object\n",
      "REPORT_TYPE                   2707 non-null object\n",
      "ON_OFF_SHORE                  2707 non-null object\n",
      "CAUSE                         2707 non-null object\n",
      "CAUSE_DETAILS                 2707 non-null object\n",
      "STRESS_SUBTYPE                10 non-null object\n",
      "STRESS_DETAILS                7 non-null object\n",
      "SYSTEM_PART_INVOLVED          2707 non-null object\n",
      "ITEM_INVOLVED                 2707 non-null object\n",
      "LOCATION_LATITUDE             2707 non-null float64\n",
      "LOCATION_LONGITUDE            2707 non-null float64\n",
      "COMMODITY_RELEASED_TYPE       2707 non-null object\n",
      "UNINTENTIONAL_RELEASE_BBLS    2707 non-null float64\n",
      "RECOVERED_BBLS                2707 non-null float64\n",
      "NARRATIVE                     2679 non-null object\n",
      "dtypes: datetime64[ns](1), float64(4), object(13)\n",
      "memory usage: 401.8+ KB\n"
     ]
    }
   ],
   "source": [
    "incid_vol_liquid.info()"
   ]
  },
  {
   "cell_type": "code",
   "execution_count": 73,
   "metadata": {
    "collapsed": false
   },
   "outputs": [
    {
     "data": {
      "text/plain": [
       "211"
      ]
     },
     "execution_count": 73,
     "metadata": {},
     "output_type": "execute_result"
    }
   ],
   "source": [
    "incid_vol_liquid['NAME'].nunique()"
   ]
  },
  {
   "cell_type": "code",
   "execution_count": 74,
   "metadata": {},
   "outputs": [
    {
     "data": {
      "text/plain": [
       "ENTERPRISE CRUDE PIPELINE LLC                 241\n",
       "SUNOCO PIPELINE L.P.                          189\n",
       "PLAINS PIPELINE, L.P.                         175\n",
       "COLONIAL PIPELINE CO                          156\n",
       "MAGELLAN PIPELINE COMPANY, LP                 150\n",
       "BUCKEYE PARTNERS, LP                          129\n",
       "KINDER MORGAN LIQUID TERMINALS, LLC           101\n",
       "MARATHON PIPE LINE LLC                         88\n",
       "PHILLIPS 66 PIPELINE LLC                       80\n",
       "ENBRIDGE ENERGY, LIMITED PARTNERSHIP           79\n",
       "ENTERPRISE PRODUCTS OPERATING LLC              64\n",
       "SHELL PIPELINE CO., L.P.                       63\n",
       "EXPLORER PIPELINE CO                           49\n",
       "EXXONMOBIL PIPELINE CO                         40\n",
       "WYOMING PIPELINE COMPANY                       34\n",
       "WEST TEXAS GULF PIPELINE CO                    33\n",
       "JAYHAWK PIPELINE LLC                           33\n",
       "PLANTATION PIPE LINE CO                        33\n",
       "KOCH PIPELINE COMPANY, L.P.                    33\n",
       "MID - VALLEY PIPELINE CO                       32\n",
       "MAGELLAN TERMINALS HOLDINGS, LP                31\n",
       "CONOCOPHILLIPS                                 30\n",
       "ROSE ROCK MIDSTREAM L.P.                       29\n",
       "HOLLY ENERGY PARTNERS - OPERATING, L.P.        27\n",
       "SFPP, LP                                       26\n",
       "CHEVRON PIPE LINE CO                           23\n",
       "PLAINS MARKETING, L.P.                         21\n",
       "NUSTAR PIPELINE OPERATING PARTNERSHIP L.P.     18\n",
       "ENBRIDGE PIPELINES (OZARK) L.L.C.              17\n",
       "BELLE FOURCHE PIPELINE CO                      16\n",
       "                                             ... \n",
       "CONSOLIDATED EDISON CO OF NY                    1\n",
       "FREEPORT-MCMORAN OIL & GAS                      1\n",
       "TARGA RESOURCES OPERATING LLC                   1\n",
       "ITC PIPELINE COMPANY, LLC                       1\n",
       "TRANSMONTAIGNE OPERATING COMPANY L.P.           1\n",
       "TESORO LOGISTICS NORTHWEST PIPELINE LLC         1\n",
       "WESTERN REFINING PIPELINE COMPANY               1\n",
       "SUNOCO MIDLAND GATHERING LLC                    1\n",
       "MCCHORD PIPELINE CO.                            1\n",
       "ST. JAMES OIL CORPORATION                       1\n",
       "EXXONMOBIL REFINING AND SUPPLY COMPANY          1\n",
       "SKEISUI SPECIALTY CHEMICALS AMERICA             1\n",
       "KURARAY AMERICA, INC.                           1\n",
       "ENERGY XXI USA, INC                             1\n",
       "NUTAAQ PIPELINE, LLC                            1\n",
       "WHITECAP PIPE LINE COMPANY, L.L.C.              1\n",
       "TOTAL PETROCHEMICALS PIPELINE USA , INC.        1\n",
       "DELEK PIPELINE TEXAS, INC                       1\n",
       "REPUBLIC MIDSTREAM, LLC                         1\n",
       "HECO - HAWAIIAN ELECTRIC COMPANY, INC.          1\n",
       "TEXSTAR MIDSTREAM LOGISTICS, LP                 1\n",
       "GULF STATE PIPELINE CO INC                      1\n",
       "TORRANCE BASIN PIPELINE COMPANY LLC             1\n",
       "RIMROCK MIDSTREAM                               1\n",
       "PERMIAN EXPRESS PARTNERS LLC                    1\n",
       "PIPELINES OF PUERTO RICO INCD, THE              1\n",
       "PARAMOUNT PETROLEUM CORP                        1\n",
       "LOOP INC                                        1\n",
       "ONEOK NGL PIPELINE LP                           1\n",
       "JP ENERGY PERMIAN, LLC                          1\n",
       "Name: NAME, Length: 211, dtype: int64"
      ]
     },
     "execution_count": 74,
     "metadata": {},
     "output_type": "execute_result"
    }
   ],
   "source": [
    "incid_vol_liquid['NAME'].value_counts()"
   ]
  },
  {
   "cell_type": "code",
   "execution_count": 75,
   "metadata": {
    "collapsed": false
   },
   "outputs": [
    {
     "data": {
      "text/plain": [
       "385715.42000000004"
      ]
     },
     "execution_count": 75,
     "metadata": {},
     "output_type": "execute_result"
    }
   ],
   "source": [
    "incid_vol_liquid['UNINTENTIONAL_RELEASE_BBLS'].sum()"
   ]
  },
  {
   "cell_type": "code",
   "execution_count": 76,
   "metadata": {
    "collapsed": false
   },
   "outputs": [
    {
     "data": {
      "text/plain": [
       "250028.91"
      ]
     },
     "execution_count": 76,
     "metadata": {},
     "output_type": "execute_result"
    }
   ],
   "source": [
    "incid_vol_liquid['RECOVERED_BBLS'].sum()"
   ]
  },
  {
   "cell_type": "code",
   "execution_count": 77,
   "metadata": {
    "collapsed": false,
    "scrolled": true,
    "slideshow": {
     "slide_type": "slide"
    }
   },
   "outputs": [
    {
     "data": {
      "image/png": "[encoded data removed]",
      "text/plain": [
       "<matplotlib.figure.Figure at 0x1ce5113e160>"
      ]
     },
     "metadata": {
      "image/png": {
       "height": 723,
       "width": 1019
      }
     },
     "output_type": "display_data"
    }
   ],
   "source": [
    "plt.scatter(incid_vol_liquid['UNINTENTIONAL_RELEASE_BBLS'], incid_vol_liquid['RECOVERED_BBLS'])\n",
    "plt.xlabel('volume released (bbls)')\n",
    "plt.ylabel('volume recovered (bbls)')\n",
    "plt.title('PHMSA Reported Pipeline Incidents 2010 - Present\\n(Liquid Commodity)')\n",
    "plt.savefig(fig_prefix + \"liquid-released-v-recovered.png\", dpi=350) "
   ]
  },
  {
   "cell_type": "code",
   "execution_count": 78,
   "metadata": {
    "collapsed": false,
    "slideshow": {
     "slide_type": "subslide"
    }
   },
   "outputs": [],
   "source": [
    "# look at outliers > 20000 bbl release\n",
    "mask3 = incid_vol_liquid['UNINTENTIONAL_RELEASE_BBLS'] > 20000"
   ]
  },
  {
   "cell_type": "code",
   "execution_count": 80,
   "metadata": {
    "collapsed": false,
    "slideshow": {
     "slide_type": "subslide"
    }
   },
   "outputs": [],
   "source": [
    "large_releases = incid_vol_liquid[mask3]"
   ]
  },
  {
   "cell_type": "code",
   "execution_count": 96,
   "metadata": {},
   "outputs": [],
   "source": [
    "large_releases.reset_index(inplace=True)"
   ]
  },
  {
   "cell_type": "code",
   "execution_count": 97,
   "metadata": {
    "collapsed": false,
    "slideshow": {
     "slide_type": "subslide"
    }
   },
   "outputs": [
    {
     "data": {
      "text/html": [
       "<div>\n",
       "<style scoped>\n",
       "    .dataframe tbody tr th:only-of-type {\n",
       "        vertical-align: middle;\n",
       "    }\n",
       "\n",
       "    .dataframe tbody tr th {\n",
       "        vertical-align: top;\n",
       "    }\n",
       "\n",
       "    .dataframe thead th {\n",
       "        text-align: right;\n",
       "    }\n",
       "</style>\n",
       "<table border=\"1\" class=\"dataframe\">\n",
       "  <thead>\n",
       "    <tr style=\"text-align: right;\">\n",
       "      <th></th>\n",
       "      <th>index</th>\n",
       "      <th>LOCAL_DATETIME</th>\n",
       "      <th>NAME</th>\n",
       "      <th>ONSHORE_CITY_NAME</th>\n",
       "      <th>ONSHORE_STATE_ABBREVIATION</th>\n",
       "      <th>REPORT_TYPE</th>\n",
       "      <th>ON_OFF_SHORE</th>\n",
       "      <th>CAUSE</th>\n",
       "      <th>CAUSE_DETAILS</th>\n",
       "      <th>STRESS_SUBTYPE</th>\n",
       "      <th>STRESS_DETAILS</th>\n",
       "      <th>SYSTEM_PART_INVOLVED</th>\n",
       "      <th>ITEM_INVOLVED</th>\n",
       "      <th>LOCATION_LATITUDE</th>\n",
       "      <th>LOCATION_LONGITUDE</th>\n",
       "      <th>COMMODITY_RELEASED_TYPE</th>\n",
       "      <th>UNINTENTIONAL_RELEASE_BBLS</th>\n",
       "      <th>RECOVERED_BBLS</th>\n",
       "      <th>NARRATIVE</th>\n",
       "    </tr>\n",
       "  </thead>\n",
       "  <tbody>\n",
       "    <tr>\n",
       "      <th>0</th>\n",
       "      <td>1935</td>\n",
       "      <td>2013-07-29 00:00:00</td>\n",
       "      <td>TESORO HIGH PLAINS PIPELINE COMPANY LLC</td>\n",
       "      <td>NaN</td>\n",
       "      <td>ND</td>\n",
       "      <td>SUPPLEMENTAL FINAL</td>\n",
       "      <td>ONSHORE</td>\n",
       "      <td>NATURAL FORCE DAMAGE</td>\n",
       "      <td>LIGHTNING</td>\n",
       "      <td>NaN</td>\n",
       "      <td>NaN</td>\n",
       "      <td>ONSHORE PIPELINE, INCLUDING VALVE SITES</td>\n",
       "      <td>PIPE</td>\n",
       "      <td>48.524251</td>\n",
       "      <td>-102.856912</td>\n",
       "      <td>CRUDE OIL</td>\n",
       "      <td>20600.0</td>\n",
       "      <td>5856.0</td>\n",
       "      <td>ON SEPTEMBER 29, 2013, TESORO HIGH PLAINS PIPE...</td>\n",
       "    </tr>\n",
       "    <tr>\n",
       "      <th>1</th>\n",
       "      <td>3060</td>\n",
       "      <td>2010-07-25 17:58:00</td>\n",
       "      <td>ENBRIDGE ENERGY, LIMITED PARTNERSHIP</td>\n",
       "      <td>MARSHALL</td>\n",
       "      <td>MI</td>\n",
       "      <td>SUPPLEMENTAL FINAL</td>\n",
       "      <td>ONSHORE</td>\n",
       "      <td>MATERIAL FAILURE OF PIPE OR WELD</td>\n",
       "      <td>ENVIRONMENTAL CRACKING-RELATED</td>\n",
       "      <td>STRESS CORROSION CRACKING</td>\n",
       "      <td>NaN</td>\n",
       "      <td>ONSHORE PIPELINE, INCLUDING VALVE SITES</td>\n",
       "      <td>PIPE</td>\n",
       "      <td>42.243290</td>\n",
       "      <td>-84.972510</td>\n",
       "      <td>CRUDE OIL</td>\n",
       "      <td>20082.0</td>\n",
       "      <td>18245.0</td>\n",
       "      <td>ON JULY 26, 2010, ENBRIDGE CONFIRMED A MAINLIN...</td>\n",
       "    </tr>\n",
       "  </tbody>\n",
       "</table>\n",
       "</div>"
      ],
      "text/plain": [
       "   index      LOCAL_DATETIME                                     NAME  \\\n",
       "0   1935 2013-07-29 00:00:00  TESORO HIGH PLAINS PIPELINE COMPANY LLC   \n",
       "1   3060 2010-07-25 17:58:00     ENBRIDGE ENERGY, LIMITED PARTNERSHIP   \n",
       "\n",
       "  ONSHORE_CITY_NAME ONSHORE_STATE_ABBREVIATION         REPORT_TYPE  \\\n",
       "0               NaN                         ND  SUPPLEMENTAL FINAL   \n",
       "1          MARSHALL                         MI  SUPPLEMENTAL FINAL   \n",
       "\n",
       "  ON_OFF_SHORE                             CAUSE  \\\n",
       "0      ONSHORE              NATURAL FORCE DAMAGE   \n",
       "1      ONSHORE  MATERIAL FAILURE OF PIPE OR WELD   \n",
       "\n",
       "                    CAUSE_DETAILS             STRESS_SUBTYPE STRESS_DETAILS  \\\n",
       "0                       LIGHTNING                        NaN            NaN   \n",
       "1  ENVIRONMENTAL CRACKING-RELATED  STRESS CORROSION CRACKING            NaN   \n",
       "\n",
       "                      SYSTEM_PART_INVOLVED ITEM_INVOLVED  LOCATION_LATITUDE  \\\n",
       "0  ONSHORE PIPELINE, INCLUDING VALVE SITES          PIPE          48.524251   \n",
       "1  ONSHORE PIPELINE, INCLUDING VALVE SITES          PIPE          42.243290   \n",
       "\n",
       "   LOCATION_LONGITUDE COMMODITY_RELEASED_TYPE  UNINTENTIONAL_RELEASE_BBLS  \\\n",
       "0         -102.856912               CRUDE OIL                     20600.0   \n",
       "1          -84.972510               CRUDE OIL                     20082.0   \n",
       "\n",
       "   RECOVERED_BBLS                                          NARRATIVE  \n",
       "0          5856.0  ON SEPTEMBER 29, 2013, TESORO HIGH PLAINS PIPE...  \n",
       "1         18245.0  ON JULY 26, 2010, ENBRIDGE CONFIRMED A MAINLIN...  "
      ]
     },
     "execution_count": 97,
     "metadata": {},
     "output_type": "execute_result"
    }
   ],
   "source": [
    "large_releases"
   ]
  },
  {
   "cell_type": "code",
   "execution_count": 119,
   "metadata": {},
   "outputs": [
    {
     "name": "stdout",
     "output_type": "stream",
     "text": [
      "<class 'pandas.core.frame.DataFrame'>\n",
      "RangeIndex: 2 entries, 0 to 1\n",
      "Data columns (total 19 columns):\n",
      "index                         2 non-null int64\n",
      "LOCAL_DATETIME                2 non-null datetime64[ns]\n",
      "NAME                          2 non-null object\n",
      "ONSHORE_CITY_NAME             1 non-null object\n",
      "ONSHORE_STATE_ABBREVIATION    2 non-null object\n",
      "REPORT_TYPE                   2 non-null object\n",
      "ON_OFF_SHORE                  2 non-null object\n",
      "CAUSE                         2 non-null object\n",
      "CAUSE_DETAILS                 2 non-null object\n",
      "STRESS_SUBTYPE                1 non-null object\n",
      "STRESS_DETAILS                0 non-null object\n",
      "SYSTEM_PART_INVOLVED          2 non-null object\n",
      "ITEM_INVOLVED                 2 non-null object\n",
      "LOCATION_LATITUDE             2 non-null float64\n",
      "LOCATION_LONGITUDE            2 non-null float64\n",
      "COMMODITY_RELEASED_TYPE       2 non-null object\n",
      "UNINTENTIONAL_RELEASE_BBLS    2 non-null float64\n",
      "RECOVERED_BBLS                2 non-null float64\n",
      "NARRATIVE                     2 non-null object\n",
      "dtypes: datetime64[ns](1), float64(4), int64(1), object(13)\n",
      "memory usage: 384.0+ bytes\n"
     ]
    }
   ],
   "source": [
    "large_releases.info()"
   ]
  },
  {
   "cell_type": "markdown",
   "metadata": {},
   "source": [
    "## Export large releases to geojson file"
   ]
  },
  {
   "cell_type": "code",
   "execution_count": 85,
   "metadata": {},
   "outputs": [],
   "source": [
    "import json\n",
    "import geojson"
   ]
  },
  {
   "cell_type": "code",
   "execution_count": 120,
   "metadata": {},
   "outputs": [],
   "source": [
    "##### SOMETHING NOT WORKING RIGHT"
   ]
  },
  {
   "cell_type": "code",
   "execution_count": 115,
   "metadata": {},
   "outputs": [],
   "source": [
    "def data2geojson(df):\n",
    "    points = []\n",
    "    df.apply(lambda X: points.append((X[[\"LOCATION_LONGITUDE\"]],\n",
    "                                     X[[\"LOCATION_LATITUDE\"]]), axis=1))\n",
    "    with open('map.geojson', 'w') as fp:\n",
    "        geojson.dump(geojson.MultiPoint(points), fp, sort_keys=True)"
   ]
  },
  {
   "cell_type": "code",
   "execution_count": 117,
   "metadata": {},
   "outputs": [
    {
     "data": {
      "text/html": [
       "<div>\n",
       "<style scoped>\n",
       "    .dataframe tbody tr th:only-of-type {\n",
       "        vertical-align: middle;\n",
       "    }\n",
       "\n",
       "    .dataframe tbody tr th {\n",
       "        vertical-align: top;\n",
       "    }\n",
       "\n",
       "    .dataframe thead th {\n",
       "        text-align: right;\n",
       "    }\n",
       "</style>\n",
       "<table border=\"1\" class=\"dataframe\">\n",
       "  <thead>\n",
       "    <tr style=\"text-align: right;\">\n",
       "      <th></th>\n",
       "      <th>LOCATION_LONGITUDE</th>\n",
       "    </tr>\n",
       "  </thead>\n",
       "  <tbody>\n",
       "    <tr>\n",
       "      <th>0</th>\n",
       "      <td>-102.856912</td>\n",
       "    </tr>\n",
       "    <tr>\n",
       "      <th>1</th>\n",
       "      <td>-84.972510</td>\n",
       "    </tr>\n",
       "  </tbody>\n",
       "</table>\n",
       "</div>"
      ],
      "text/plain": [
       "   LOCATION_LONGITUDE\n",
       "0         -102.856912\n",
       "1          -84.972510"
      ]
     },
     "execution_count": 117,
     "metadata": {},
     "output_type": "execute_result"
    }
   ],
   "source": [
    "large_releases[['LOCATION_LONGITUDE']]"
   ]
  },
  {
   "cell_type": "code",
   "execution_count": 118,
   "metadata": {},
   "outputs": [
    {
     "ename": "KeyError",
     "evalue": "(\"None of [['LOCATION_LONGITUDE']] are in the [index]\", 'occurred at index index')",
     "output_type": "error",
     "traceback": [
      "\u001b[1;31m---------------------------------------------------------------------------\u001b[0m",
      "\u001b[1;31mKeyError\u001b[0m                                  Traceback (most recent call last)",
      "\u001b[1;32m<ipython-input-118-41d964235f36>\u001b[0m in \u001b[0;36m<module>\u001b[1;34m()\u001b[0m\n\u001b[1;32m----> 1\u001b[1;33m \u001b[0mdata2geojson\u001b[0m\u001b[1;33m(\u001b[0m\u001b[0mlarge_releases\u001b[0m\u001b[1;33m)\u001b[0m\u001b[1;33m\u001b[0m\u001b[0m\n\u001b[0m",
      "\u001b[1;32m<ipython-input-115-de748662c2c2>\u001b[0m in \u001b[0;36mdata2geojson\u001b[1;34m(df)\u001b[0m\n\u001b[0;32m      1\u001b[0m \u001b[1;32mdef\u001b[0m \u001b[0mdata2geojson\u001b[0m\u001b[1;33m(\u001b[0m\u001b[0mdf\u001b[0m\u001b[1;33m)\u001b[0m\u001b[1;33m:\u001b[0m\u001b[1;33m\u001b[0m\u001b[0m\n\u001b[0;32m      2\u001b[0m     \u001b[0mpoints\u001b[0m \u001b[1;33m=\u001b[0m \u001b[1;33m[\u001b[0m\u001b[1;33m]\u001b[0m\u001b[1;33m\u001b[0m\u001b[0m\n\u001b[1;32m----> 3\u001b[1;33m     df.apply(lambda X: points.append((X[[\"LOCATION_LONGITUDE\"]],\n\u001b[0m\u001b[0;32m      4\u001b[0m                                      X[[\"LOCATION_LATITUDE\"]]), axis=1))\n\u001b[0;32m      5\u001b[0m     \u001b[1;32mwith\u001b[0m \u001b[0mopen\u001b[0m\u001b[1;33m(\u001b[0m\u001b[1;34m'map.geojson'\u001b[0m\u001b[1;33m,\u001b[0m \u001b[1;34m'w'\u001b[0m\u001b[1;33m)\u001b[0m \u001b[1;32mas\u001b[0m \u001b[0mfp\u001b[0m\u001b[1;33m:\u001b[0m\u001b[1;33m\u001b[0m\u001b[0m\n",
      "\u001b[1;32m~\\Anaconda3\\lib\\site-packages\\pandas\\core\\frame.py\u001b[0m in \u001b[0;36mapply\u001b[1;34m(self, func, axis, broadcast, raw, reduce, args, **kwds)\u001b[0m\n\u001b[0;32m   4875\u001b[0m                         \u001b[0mf\u001b[0m\u001b[1;33m,\u001b[0m \u001b[0maxis\u001b[0m\u001b[1;33m,\u001b[0m\u001b[1;33m\u001b[0m\u001b[0m\n\u001b[0;32m   4876\u001b[0m                         \u001b[0mreduce\u001b[0m\u001b[1;33m=\u001b[0m\u001b[0mreduce\u001b[0m\u001b[1;33m,\u001b[0m\u001b[1;33m\u001b[0m\u001b[0m\n\u001b[1;32m-> 4877\u001b[1;33m                         ignore_failures=ignore_failures)\n\u001b[0m\u001b[0;32m   4878\u001b[0m             \u001b[1;32melse\u001b[0m\u001b[1;33m:\u001b[0m\u001b[1;33m\u001b[0m\u001b[0m\n\u001b[0;32m   4879\u001b[0m                 \u001b[1;32mreturn\u001b[0m \u001b[0mself\u001b[0m\u001b[1;33m.\u001b[0m\u001b[0m_apply_broadcast\u001b[0m\u001b[1;33m(\u001b[0m\u001b[0mf\u001b[0m\u001b[1;33m,\u001b[0m \u001b[0maxis\u001b[0m\u001b[1;33m)\u001b[0m\u001b[1;33m\u001b[0m\u001b[0m\n",
      "\u001b[1;32m~\\Anaconda3\\lib\\site-packages\\pandas\\core\\frame.py\u001b[0m in \u001b[0;36m_apply_standard\u001b[1;34m(self, func, axis, ignore_failures, reduce)\u001b[0m\n\u001b[0;32m   4971\u001b[0m             \u001b[1;32mtry\u001b[0m\u001b[1;33m:\u001b[0m\u001b[1;33m\u001b[0m\u001b[0m\n\u001b[0;32m   4972\u001b[0m                 \u001b[1;32mfor\u001b[0m \u001b[0mi\u001b[0m\u001b[1;33m,\u001b[0m \u001b[0mv\u001b[0m \u001b[1;32min\u001b[0m \u001b[0menumerate\u001b[0m\u001b[1;33m(\u001b[0m\u001b[0mseries_gen\u001b[0m\u001b[1;33m)\u001b[0m\u001b[1;33m:\u001b[0m\u001b[1;33m\u001b[0m\u001b[0m\n\u001b[1;32m-> 4973\u001b[1;33m                     \u001b[0mresults\u001b[0m\u001b[1;33m[\u001b[0m\u001b[0mi\u001b[0m\u001b[1;33m]\u001b[0m \u001b[1;33m=\u001b[0m \u001b[0mfunc\u001b[0m\u001b[1;33m(\u001b[0m\u001b[0mv\u001b[0m\u001b[1;33m)\u001b[0m\u001b[1;33m\u001b[0m\u001b[0m\n\u001b[0m\u001b[0;32m   4974\u001b[0m                     \u001b[0mkeys\u001b[0m\u001b[1;33m.\u001b[0m\u001b[0mappend\u001b[0m\u001b[1;33m(\u001b[0m\u001b[0mv\u001b[0m\u001b[1;33m.\u001b[0m\u001b[0mname\u001b[0m\u001b[1;33m)\u001b[0m\u001b[1;33m\u001b[0m\u001b[0m\n\u001b[0;32m   4975\u001b[0m             \u001b[1;32mexcept\u001b[0m \u001b[0mException\u001b[0m \u001b[1;32mas\u001b[0m \u001b[0me\u001b[0m\u001b[1;33m:\u001b[0m\u001b[1;33m\u001b[0m\u001b[0m\n",
      "\u001b[1;32m<ipython-input-115-de748662c2c2>\u001b[0m in \u001b[0;36m<lambda>\u001b[1;34m(X)\u001b[0m\n\u001b[0;32m      1\u001b[0m \u001b[1;32mdef\u001b[0m \u001b[0mdata2geojson\u001b[0m\u001b[1;33m(\u001b[0m\u001b[0mdf\u001b[0m\u001b[1;33m)\u001b[0m\u001b[1;33m:\u001b[0m\u001b[1;33m\u001b[0m\u001b[0m\n\u001b[0;32m      2\u001b[0m     \u001b[0mpoints\u001b[0m \u001b[1;33m=\u001b[0m \u001b[1;33m[\u001b[0m\u001b[1;33m]\u001b[0m\u001b[1;33m\u001b[0m\u001b[0m\n\u001b[1;32m----> 3\u001b[1;33m     df.apply(lambda X: points.append((X[[\"LOCATION_LONGITUDE\"]],\n\u001b[0m\u001b[0;32m      4\u001b[0m                                      X[[\"LOCATION_LATITUDE\"]]), axis=1))\n\u001b[0;32m      5\u001b[0m     \u001b[1;32mwith\u001b[0m \u001b[0mopen\u001b[0m\u001b[1;33m(\u001b[0m\u001b[1;34m'map.geojson'\u001b[0m\u001b[1;33m,\u001b[0m \u001b[1;34m'w'\u001b[0m\u001b[1;33m)\u001b[0m \u001b[1;32mas\u001b[0m \u001b[0mfp\u001b[0m\u001b[1;33m:\u001b[0m\u001b[1;33m\u001b[0m\u001b[0m\n",
      "\u001b[1;32m~\\Anaconda3\\lib\\site-packages\\pandas\\core\\series.py\u001b[0m in \u001b[0;36m__getitem__\u001b[1;34m(self, key)\u001b[0m\n\u001b[0;32m    662\u001b[0m             \u001b[0mkey\u001b[0m \u001b[1;33m=\u001b[0m \u001b[0mcheck_bool_indexer\u001b[0m\u001b[1;33m(\u001b[0m\u001b[0mself\u001b[0m\u001b[1;33m.\u001b[0m\u001b[0mindex\u001b[0m\u001b[1;33m,\u001b[0m \u001b[0mkey\u001b[0m\u001b[1;33m)\u001b[0m\u001b[1;33m\u001b[0m\u001b[0m\n\u001b[0;32m    663\u001b[0m \u001b[1;33m\u001b[0m\u001b[0m\n\u001b[1;32m--> 664\u001b[1;33m         \u001b[1;32mreturn\u001b[0m \u001b[0mself\u001b[0m\u001b[1;33m.\u001b[0m\u001b[0m_get_with\u001b[0m\u001b[1;33m(\u001b[0m\u001b[0mkey\u001b[0m\u001b[1;33m)\u001b[0m\u001b[1;33m\u001b[0m\u001b[0m\n\u001b[0m\u001b[0;32m    665\u001b[0m \u001b[1;33m\u001b[0m\u001b[0m\n\u001b[0;32m    666\u001b[0m     \u001b[1;32mdef\u001b[0m \u001b[0m_get_with\u001b[0m\u001b[1;33m(\u001b[0m\u001b[0mself\u001b[0m\u001b[1;33m,\u001b[0m \u001b[0mkey\u001b[0m\u001b[1;33m)\u001b[0m\u001b[1;33m:\u001b[0m\u001b[1;33m\u001b[0m\u001b[0m\n",
      "\u001b[1;32m~\\Anaconda3\\lib\\site-packages\\pandas\\core\\series.py\u001b[0m in \u001b[0;36m_get_with\u001b[1;34m(self, key)\u001b[0m\n\u001b[0;32m    703\u001b[0m                     \u001b[1;31m# handle the dup indexing case (GH 4246)\u001b[0m\u001b[1;33m\u001b[0m\u001b[1;33m\u001b[0m\u001b[0m\n\u001b[0;32m    704\u001b[0m                     \u001b[1;32mif\u001b[0m \u001b[0misinstance\u001b[0m\u001b[1;33m(\u001b[0m\u001b[0mkey\u001b[0m\u001b[1;33m,\u001b[0m \u001b[1;33m(\u001b[0m\u001b[0mlist\u001b[0m\u001b[1;33m,\u001b[0m \u001b[0mtuple\u001b[0m\u001b[1;33m)\u001b[0m\u001b[1;33m)\u001b[0m\u001b[1;33m:\u001b[0m\u001b[1;33m\u001b[0m\u001b[0m\n\u001b[1;32m--> 705\u001b[1;33m                         \u001b[1;32mreturn\u001b[0m \u001b[0mself\u001b[0m\u001b[1;33m.\u001b[0m\u001b[0mloc\u001b[0m\u001b[1;33m[\u001b[0m\u001b[0mkey\u001b[0m\u001b[1;33m]\u001b[0m\u001b[1;33m\u001b[0m\u001b[0m\n\u001b[0m\u001b[0;32m    706\u001b[0m \u001b[1;33m\u001b[0m\u001b[0m\n\u001b[0;32m    707\u001b[0m                     \u001b[1;32mreturn\u001b[0m \u001b[0mself\u001b[0m\u001b[1;33m.\u001b[0m\u001b[0mreindex\u001b[0m\u001b[1;33m(\u001b[0m\u001b[0mkey\u001b[0m\u001b[1;33m)\u001b[0m\u001b[1;33m\u001b[0m\u001b[0m\n",
      "\u001b[1;32m~\\Anaconda3\\lib\\site-packages\\pandas\\core\\indexing.py\u001b[0m in \u001b[0;36m__getitem__\u001b[1;34m(self, key)\u001b[0m\n\u001b[0;32m   1371\u001b[0m \u001b[1;33m\u001b[0m\u001b[0m\n\u001b[0;32m   1372\u001b[0m             \u001b[0mmaybe_callable\u001b[0m \u001b[1;33m=\u001b[0m \u001b[0mcom\u001b[0m\u001b[1;33m.\u001b[0m\u001b[0m_apply_if_callable\u001b[0m\u001b[1;33m(\u001b[0m\u001b[0mkey\u001b[0m\u001b[1;33m,\u001b[0m \u001b[0mself\u001b[0m\u001b[1;33m.\u001b[0m\u001b[0mobj\u001b[0m\u001b[1;33m)\u001b[0m\u001b[1;33m\u001b[0m\u001b[0m\n\u001b[1;32m-> 1373\u001b[1;33m             \u001b[1;32mreturn\u001b[0m \u001b[0mself\u001b[0m\u001b[1;33m.\u001b[0m\u001b[0m_getitem_axis\u001b[0m\u001b[1;33m(\u001b[0m\u001b[0mmaybe_callable\u001b[0m\u001b[1;33m,\u001b[0m \u001b[0maxis\u001b[0m\u001b[1;33m=\u001b[0m\u001b[0maxis\u001b[0m\u001b[1;33m)\u001b[0m\u001b[1;33m\u001b[0m\u001b[0m\n\u001b[0m\u001b[0;32m   1374\u001b[0m \u001b[1;33m\u001b[0m\u001b[0m\n\u001b[0;32m   1375\u001b[0m     \u001b[1;32mdef\u001b[0m \u001b[0m_is_scalar_access\u001b[0m\u001b[1;33m(\u001b[0m\u001b[0mself\u001b[0m\u001b[1;33m,\u001b[0m \u001b[0mkey\u001b[0m\u001b[1;33m)\u001b[0m\u001b[1;33m:\u001b[0m\u001b[1;33m\u001b[0m\u001b[0m\n",
      "\u001b[1;32m~\\Anaconda3\\lib\\site-packages\\pandas\\core\\indexing.py\u001b[0m in \u001b[0;36m_getitem_axis\u001b[1;34m(self, key, axis)\u001b[0m\n\u001b[0;32m   1614\u001b[0m                     \u001b[1;32mraise\u001b[0m \u001b[0mValueError\u001b[0m\u001b[1;33m(\u001b[0m\u001b[1;34m'Cannot index with multidimensional key'\u001b[0m\u001b[1;33m)\u001b[0m\u001b[1;33m\u001b[0m\u001b[0m\n\u001b[0;32m   1615\u001b[0m \u001b[1;33m\u001b[0m\u001b[0m\n\u001b[1;32m-> 1616\u001b[1;33m                 \u001b[1;32mreturn\u001b[0m \u001b[0mself\u001b[0m\u001b[1;33m.\u001b[0m\u001b[0m_getitem_iterable\u001b[0m\u001b[1;33m(\u001b[0m\u001b[0mkey\u001b[0m\u001b[1;33m,\u001b[0m \u001b[0maxis\u001b[0m\u001b[1;33m=\u001b[0m\u001b[0maxis\u001b[0m\u001b[1;33m)\u001b[0m\u001b[1;33m\u001b[0m\u001b[0m\n\u001b[0m\u001b[0;32m   1617\u001b[0m \u001b[1;33m\u001b[0m\u001b[0m\n\u001b[0;32m   1618\u001b[0m             \u001b[1;31m# nested tuple slicing\u001b[0m\u001b[1;33m\u001b[0m\u001b[1;33m\u001b[0m\u001b[0m\n",
      "\u001b[1;32m~\\Anaconda3\\lib\\site-packages\\pandas\\core\\indexing.py\u001b[0m in \u001b[0;36m_getitem_iterable\u001b[1;34m(self, key, axis)\u001b[0m\n\u001b[0;32m   1113\u001b[0m \u001b[1;33m\u001b[0m\u001b[0m\n\u001b[0;32m   1114\u001b[0m         \u001b[1;32mif\u001b[0m \u001b[0mself\u001b[0m\u001b[1;33m.\u001b[0m\u001b[0m_should_validate_iterable\u001b[0m\u001b[1;33m(\u001b[0m\u001b[0maxis\u001b[0m\u001b[1;33m)\u001b[0m\u001b[1;33m:\u001b[0m\u001b[1;33m\u001b[0m\u001b[0m\n\u001b[1;32m-> 1115\u001b[1;33m             \u001b[0mself\u001b[0m\u001b[1;33m.\u001b[0m\u001b[0m_has_valid_type\u001b[0m\u001b[1;33m(\u001b[0m\u001b[0mkey\u001b[0m\u001b[1;33m,\u001b[0m \u001b[0maxis\u001b[0m\u001b[1;33m)\u001b[0m\u001b[1;33m\u001b[0m\u001b[0m\n\u001b[0m\u001b[0;32m   1116\u001b[0m \u001b[1;33m\u001b[0m\u001b[0m\n\u001b[0;32m   1117\u001b[0m         \u001b[0mlabels\u001b[0m \u001b[1;33m=\u001b[0m \u001b[0mself\u001b[0m\u001b[1;33m.\u001b[0m\u001b[0mobj\u001b[0m\u001b[1;33m.\u001b[0m\u001b[0m_get_axis\u001b[0m\u001b[1;33m(\u001b[0m\u001b[0maxis\u001b[0m\u001b[1;33m)\u001b[0m\u001b[1;33m\u001b[0m\u001b[0m\n",
      "\u001b[1;32m~\\Anaconda3\\lib\\site-packages\\pandas\\core\\indexing.py\u001b[0m in \u001b[0;36m_has_valid_type\u001b[1;34m(self, key, axis)\u001b[0m\n\u001b[0;32m   1470\u001b[0m                         raise KeyError(\n\u001b[0;32m   1471\u001b[0m                             u\"None of [{key}] are in the [{axis}]\".format(\n\u001b[1;32m-> 1472\u001b[1;33m                                 key=key, axis=self.obj._get_axis_name(axis)))\n\u001b[0m\u001b[0;32m   1473\u001b[0m                     \u001b[1;32melse\u001b[0m\u001b[1;33m:\u001b[0m\u001b[1;33m\u001b[0m\u001b[0m\n\u001b[0;32m   1474\u001b[0m \u001b[1;33m\u001b[0m\u001b[0m\n",
      "\u001b[1;31mKeyError\u001b[0m: (\"None of [['LOCATION_LONGITUDE']] are in the [index]\", 'occurred at index index')"
     ]
    }
   ],
   "source": [
    "data2geojson(large_releases)"
   ]
  },
  {
   "cell_type": "code",
   "execution_count": null,
   "metadata": {},
   "outputs": [],
   "source": []
  },
  {
   "cell_type": "code",
   "execution_count": null,
   "metadata": {},
   "outputs": [],
   "source": []
  },
  {
   "cell_type": "code",
   "execution_count": null,
   "metadata": {},
   "outputs": [],
   "source": []
  },
  {
   "cell_type": "code",
   "execution_count": null,
   "metadata": {},
   "outputs": [],
   "source": []
  },
  {
   "cell_type": "code",
   "execution_count": null,
   "metadata": {},
   "outputs": [],
   "source": []
  },
  {
   "cell_type": "code",
   "execution_count": null,
   "metadata": {},
   "outputs": [],
   "source": []
  },
  {
   "cell_type": "code",
   "execution_count": null,
   "metadata": {},
   "outputs": [],
   "source": []
  },
  {
   "cell_type": "code",
   "execution_count": null,
   "metadata": {},
   "outputs": [],
   "source": []
  },
  {
   "cell_type": "code",
   "execution_count": null,
   "metadata": {},
   "outputs": [],
   "source": []
  },
  {
   "cell_type": "code",
   "execution_count": null,
   "metadata": {},
   "outputs": [],
   "source": []
  },
  {
   "cell_type": "code",
   "execution_count": null,
   "metadata": {},
   "outputs": [],
   "source": []
  },
  {
   "cell_type": "code",
   "execution_count": null,
   "metadata": {
    "collapsed": true,
    "slideshow": {
     "slide_type": "skip"
    }
   },
   "outputs": [],
   "source": [
    "incid_vol_liquid.to_csv('2017-03-01-incidents.csv')"
   ]
  },
  {
   "cell_type": "code",
   "execution_count": null,
   "metadata": {
    "collapsed": false,
    "slideshow": {
     "slide_type": "slide"
    }
   },
   "outputs": [],
   "source": [
    "incid_vol_liquid['PERCENT_RECOV'] = (incid_vol_liquid['RECOVERED_BBLS'] / incid_vol_liquid['UNINTENTIONAL_RELEASE_BBLS']) * 100\n",
    "incid_vol_liquid['PERCENT_RECOV'].head()"
   ]
  },
  {
   "cell_type": "code",
   "execution_count": null,
   "metadata": {
    "collapsed": false,
    "slideshow": {
     "slide_type": "slide"
    }
   },
   "outputs": [],
   "source": [
    "incid_vol_liquid['PERCENT_RECOV'].plot(kind = 'hist', bins = 10)\n",
    "plt.xlabel('percent recovery')\n",
    "plt.ylabel('number of incidents')\n",
    "plt.title('PHMSA Reported Pipeline Incidents 2010 - Present\\n(Liquid Commodity)')\n",
    "plt.savefig(fig_prefix + \"liquid-percent-recovery.png\", dpi=350)"
   ]
  },
  {
   "cell_type": "code",
   "execution_count": null,
   "metadata": {
    "collapsed": false,
    "slideshow": {
     "slide_type": "slide"
    }
   },
   "outputs": [],
   "source": [
    "plt.scatter(incid_vol_liquid['UNINTENTIONAL_RELEASE_BBLS'], incid_vol_liquid['PERCENT_RECOV'])\n",
    "plt.xlabel('volume released (bbls)')\n",
    "plt.ylabel('percent recovered')\n",
    "plt.title('PHMSA Reported Pipeline Incidents 2010 - Present\\n(Liquid Commodity)')\n",
    "plt.savefig(fig_prefix + \"liquid-percent-recovered-by-vol-released.png\", dpi=350)"
   ]
  },
  {
   "cell_type": "code",
   "execution_count": null,
   "metadata": {
    "collapsed": false,
    "slideshow": {
     "slide_type": "slide"
    }
   },
   "outputs": [],
   "source": [
    "incid_vol_liquid['CAUSE'].value_counts().plot(kind = 'pie', legend=False)\n",
    "plt.savefig(fig_prefix + \"major-incident-causes-pie.png\", dpi=350)"
   ]
  },
  {
   "cell_type": "code",
   "execution_count": null,
   "metadata": {
    "collapsed": false,
    "slideshow": {
     "slide_type": "skip"
    }
   },
   "outputs": [],
   "source": [
    "incid_vol_liquid.columns"
   ]
  },
  {
   "cell_type": "code",
   "execution_count": null,
   "metadata": {
    "collapsed": false,
    "slideshow": {
     "slide_type": "subslide"
    }
   },
   "outputs": [],
   "source": [
    "incid_vol_liquid[['CAUSE', 'CAUSE_DETAILS']].head(3)"
   ]
  },
  {
   "cell_type": "code",
   "execution_count": null,
   "metadata": {
    "collapsed": false,
    "slideshow": {
     "slide_type": "slide"
    }
   },
   "outputs": [],
   "source": [
    "causes = incid_vol_liquid['CAUSE_DETAILS'].value_counts().sort_values(ascending=True)\n",
    "causes.tail()"
   ]
  },
  {
   "cell_type": "code",
   "execution_count": null,
   "metadata": {
    "collapsed": false,
    "scrolled": true,
    "slideshow": {
     "slide_type": "slide"
    }
   },
   "outputs": [],
   "source": [
    "# sns.barplot(causes.values, causes.index)\n",
    "causes.plot.barh()\n",
    "plt.xlabel('number of incidents')\n",
    "plt.title('Causes of PHMSA Reported Pipeline Incidents\\n(2010 - Present for Liquid Commodity)')\n",
    "plt.savefig(fig_prefix + \"frequency-of-causes.png\", dpi=350)"
   ]
  },
  {
   "cell_type": "code",
   "execution_count": null,
   "metadata": {
    "collapsed": false,
    "slideshow": {
     "slide_type": "slide"
    }
   },
   "outputs": [],
   "source": [
    "incid_vol_liquid['UNINTENTIONAL_RELEASE_BBLS'].sum()"
   ]
  },
  {
   "cell_type": "code",
   "execution_count": null,
   "metadata": {
    "collapsed": false,
    "slideshow": {
     "slide_type": "subslide"
    }
   },
   "outputs": [],
   "source": [
    "mask4 = incid_vol_liquid['CAUSE_DETAILS'] == 'INTERNAL CORROSION'"
   ]
  },
  {
   "cell_type": "code",
   "execution_count": null,
   "metadata": {
    "collapsed": false,
    "slideshow": {
     "slide_type": "subslide"
    }
   },
   "outputs": [],
   "source": [
    "incid_ic = incid_vol_liquid[mask4]"
   ]
  },
  {
   "cell_type": "code",
   "execution_count": null,
   "metadata": {
    "collapsed": false,
    "slideshow": {
     "slide_type": "subslide"
    }
   },
   "outputs": [],
   "source": [
    "incid_ic['UNINTENTIONAL_RELEASE_BBLS'].sum()"
   ]
  },
  {
   "cell_type": "code",
   "execution_count": null,
   "metadata": {
    "collapsed": false,
    "slideshow": {
     "slide_type": "slide"
    }
   },
   "outputs": [],
   "source": [
    "causes_dict = {}\n",
    "for item in causes.index:\n",
    "    item_bbl_sum = incid_vol_liquid[incid_vol_liquid['CAUSE_DETAILS'] == item]['UNINTENTIONAL_RELEASE_BBLS'].sum()\n",
    "    print('Cause {} resulted in total releases of {} bbls from 2010 to present'.format(item, item_bbl_sum))\n",
    "    causes_dict[item] = item_bbl_sum"
   ]
  },
  {
   "cell_type": "code",
   "execution_count": null,
   "metadata": {
    "collapsed": false,
    "slideshow": {
     "slide_type": "skip"
    }
   },
   "outputs": [],
   "source": [
    "causes_dict"
   ]
  },
  {
   "cell_type": "code",
   "execution_count": null,
   "metadata": {
    "collapsed": false,
    "slideshow": {
     "slide_type": "slide"
    }
   },
   "outputs": [],
   "source": [
    "causes_series = pd.Series(causes_dict).sort_values(ascending=True)\n",
    "causes_series.tail()"
   ]
  },
  {
   "cell_type": "code",
   "execution_count": null,
   "metadata": {
    "collapsed": false,
    "slideshow": {
     "slide_type": "slide"
    }
   },
   "outputs": [],
   "source": [
    "# sns.barplot(causes_series.values, causes_series.index)\n",
    "causes_series.plot.barh()\n",
    "plt.xlabel('total volume released (bbls)')\n",
    "plt.title('Causes of PHMSA Reported Pipeline Incidents\\n(2010 - Present for Liquid Commodity)')\n",
    "plt.savefig(fig_prefix + \"liquid-released-by-cause.png\", dpi=350)"
   ]
  },
  {
   "cell_type": "code",
   "execution_count": null,
   "metadata": {
    "collapsed": false
   },
   "outputs": [],
   "source": [
    "causes.head()\n",
    "causes['INTENTIONAL DAMAGE']"
   ]
  },
  {
   "cell_type": "code",
   "execution_count": null,
   "metadata": {
    "collapsed": false
   },
   "outputs": [],
   "source": [
    "causes_rate_dict = {}\n",
    "for item in causes.index:\n",
    "    item_bbl_sum = incid_vol_liquid[incid_vol_liquid['CAUSE_DETAILS'] == item]['UNINTENTIONAL_RELEASE_BBLS'].sum()\n",
    "    item_count = causes[item]\n",
    "    print('Cause {} resulted in averaage of {} bbls per release from 2010 to present'.format(item, item_bbl_sum))\n",
    "    causes_rate_dict[item] = item_bbl_sum / item_count"
   ]
  },
  {
   "cell_type": "code",
   "execution_count": null,
   "metadata": {
    "collapsed": false
   },
   "outputs": [],
   "source": [
    "causes_rate_series = pd.Series(causes_rate_dict).sort_values(ascending=True)\n",
    "causes_rate_series.tail()"
   ]
  },
  {
   "cell_type": "code",
   "execution_count": null,
   "metadata": {
    "collapsed": false
   },
   "outputs": [],
   "source": [
    "causes_rate_series.plot.barh()\n",
    "plt.xlabel('total volume released PER incident (bbls)')\n",
    "plt.title('Causes of PHMSA Reported Pipeline Incidents\\n(2010 - Present for Liquid Commodity)')\n",
    "plt.savefig(fig_prefix + \"liquid-released-per-incident-by-cause.png\", dpi=350)"
   ]
  },
  {
   "cell_type": "code",
   "execution_count": null,
   "metadata": {
    "collapsed": false
   },
   "outputs": [],
   "source": [
    "mask5 = incid_vol_liquid['CAUSE_DETAILS'] == 'ENVIRONMENTAL CRACKING-RELATED'\n",
    "env_cracking = incid_vol_liquid[mask5]"
   ]
  },
  {
   "cell_type": "code",
   "execution_count": null,
   "metadata": {
    "collapsed": false
   },
   "outputs": [],
   "source": [
    "env_cracking[['NAME', 'STRESS_SUBTYPE', 'STRESS_DETAILS', 'UNINTENTIONAL_RELEASE_BBLS']]"
   ]
  },
  {
   "cell_type": "code",
   "execution_count": null,
   "metadata": {
    "collapsed": false
   },
   "outputs": [],
   "source": [
    "incid_vol_top_10 = incid_vol_liquid.sort(columns=['UNINTENTIONAL_RELEASE_BBLS'], ascending=False).head(10)"
   ]
  },
  {
   "cell_type": "code",
   "execution_count": null,
   "metadata": {
    "collapsed": false
   },
   "outputs": [],
   "source": [
    "incid_vol_top_10[['UNINTENTIONAL_RELEASE_BBLS', 'NARRATIVE']]"
   ]
  },
  {
   "cell_type": "code",
   "execution_count": null,
   "metadata": {
    "collapsed": false
   },
   "outputs": [],
   "source": [
    "incid_vol_top_10['NARRATIVE'][1475]"
   ]
  },
  {
   "cell_type": "code",
   "execution_count": null,
   "metadata": {
    "collapsed": false
   },
   "outputs": [],
   "source": [
    "incid_vol_top_10['NARRATIVE'][2601]"
   ]
  },
  {
   "cell_type": "code",
   "execution_count": null,
   "metadata": {
    "collapsed": false
   },
   "outputs": [],
   "source": [
    "incid_vol_top_10['NARRATIVE'][2299]"
   ]
  },
  {
   "cell_type": "code",
   "execution_count": null,
   "metadata": {
    "collapsed": false
   },
   "outputs": [],
   "source": [
    "mask6 = incid_vol_liquid['NAME'].str.contains('PLAINS')"
   ]
  },
  {
   "cell_type": "code",
   "execution_count": null,
   "metadata": {
    "collapsed": false
   },
   "outputs": [],
   "source": [
    "plains = incid_vol_liquid[mask6]"
   ]
  },
  {
   "cell_type": "code",
   "execution_count": null,
   "metadata": {
    "collapsed": false
   },
   "outputs": [],
   "source": [
    "plains.columns"
   ]
  },
  {
   "cell_type": "code",
   "execution_count": null,
   "metadata": {
    "collapsed": false
   },
   "outputs": [],
   "source": [
    "plains[['ONSHORE_CITY_NAME', 'ONSHORE_STATE_ABBREVIATION']]"
   ]
  },
  {
   "cell_type": "code",
   "execution_count": null,
   "metadata": {
    "collapsed": false
   },
   "outputs": [],
   "source": [
    "mask7 = plains['ONSHORE_STATE_ABBREVIATION'] == 'CA'"
   ]
  },
  {
   "cell_type": "code",
   "execution_count": null,
   "metadata": {
    "collapsed": true
   },
   "outputs": [],
   "source": [
    "plains_ca = plains[mask7]"
   ]
  },
  {
   "cell_type": "code",
   "execution_count": null,
   "metadata": {
    "collapsed": false
   },
   "outputs": [],
   "source": [
    "plains_ca['NARRATIVE'].str.contains('SANTA')"
   ]
  },
  {
   "cell_type": "code",
   "execution_count": null,
   "metadata": {
    "collapsed": false
   },
   "outputs": [],
   "source": [
    "plains_ca['NARRATIVE'][692]"
   ]
  },
  {
   "cell_type": "code",
   "execution_count": null,
   "metadata": {
    "collapsed": false
   },
   "outputs": [],
   "source": [
    "incidents.iloc[692]"
   ]
  },
  {
   "cell_type": "code",
   "execution_count": null,
   "metadata": {
    "collapsed": true
   },
   "outputs": [],
   "source": []
  }
 ],
 "metadata": {
  "kernelspec": {
   "display_name": "Python 3",
   "language": "python",
   "name": "python3"
  },
  "language_info": {
   "codemirror_mode": {
    "name": "ipython",
    "version": 3
   },
   "file_extension": ".py",
   "mimetype": "text/x-python",
   "name": "python",
   "nbconvert_exporter": "python",
   "pygments_lexer": "ipython3",
   "version": "3.6.3"
  }
 },
 "nbformat": 4,
 "nbformat_minor": 2
}
