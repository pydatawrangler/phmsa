{
 "cells": [
  {
   "cell_type": "markdown",
   "metadata": {},
   "source": [
    "# PHMSA Data Analysis"
   ]
  },
  {
   "cell_type": "markdown",
   "metadata": {},
   "source": [
    "## Imports and Notebook Setup"
   ]
  },
  {
   "cell_type": "code",
   "execution_count": 1,
   "metadata": {
    "collapsed": true,
    "slideshow": {
     "slide_type": "skip"
    }
   },
   "outputs": [],
   "source": [
    "# import numpy and pandas\n",
    "import numpy as np\n",
    "import pandas as pd\n",
    "\n",
    "# import datetime packages\n",
    "import datetime\n",
    "from datetime import datetime, date\n",
    "\n",
    "# imports for downloading zip files\n",
    "from zipfile import ZipFile\n",
    "from urllib.request import urlopen\n",
    "import os\n",
    "\n",
    "# set pandas options controlling output format  \n",
    "'''\n",
    "pd.set_option('display.notebook_repr_html', False)\n",
    "pd.set_option('display.max_columns', 8)\n",
    "pd.set_option('display.max_rows', 10)\n",
    "pd.set_option('display.width', 60)\n",
    "'''\n",
    "\n",
    "# import html utilities\n",
    "from IPython.display import IFrame\n",
    "from IPython.display import FileLink"
   ]
  },
  {
   "cell_type": "code",
   "execution_count": 3,
   "metadata": {
    "collapsed": true,
    "slideshow": {
     "slide_type": "skip"
    }
   },
   "outputs": [
    {
     "name": "stderr",
     "output_type": "stream",
     "text": [
      "/home/tm/miniconda3/lib/python3.6/site-packages/statsmodels/compat/pandas.py:56: FutureWarning: The pandas.core.datetools module is deprecated and will be removed in a future version. Please use the pandas.tseries module instead.\n",
      "  from pandas.core import datetools\n"
     ]
    }
   ],
   "source": [
    "# import matplotlib, seaborn, and plotnine\n",
    "import matplotlib.pyplot as plt\n",
    "import seaborn as sns\n",
    "import plotnine\n",
    "%matplotlib inline"
   ]
  },
  {
   "cell_type": "code",
   "execution_count": 4,
   "metadata": {
    "collapsed": true,
    "slideshow": {
     "slide_type": "skip"
    }
   },
   "outputs": [],
   "source": [
    "# Customizations\n",
    "sns.set() # set seaborn defaults defaults\n",
    "\n",
    "# Any tweaks that normally go in .matplotlibrc, etc., should explicitly go here\n",
    "plt.rcParams['figure.figsize'] = (12, 8)\n",
    "plt.style.use('ggplot')\n",
    "# %config InlineBackend.figure_format='retina'"
   ]
  },
  {
   "cell_type": "code",
   "execution_count": 5,
   "metadata": {
    "collapsed": true,
    "slideshow": {
     "slide_type": "skip"
    }
   },
   "outputs": [],
   "source": [
    "# set prefix for generating figures\n",
    "fig_date = str(datetime.now()).split()[0]\n",
    "fig_prefix = f\"figures/{fig_date}-tm-\""
   ]
  },
  {
   "cell_type": "markdown",
   "metadata": {},
   "source": [
    "## Data Source Website"
   ]
  },
  {
   "cell_type": "code",
   "execution_count": 6,
   "metadata": {
    "collapsed": false,
    "slideshow": {
     "slide_type": "slide"
    }
   },
   "outputs": [],
   "source": [
    "# IFrame('http://www.phmsa.dot.gov/pipeline/library/data-stats', width = 700, height = 350)"
   ]
  },
  {
   "cell_type": "markdown",
   "metadata": {},
   "source": [
    "https://www.phmsa.dot.gov/data-and-statistics/pipeline/source-data\n",
    "\n",
    "https://www.phmsa.dot.gov/data-and-statistics/pipeline/distribution-transmission-gathering-lng-and-liquid-accident-and-incident-data"
   ]
  },
  {
   "cell_type": "markdown",
   "metadata": {},
   "source": [
    "### Download data and read into pandas dataframe and export to csv"
   ]
  },
  {
   "cell_type": "code",
   "execution_count": 7,
   "metadata": {},
   "outputs": [],
   "source": [
    "url_2010_present = 'https://www.phmsa.dot.gov/sites/phmsa.dot.gov/files/data_statistics/pipeline/accident_hazardous_liquid_jan2010_present.zip'"
   ]
  },
  {
   "cell_type": "code",
   "execution_count": 8,
   "metadata": {},
   "outputs": [],
   "source": [
    "url = urlopen(url_2010_present)"
   ]
  },
  {
   "cell_type": "code",
   "execution_count": 9,
   "metadata": {},
   "outputs": [],
   "source": [
    "output = open('../temp_files/zipFile.zip','wb')\n",
    "output.write(url.read())\n",
    "output.close()"
   ]
  },
  {
   "cell_type": "code",
   "execution_count": 10,
   "metadata": {},
   "outputs": [],
   "source": [
    "zip_obj = ZipFile('../temp_files/zipFile.zip', 'r')\n",
    "\n",
    "# https://docs.python.org/3/library/zipfile.html#zipfile.ZipFile.extract"
   ]
  },
  {
   "cell_type": "code",
   "execution_count": 11,
   "metadata": {},
   "outputs": [],
   "source": [
    "data_file = zip_obj.extract(zip_obj.filelist[0],path=\"../temp_files\")"
   ]
  },
  {
   "cell_type": "code",
   "execution_count": 12,
   "metadata": {},
   "outputs": [
    {
     "name": "stderr",
     "output_type": "stream",
     "text": [
      "/home/tm/miniconda3/lib/python3.6/site-packages/IPython/core/interactiveshell.py:2698: DtypeWarning: Columns (62,64,65,66,67,68,69,73,75,77,78,79,80,82,90,91,103,105,118,138,139,140,172,182,183,184,185,210,212,226,228,229,240,245,249,253,264,271,273,284,288,290,292,294,296,297,302,308,310,318,322,323,335,337,341,343,371,372,375,376,381,383,385,390,401,408,409,410,411,413,415,430,431,434,437,451,462,468,469,475,476,477,480,481,482,498,504,506,508,509,516,522,524,526,529,530,531,535,536,537,545,548,551,553,554,576) have mixed types. Specify dtype option on import or set low_memory=False.\n",
      "  interactivity=interactivity, compiler=compiler, result=result)\n"
     ]
    }
   ],
   "source": [
    "incid = pd.read_table(data_file, encoding='windows-1252', parse_dates=['LOCAL_DATETIME'])"
   ]
  },
  {
   "cell_type": "code",
   "execution_count": 13,
   "metadata": {
    "collapsed": false
   },
   "outputs": [
    {
     "data": {
      "text/plain": [
       "(3255, 588)"
      ]
     },
     "execution_count": 13,
     "metadata": {},
     "output_type": "execute_result"
    }
   ],
   "source": [
    "incid.shape"
   ]
  },
  {
   "cell_type": "code",
   "execution_count": 14,
   "metadata": {
    "collapsed": false
   },
   "outputs": [
    {
     "data": {
      "text/plain": [
       "Index(['REPORT_RECEIVED_DATE', 'IYEAR', 'REPORT_NUMBER', 'SUPPLEMENTAL_NUMBER',\n",
       "       'REPORT_TYPE', 'OPERATOR_ID', 'NAME', 'OPERATOR_STREET_ADDRESS',\n",
       "       'OPERATOR_CITY_NAME', 'OPERATOR_STATE_ABBREVIATION',\n",
       "       ...\n",
       "       'PREPARER_TITLE', 'PREPARER_EMAIL', 'PREPARER_TELEPHONE',\n",
       "       'PREPARER_FAX', 'PREPARED_DATE', 'AUTHORIZER_NAME', 'AUTHORIZER_TITLE',\n",
       "       'AUTHORIZER_TELEPHONE', 'AUTHORIZER_EMAIL', 'NARRATIVE'],\n",
       "      dtype='object', length=588)"
      ]
     },
     "execution_count": 14,
     "metadata": {},
     "output_type": "execute_result"
    }
   ],
   "source": [
    "incid.columns"
   ]
  },
  {
   "cell_type": "code",
   "execution_count": null,
   "metadata": {},
   "outputs": [],
   "source": [
    "incid.to_csv('proc_data/zip_to_csv_incidents_2010_present.csv', index=False)"
   ]
  },
  {
   "cell_type": "markdown",
   "metadata": {},
   "source": [
    "### Get key to data"
   ]
  },
  {
   "cell_type": "code",
   "execution_count": null,
   "metadata": {},
   "outputs": [],
   "source": [
    "data_key = zip_obj.extract(zip_obj.filelist[1],path=\"data_keys\")"
   ]
  },
  {
   "cell_type": "code",
   "execution_count": null,
   "metadata": {},
   "outputs": [],
   "source": [
    "data_key"
   ]
  },
  {
   "cell_type": "markdown",
   "metadata": {},
   "source": [
    "## Explore Data"
   ]
  },
  {
   "cell_type": "code",
   "execution_count": 15,
   "metadata": {
    "collapsed": false,
    "scrolled": true,
    "slideshow": {
     "slide_type": "slide"
    }
   },
   "outputs": [
    {
     "data": {
      "text/html": [
       "<div>\n",
       "<style scoped>\n",
       "    .dataframe tbody tr th:only-of-type {\n",
       "        vertical-align: middle;\n",
       "    }\n",
       "\n",
       "    .dataframe tbody tr th {\n",
       "        vertical-align: top;\n",
       "    }\n",
       "\n",
       "    .dataframe thead th {\n",
       "        text-align: right;\n",
       "    }\n",
       "</style>\n",
       "<table border=\"1\" class=\"dataframe\">\n",
       "  <thead>\n",
       "    <tr style=\"text-align: right;\">\n",
       "      <th></th>\n",
       "      <th>LOCAL_DATETIME</th>\n",
       "      <th>NAME</th>\n",
       "      <th>ONSHORE_CITY_NAME</th>\n",
       "      <th>ONSHORE_STATE_ABBREVIATION</th>\n",
       "      <th>REPORT_TYPE</th>\n",
       "      <th>ON_OFF_SHORE</th>\n",
       "      <th>CAUSE</th>\n",
       "      <th>CAUSE_DETAILS</th>\n",
       "      <th>STRESS_SUBTYPE</th>\n",
       "      <th>STRESS_DETAILS</th>\n",
       "      <th>SYSTEM_PART_INVOLVED</th>\n",
       "      <th>ITEM_INVOLVED</th>\n",
       "      <th>LOCATION_LATITUDE</th>\n",
       "      <th>LOCATION_LONGITUDE</th>\n",
       "      <th>COMMODITY_RELEASED_TYPE</th>\n",
       "      <th>UNINTENTIONAL_RELEASE_BBLS</th>\n",
       "      <th>RECOVERED_BBLS</th>\n",
       "      <th>NARRATIVE</th>\n",
       "    </tr>\n",
       "  </thead>\n",
       "  <tbody>\n",
       "    <tr>\n",
       "      <th>0</th>\n",
       "      <td>2018-02-19 00:41:00</td>\n",
       "      <td>ENTERPRISE PRODUCTS OPERATING LLC</td>\n",
       "      <td>SKELLYTOWN</td>\n",
       "      <td>TX</td>\n",
       "      <td>ORIGINAL FINAL</td>\n",
       "      <td>ONSHORE</td>\n",
       "      <td>EQUIPMENT FAILURE</td>\n",
       "      <td>THREADED CONNECTION/COUPLING FAILURE</td>\n",
       "      <td>NaN</td>\n",
       "      <td>NaN</td>\n",
       "      <td>ONSHORE PUMP/METER STATION EQUIPMENT AND PIPING</td>\n",
       "      <td>PUMP</td>\n",
       "      <td>35.571333</td>\n",
       "      <td>-101.124274</td>\n",
       "      <td>HVL OR OTHER FLAMMABLE OR TOXIC FLUID WHICH IS...</td>\n",
       "      <td>3.0</td>\n",
       "      <td>0.0</td>\n",
       "      <td>ON 2/19/2018 AN EMPLOYEE OF PHILLIPS 66 NOTIFI...</td>\n",
       "    </tr>\n",
       "    <tr>\n",
       "      <th>1</th>\n",
       "      <td>2018-02-10 22:20:00</td>\n",
       "      <td>ENTERPRISE CRUDE PIPELINE LLC</td>\n",
       "      <td>MIDLAND</td>\n",
       "      <td>TX</td>\n",
       "      <td>ORIGINAL FINAL</td>\n",
       "      <td>ONSHORE</td>\n",
       "      <td>EQUIPMENT FAILURE</td>\n",
       "      <td>OTHER EQUIPMENT FAILURE</td>\n",
       "      <td>NaN</td>\n",
       "      <td>NaN</td>\n",
       "      <td>ONSHORE TERMINAL/TANK FARM EQUIPMENT AND PIPING</td>\n",
       "      <td>INSTRUMENTATION</td>\n",
       "      <td>32.015967</td>\n",
       "      <td>-102.015996</td>\n",
       "      <td>CRUDE OIL</td>\n",
       "      <td>0.3</td>\n",
       "      <td>0.3</td>\n",
       "      <td>ON 2-10-18 AT APPROXIMATELY 22:20 LOCAL OPERAT...</td>\n",
       "    </tr>\n",
       "    <tr>\n",
       "      <th>2</th>\n",
       "      <td>2018-02-07 12:27:00</td>\n",
       "      <td>ENTERPRISE CRUDE PIPELINE LLC</td>\n",
       "      <td>PECOS</td>\n",
       "      <td>TX</td>\n",
       "      <td>ORIGINAL FINAL</td>\n",
       "      <td>ONSHORE</td>\n",
       "      <td>INCORRECT OPERATION</td>\n",
       "      <td>TANK, VESSEL, OR SUMP/SEPARATOR ALLOWED OR CAU...</td>\n",
       "      <td>NaN</td>\n",
       "      <td>NaN</td>\n",
       "      <td>ONSHORE TERMINAL/TANK FARM EQUIPMENT AND PIPING</td>\n",
       "      <td>SUMP/SEPARATOR</td>\n",
       "      <td>31.526931</td>\n",
       "      <td>-103.560759</td>\n",
       "      <td>CRUDE OIL</td>\n",
       "      <td>4.0</td>\n",
       "      <td>4.0</td>\n",
       "      <td>ON 02-07-18 AT 12:27 PIPELINE CONTROL RECEIVED...</td>\n",
       "    </tr>\n",
       "  </tbody>\n",
       "</table>\n",
       "</div>"
      ],
      "text/plain": [
       "       LOCAL_DATETIME                               NAME ONSHORE_CITY_NAME  \\\n",
       "0 2018-02-19 00:41:00  ENTERPRISE PRODUCTS OPERATING LLC        SKELLYTOWN   \n",
       "1 2018-02-10 22:20:00      ENTERPRISE CRUDE PIPELINE LLC           MIDLAND   \n",
       "2 2018-02-07 12:27:00      ENTERPRISE CRUDE PIPELINE LLC             PECOS   \n",
       "\n",
       "  ONSHORE_STATE_ABBREVIATION     REPORT_TYPE ON_OFF_SHORE  \\\n",
       "0                         TX  ORIGINAL FINAL      ONSHORE   \n",
       "1                         TX  ORIGINAL FINAL      ONSHORE   \n",
       "2                         TX  ORIGINAL FINAL      ONSHORE   \n",
       "\n",
       "                 CAUSE                                      CAUSE_DETAILS  \\\n",
       "0    EQUIPMENT FAILURE               THREADED CONNECTION/COUPLING FAILURE   \n",
       "1    EQUIPMENT FAILURE                            OTHER EQUIPMENT FAILURE   \n",
       "2  INCORRECT OPERATION  TANK, VESSEL, OR SUMP/SEPARATOR ALLOWED OR CAU...   \n",
       "\n",
       "  STRESS_SUBTYPE STRESS_DETAILS  \\\n",
       "0            NaN            NaN   \n",
       "1            NaN            NaN   \n",
       "2            NaN            NaN   \n",
       "\n",
       "                              SYSTEM_PART_INVOLVED    ITEM_INVOLVED  \\\n",
       "0  ONSHORE PUMP/METER STATION EQUIPMENT AND PIPING             PUMP   \n",
       "1  ONSHORE TERMINAL/TANK FARM EQUIPMENT AND PIPING  INSTRUMENTATION   \n",
       "2  ONSHORE TERMINAL/TANK FARM EQUIPMENT AND PIPING   SUMP/SEPARATOR   \n",
       "\n",
       "   LOCATION_LATITUDE  LOCATION_LONGITUDE  \\\n",
       "0          35.571333         -101.124274   \n",
       "1          32.015967         -102.015996   \n",
       "2          31.526931         -103.560759   \n",
       "\n",
       "                             COMMODITY_RELEASED_TYPE  \\\n",
       "0  HVL OR OTHER FLAMMABLE OR TOXIC FLUID WHICH IS...   \n",
       "1                                          CRUDE OIL   \n",
       "2                                          CRUDE OIL   \n",
       "\n",
       "   UNINTENTIONAL_RELEASE_BBLS  RECOVERED_BBLS  \\\n",
       "0                         3.0             0.0   \n",
       "1                         0.3             0.3   \n",
       "2                         4.0             4.0   \n",
       "\n",
       "                                           NARRATIVE  \n",
       "0  ON 2/19/2018 AN EMPLOYEE OF PHILLIPS 66 NOTIFI...  \n",
       "1  ON 2-10-18 AT APPROXIMATELY 22:20 LOCAL OPERAT...  \n",
       "2  ON 02-07-18 AT 12:27 PIPELINE CONTROL RECEIVED...  "
      ]
     },
     "execution_count": 15,
     "metadata": {},
     "output_type": "execute_result"
    }
   ],
   "source": [
    "incident_vol = incid[['LOCAL_DATETIME','NAME','ONSHORE_CITY_NAME','ONSHORE_STATE_ABBREVIATION','REPORT_TYPE','ON_OFF_SHORE','CAUSE','CAUSE_DETAILS','STRESS_SUBTYPE','STRESS_DETAILS','SYSTEM_PART_INVOLVED','ITEM_INVOLVED','LOCATION_LATITUDE', 'LOCATION_LONGITUDE', 'COMMODITY_RELEASED_TYPE', 'UNINTENTIONAL_RELEASE_BBLS', 'RECOVERED_BBLS','NARRATIVE']]\n",
    "incident_vol.head(3)"
   ]
  },
  {
   "cell_type": "code",
   "execution_count": 16,
   "metadata": {
    "collapsed": false
   },
   "outputs": [
    {
     "data": {
      "text/plain": [
       "258"
      ]
     },
     "execution_count": 16,
     "metadata": {},
     "output_type": "execute_result"
    }
   ],
   "source": [
    "incident_vol['NAME'].nunique()"
   ]
  },
  {
   "cell_type": "code",
   "execution_count": 17,
   "metadata": {},
   "outputs": [
    {
     "data": {
      "text/plain": [
       "ENTERPRISE CRUDE PIPELINE LLC                        241\n",
       "SUNOCO PIPELINE L.P.                                 196\n",
       "ENTERPRISE PRODUCTS OPERATING LLC                    179\n",
       "PLAINS PIPELINE, L.P.                                175\n",
       "COLONIAL PIPELINE CO                                 156\n",
       "MAGELLAN PIPELINE COMPANY, LP                        154\n",
       "BUCKEYE PARTNERS, LP                                 131\n",
       "PHILLIPS 66 PIPELINE LLC                             101\n",
       "KINDER MORGAN LIQUID TERMINALS, LLC                  101\n",
       "MARATHON PIPE LINE LLC                                97\n",
       "ENBRIDGE ENERGY, LIMITED PARTNERSHIP                  81\n",
       "SHELL PIPELINE CO., L.P.                              70\n",
       "EXXONMOBIL PIPELINE CO                                54\n",
       "ONEOK NGL PIPELINE, LLC                               53\n",
       "EXPLORER PIPELINE CO                                  49\n",
       "ONEOK NGL PIPELINE LP                                 39\n",
       "MAGELLAN AMMONIA PIPELINE, L.P.                       38\n",
       "KOCH PIPELINE COMPANY, L.P.                           38\n",
       "NUSTAR PIPELINE OPERATING PARTNERSHIP L.P.            37\n",
       "CHEVRON PIPE LINE CO                                  36\n",
       "CONOCOPHILLIPS                                        34\n",
       "WYOMING PIPELINE COMPANY                              34\n",
       "PLANTATION PIPE LINE CO                               33\n",
       "JAYHAWK PIPELINE LLC                                  33\n",
       "WEST TEXAS GULF PIPELINE CO                           33\n",
       "MID - VALLEY PIPELINE CO                              32\n",
       "MAGELLAN TERMINALS HOLDINGS, LP                       31\n",
       "DCP MIDSTREAM                                         30\n",
       "HOLLY ENERGY PARTNERS - OPERATING, L.P.               29\n",
       "ROSE ROCK MIDSTREAM L.P.                              29\n",
       "                                                    ... \n",
       "RIMROCK MIDSTREAM                                      1\n",
       "FAIRWAY ENERGY PARTNERS, LLC                           1\n",
       "ILLINOIS EXTENSION PIPELINE COMPANY, L.L.C.            1\n",
       "CITGO PETROLEUM CORPORATION (REFINERY)                 1\n",
       "REPUBLIC MIDSTREAM, LLC                                1\n",
       "BOARDWALK LOUISIANA MIDSTREAM, LLC                     1\n",
       "DOW PIPELINE CO - CAYUSE                               1\n",
       "SUNVIT PIPELINE LLC                                    1\n",
       "BHP BILLITON PETROLEUM (EAGLE FORD GATHERING) LLC      1\n",
       "FRONTIER ENERGY SERVICES, L.L.C.                       1\n",
       "GENESIS PIPELINE TEXAS, L.P.                           1\n",
       "NUTAAQ PIPELINE, LLC                                   1\n",
       "GENESIS FREE STATE PIPELINE, LLC                       1\n",
       "HECO - HAWAIIAN ELECTRIC COMPANY, INC.                 1\n",
       "ASIG - HONOLULU                                        1\n",
       "TESORO LOGISTICS ROCKIES                               1\n",
       "WESTERN REFINING PIPELINE COMPANY                      1\n",
       "OHIO RIVER VALLEY PIPELINE, LLC                        1\n",
       "VALERO REFINING-TEXAS L.P.                             1\n",
       "CHEVRON PRODUCTS COMPANY - HAWAII                      1\n",
       "ENBRIDGE PIPELINES (EAST TEXAS) L.P.                   1\n",
       "GEL OFFSHORE PIPELINE, LLC                             1\n",
       "ENERGY XXI USA, INC                                    1\n",
       "DOW PIPELINE CO                                        1\n",
       "DELEK PIPELINE TEXAS, INC                              1\n",
       "ULTRAMAR INC                                           1\n",
       "EXXONMOBIL REFINING AND SUPPLY COMPANY                 1\n",
       "ITC PIPELINE COMPANY, LLC                              1\n",
       "MCCHORD PIPELINE CO.                                   1\n",
       "TESORO LOGISTICS OPERATIONS LLC - GOLDEN EAGLE         1\n",
       "Name: NAME, Length: 258, dtype: int64"
      ]
     },
     "execution_count": 17,
     "metadata": {},
     "output_type": "execute_result"
    }
   ],
   "source": [
    "incident_vol['NAME'].value_counts()"
   ]
  },
  {
   "cell_type": "code",
   "execution_count": 18,
   "metadata": {
    "collapsed": false,
    "slideshow": {
     "slide_type": "skip"
    }
   },
   "outputs": [],
   "source": [
    "mask = ~incident_vol['COMMODITY_RELEASED_TYPE'].str.contains('HVL ') # filter out HVL flammable"
   ]
  },
  {
   "cell_type": "code",
   "execution_count": 19,
   "metadata": {
    "collapsed": false,
    "slideshow": {
     "slide_type": "skip"
    }
   },
   "outputs": [],
   "source": [
    "incid_vol_liquid_and_co2 = incident_vol[mask]"
   ]
  },
  {
   "cell_type": "code",
   "execution_count": 20,
   "metadata": {
    "collapsed": false,
    "scrolled": true,
    "slideshow": {
     "slide_type": "skip"
    }
   },
   "outputs": [],
   "source": [
    "mask2 = ~incid_vol_liquid_and_co2['COMMODITY_RELEASED_TYPE'].str.contains('CO2')\n",
    "incid_vol_liquid = incid_vol_liquid_and_co2[mask2]\n",
    "#incid_vol_liquid['COMMODITY_RELEASED_TYPE']"
   ]
  },
  {
   "cell_type": "code",
   "execution_count": 21,
   "metadata": {
    "collapsed": false,
    "scrolled": true,
    "slideshow": {
     "slide_type": "subslide"
    }
   },
   "outputs": [
    {
     "name": "stdout",
     "output_type": "stream",
     "text": [
      "<class 'pandas.core.frame.DataFrame'>\n",
      "Int64Index: 2707 entries, 1 to 3253\n",
      "Data columns (total 18 columns):\n",
      "LOCAL_DATETIME                2707 non-null datetime64[ns]\n",
      "NAME                          2707 non-null object\n",
      "ONSHORE_CITY_NAME             2619 non-null object\n",
      "ONSHORE_STATE_ABBREVIATION    2687 non-null object\n",
      "REPORT_TYPE                   2707 non-null object\n",
      "ON_OFF_SHORE                  2707 non-null object\n",
      "CAUSE                         2707 non-null object\n",
      "CAUSE_DETAILS                 2707 non-null object\n",
      "STRESS_SUBTYPE                10 non-null object\n",
      "STRESS_DETAILS                7 non-null object\n",
      "SYSTEM_PART_INVOLVED          2707 non-null object\n",
      "ITEM_INVOLVED                 2707 non-null object\n",
      "LOCATION_LATITUDE             2707 non-null float64\n",
      "LOCATION_LONGITUDE            2707 non-null float64\n",
      "COMMODITY_RELEASED_TYPE       2707 non-null object\n",
      "UNINTENTIONAL_RELEASE_BBLS    2707 non-null float64\n",
      "RECOVERED_BBLS                2707 non-null float64\n",
      "NARRATIVE                     2679 non-null object\n",
      "dtypes: datetime64[ns](1), float64(4), object(13)\n",
      "memory usage: 401.8+ KB\n"
     ]
    }
   ],
   "source": [
    "incid_vol_liquid.info()"
   ]
  },
  {
   "cell_type": "code",
   "execution_count": 22,
   "metadata": {
    "collapsed": false
   },
   "outputs": [
    {
     "data": {
      "text/plain": [
       "211"
      ]
     },
     "execution_count": 22,
     "metadata": {},
     "output_type": "execute_result"
    }
   ],
   "source": [
    "incid_vol_liquid['NAME'].nunique()"
   ]
  },
  {
   "cell_type": "code",
   "execution_count": 23,
   "metadata": {},
   "outputs": [
    {
     "data": {
      "text/plain": [
       "ENTERPRISE CRUDE PIPELINE LLC                        241\n",
       "SUNOCO PIPELINE L.P.                                 189\n",
       "PLAINS PIPELINE, L.P.                                175\n",
       "COLONIAL PIPELINE CO                                 156\n",
       "MAGELLAN PIPELINE COMPANY, LP                        150\n",
       "BUCKEYE PARTNERS, LP                                 129\n",
       "KINDER MORGAN LIQUID TERMINALS, LLC                  101\n",
       "MARATHON PIPE LINE LLC                                88\n",
       "PHILLIPS 66 PIPELINE LLC                              80\n",
       "ENBRIDGE ENERGY, LIMITED PARTNERSHIP                  79\n",
       "ENTERPRISE PRODUCTS OPERATING LLC                     64\n",
       "SHELL PIPELINE CO., L.P.                              63\n",
       "EXPLORER PIPELINE CO                                  49\n",
       "EXXONMOBIL PIPELINE CO                                40\n",
       "WYOMING PIPELINE COMPANY                              34\n",
       "KOCH PIPELINE COMPANY, L.P.                           33\n",
       "WEST TEXAS GULF PIPELINE CO                           33\n",
       "PLANTATION PIPE LINE CO                               33\n",
       "JAYHAWK PIPELINE LLC                                  33\n",
       "MID - VALLEY PIPELINE CO                              32\n",
       "MAGELLAN TERMINALS HOLDINGS, LP                       31\n",
       "CONOCOPHILLIPS                                        30\n",
       "ROSE ROCK MIDSTREAM L.P.                              29\n",
       "HOLLY ENERGY PARTNERS - OPERATING, L.P.               27\n",
       "SFPP, LP                                              26\n",
       "CHEVRON PIPE LINE CO                                  23\n",
       "PLAINS MARKETING, L.P.                                21\n",
       "NUSTAR PIPELINE OPERATING PARTNERSHIP L.P.            18\n",
       "ENBRIDGE PIPELINES (OZARK) L.L.C.                     17\n",
       "NUSTAR LOGISTICS, L.P.                                16\n",
       "                                                    ... \n",
       "CAMINO REAL GATHERING CO LLC                           1\n",
       "REPUBLIC MIDSTREAM, LLC                                1\n",
       "BHP BILLITON PETROLEUM (EAGLE FORD GATHERING) LLC      1\n",
       "WESTERN REFINING PIPELINE COMPANY                      1\n",
       "ASIG - HONOLULU                                        1\n",
       "HECO - HAWAIIAN ELECTRIC COMPANY, INC.                 1\n",
       "TESORO - HIGH PLAINS PIPELINE COMPANY                  1\n",
       "ONEOK NGL PIPELINE LP                                  1\n",
       "GENESIS PIPELINE TEXAS, L.P.                           1\n",
       "FRONTIER ENERGY SERVICES, L.L.C.                       1\n",
       "ILLINOIS EXTENSION PIPELINE COMPANY, L.L.C.            1\n",
       "FAIRWAY ENERGY PARTNERS, LLC                           1\n",
       "RIMROCK MIDSTREAM                                      1\n",
       "DELEK PIPELINE TEXAS, INC                              1\n",
       "PERMIAN EXPRESS TERMINAL LLC                           1\n",
       "SKEISUI SPECIALTY CHEMICALS AMERICA                    1\n",
       "BRIDGER LAKE, LLC                                      1\n",
       "JP ENERGY PERMIAN, LLC                                 1\n",
       "VELOCITY CENTRAL OKLAHOMA PIPELINE, LLC                1\n",
       "PIPELINES OF PUERTO RICO INCD, THE                     1\n",
       "STATELINE CRUDE, LLC                                   1\n",
       "WHITECAP PIPE LINE COMPANY, L.L.C.                     1\n",
       "TESORO LOGISTICS OPERATIONS LLC - GOLDEN EAGLE         1\n",
       "KURARAY AMERICA, INC.                                  1\n",
       "MCCHORD PIPELINE CO.                                   1\n",
       "ITC PIPELINE COMPANY, LLC                              1\n",
       "EXXONMOBIL REFINING AND SUPPLY COMPANY                 1\n",
       "ULTRAMAR INC                                           1\n",
       "TEXSTAR MIDSTREAM LOGISTICS, LP                        1\n",
       "KEY PIPELINE LIMITED                                   1\n",
       "Name: NAME, Length: 211, dtype: int64"
      ]
     },
     "execution_count": 23,
     "metadata": {},
     "output_type": "execute_result"
    }
   ],
   "source": [
    "incid_vol_liquid['NAME'].value_counts()"
   ]
  },
  {
   "cell_type": "code",
   "execution_count": 24,
   "metadata": {
    "collapsed": false
   },
   "outputs": [
    {
     "data": {
      "text/plain": [
       "385715.42000000004"
      ]
     },
     "execution_count": 24,
     "metadata": {},
     "output_type": "execute_result"
    }
   ],
   "source": [
    "incid_vol_liquid['UNINTENTIONAL_RELEASE_BBLS'].sum()"
   ]
  },
  {
   "cell_type": "code",
   "execution_count": 25,
   "metadata": {
    "collapsed": false
   },
   "outputs": [
    {
     "data": {
      "text/plain": [
       "250028.91"
      ]
     },
     "execution_count": 25,
     "metadata": {},
     "output_type": "execute_result"
    }
   ],
   "source": [
    "incid_vol_liquid['RECOVERED_BBLS'].sum()"
   ]
  },
  {
   "cell_type": "code",
   "execution_count": 26,
   "metadata": {
    "collapsed": false,
    "scrolled": true,
    "slideshow": {
     "slide_type": "slide"
    }
   },
   "outputs": [
    {
     "data": {
      "image/png": "[encoded data removed]",
      "text/plain": [
       "<matplotlib.figure.Figure at 0x7f145fbb8048>"
      ]
     },
     "metadata": {},
     "output_type": "display_data"
    }
   ],
   "source": [
    "plt.scatter(incid_vol_liquid['UNINTENTIONAL_RELEASE_BBLS'], incid_vol_liquid['RECOVERED_BBLS'])\n",
    "plt.xlabel('volume released (bbls)')\n",
    "plt.ylabel('volume recovered (bbls)')\n",
    "plt.title('PHMSA Reported Pipeline Incidents 2010 - Present\\n(Liquid Commodity)')\n",
    "plt.savefig(fig_prefix + \"liquid-released-v-recovered.png\", dpi=350) "
   ]
  },
  {
   "cell_type": "code",
   "execution_count": 27,
   "metadata": {
    "collapsed": false,
    "slideshow": {
     "slide_type": "subslide"
    }
   },
   "outputs": [],
   "source": [
    "# look at outliers > 20000 bbl release\n",
    "mask3 = incid_vol_liquid['UNINTENTIONAL_RELEASE_BBLS'] > 20000"
   ]
  },
  {
   "cell_type": "code",
   "execution_count": 28,
   "metadata": {
    "collapsed": false,
    "slideshow": {
     "slide_type": "subslide"
    }
   },
   "outputs": [],
   "source": [
    "large_releases = incid_vol_liquid[mask3]"
   ]
  },
  {
   "cell_type": "code",
   "execution_count": 29,
   "metadata": {},
   "outputs": [],
   "source": [
    "large_releases.reset_index(inplace=True)"
   ]
  },
  {
   "cell_type": "code",
   "execution_count": 30,
   "metadata": {
    "collapsed": false,
    "slideshow": {
     "slide_type": "subslide"
    }
   },
   "outputs": [
    {
     "data": {
      "text/html": [
       "<div>\n",
       "<style scoped>\n",
       "    .dataframe tbody tr th:only-of-type {\n",
       "        vertical-align: middle;\n",
       "    }\n",
       "\n",
       "    .dataframe tbody tr th {\n",
       "        vertical-align: top;\n",
       "    }\n",
       "\n",
       "    .dataframe thead th {\n",
       "        text-align: right;\n",
       "    }\n",
       "</style>\n",
       "<table border=\"1\" class=\"dataframe\">\n",
       "  <thead>\n",
       "    <tr style=\"text-align: right;\">\n",
       "      <th></th>\n",
       "      <th>index</th>\n",
       "      <th>LOCAL_DATETIME</th>\n",
       "      <th>NAME</th>\n",
       "      <th>ONSHORE_CITY_NAME</th>\n",
       "      <th>ONSHORE_STATE_ABBREVIATION</th>\n",
       "      <th>REPORT_TYPE</th>\n",
       "      <th>ON_OFF_SHORE</th>\n",
       "      <th>CAUSE</th>\n",
       "      <th>CAUSE_DETAILS</th>\n",
       "      <th>STRESS_SUBTYPE</th>\n",
       "      <th>STRESS_DETAILS</th>\n",
       "      <th>SYSTEM_PART_INVOLVED</th>\n",
       "      <th>ITEM_INVOLVED</th>\n",
       "      <th>LOCATION_LATITUDE</th>\n",
       "      <th>LOCATION_LONGITUDE</th>\n",
       "      <th>COMMODITY_RELEASED_TYPE</th>\n",
       "      <th>UNINTENTIONAL_RELEASE_BBLS</th>\n",
       "      <th>RECOVERED_BBLS</th>\n",
       "      <th>NARRATIVE</th>\n",
       "    </tr>\n",
       "  </thead>\n",
       "  <tbody>\n",
       "    <tr>\n",
       "      <th>0</th>\n",
       "      <td>1935</td>\n",
       "      <td>2013-07-29 00:00:00</td>\n",
       "      <td>TESORO HIGH PLAINS PIPELINE COMPANY LLC</td>\n",
       "      <td>NaN</td>\n",
       "      <td>ND</td>\n",
       "      <td>SUPPLEMENTAL FINAL</td>\n",
       "      <td>ONSHORE</td>\n",
       "      <td>NATURAL FORCE DAMAGE</td>\n",
       "      <td>LIGHTNING</td>\n",
       "      <td>NaN</td>\n",
       "      <td>NaN</td>\n",
       "      <td>ONSHORE PIPELINE, INCLUDING VALVE SITES</td>\n",
       "      <td>PIPE</td>\n",
       "      <td>48.524251</td>\n",
       "      <td>-102.856912</td>\n",
       "      <td>CRUDE OIL</td>\n",
       "      <td>20600.0</td>\n",
       "      <td>5856.0</td>\n",
       "      <td>ON SEPTEMBER 29, 2013, TESORO HIGH PLAINS PIPE...</td>\n",
       "    </tr>\n",
       "    <tr>\n",
       "      <th>1</th>\n",
       "      <td>3060</td>\n",
       "      <td>2010-07-25 17:58:00</td>\n",
       "      <td>ENBRIDGE ENERGY, LIMITED PARTNERSHIP</td>\n",
       "      <td>MARSHALL</td>\n",
       "      <td>MI</td>\n",
       "      <td>SUPPLEMENTAL FINAL</td>\n",
       "      <td>ONSHORE</td>\n",
       "      <td>MATERIAL FAILURE OF PIPE OR WELD</td>\n",
       "      <td>ENVIRONMENTAL CRACKING-RELATED</td>\n",
       "      <td>STRESS CORROSION CRACKING</td>\n",
       "      <td>NaN</td>\n",
       "      <td>ONSHORE PIPELINE, INCLUDING VALVE SITES</td>\n",
       "      <td>PIPE</td>\n",
       "      <td>42.243290</td>\n",
       "      <td>-84.972510</td>\n",
       "      <td>CRUDE OIL</td>\n",
       "      <td>20082.0</td>\n",
       "      <td>18245.0</td>\n",
       "      <td>ON JULY 26, 2010, ENBRIDGE CONFIRMED A MAINLIN...</td>\n",
       "    </tr>\n",
       "  </tbody>\n",
       "</table>\n",
       "</div>"
      ],
      "text/plain": [
       "   index      LOCAL_DATETIME                                     NAME  \\\n",
       "0   1935 2013-07-29 00:00:00  TESORO HIGH PLAINS PIPELINE COMPANY LLC   \n",
       "1   3060 2010-07-25 17:58:00     ENBRIDGE ENERGY, LIMITED PARTNERSHIP   \n",
       "\n",
       "  ONSHORE_CITY_NAME ONSHORE_STATE_ABBREVIATION         REPORT_TYPE  \\\n",
       "0               NaN                         ND  SUPPLEMENTAL FINAL   \n",
       "1          MARSHALL                         MI  SUPPLEMENTAL FINAL   \n",
       "\n",
       "  ON_OFF_SHORE                             CAUSE  \\\n",
       "0      ONSHORE              NATURAL FORCE DAMAGE   \n",
       "1      ONSHORE  MATERIAL FAILURE OF PIPE OR WELD   \n",
       "\n",
       "                    CAUSE_DETAILS             STRESS_SUBTYPE STRESS_DETAILS  \\\n",
       "0                       LIGHTNING                        NaN            NaN   \n",
       "1  ENVIRONMENTAL CRACKING-RELATED  STRESS CORROSION CRACKING            NaN   \n",
       "\n",
       "                      SYSTEM_PART_INVOLVED ITEM_INVOLVED  LOCATION_LATITUDE  \\\n",
       "0  ONSHORE PIPELINE, INCLUDING VALVE SITES          PIPE          48.524251   \n",
       "1  ONSHORE PIPELINE, INCLUDING VALVE SITES          PIPE          42.243290   \n",
       "\n",
       "   LOCATION_LONGITUDE COMMODITY_RELEASED_TYPE  UNINTENTIONAL_RELEASE_BBLS  \\\n",
       "0         -102.856912               CRUDE OIL                     20600.0   \n",
       "1          -84.972510               CRUDE OIL                     20082.0   \n",
       "\n",
       "   RECOVERED_BBLS                                          NARRATIVE  \n",
       "0          5856.0  ON SEPTEMBER 29, 2013, TESORO HIGH PLAINS PIPE...  \n",
       "1         18245.0  ON JULY 26, 2010, ENBRIDGE CONFIRMED A MAINLIN...  "
      ]
     },
     "execution_count": 30,
     "metadata": {},
     "output_type": "execute_result"
    }
   ],
   "source": [
    "large_releases"
   ]
  },
  {
   "cell_type": "code",
   "execution_count": 31,
   "metadata": {},
   "outputs": [
    {
     "name": "stdout",
     "output_type": "stream",
     "text": [
      "<class 'pandas.core.frame.DataFrame'>\n",
      "RangeIndex: 2 entries, 0 to 1\n",
      "Data columns (total 19 columns):\n",
      "index                         2 non-null int64\n",
      "LOCAL_DATETIME                2 non-null datetime64[ns]\n",
      "NAME                          2 non-null object\n",
      "ONSHORE_CITY_NAME             1 non-null object\n",
      "ONSHORE_STATE_ABBREVIATION    2 non-null object\n",
      "REPORT_TYPE                   2 non-null object\n",
      "ON_OFF_SHORE                  2 non-null object\n",
      "CAUSE                         2 non-null object\n",
      "CAUSE_DETAILS                 2 non-null object\n",
      "STRESS_SUBTYPE                1 non-null object\n",
      "STRESS_DETAILS                0 non-null object\n",
      "SYSTEM_PART_INVOLVED          2 non-null object\n",
      "ITEM_INVOLVED                 2 non-null object\n",
      "LOCATION_LATITUDE             2 non-null float64\n",
      "LOCATION_LONGITUDE            2 non-null float64\n",
      "COMMODITY_RELEASED_TYPE       2 non-null object\n",
      "UNINTENTIONAL_RELEASE_BBLS    2 non-null float64\n",
      "RECOVERED_BBLS                2 non-null float64\n",
      "NARRATIVE                     2 non-null object\n",
      "dtypes: datetime64[ns](1), float64(4), int64(1), object(13)\n",
      "memory usage: 384.0+ bytes\n"
     ]
    }
   ],
   "source": [
    "large_releases.info()"
   ]
  },
  {
   "cell_type": "markdown",
   "metadata": {},
   "source": [
    "## Export large releases to geojson file"
   ]
  },
  {
   "cell_type": "code",
   "execution_count": 33,
   "metadata": {},
   "outputs": [],
   "source": [
    "import json\n",
    "import geojson"
   ]
  },
  {
   "cell_type": "code",
   "execution_count": null,
   "metadata": {},
   "outputs": [],
   "source": [
    "##### SOMETHING NOT WORKING RIGHT"
   ]
  },
  {
   "cell_type": "code",
   "execution_count": null,
   "metadata": {},
   "outputs": [],
   "source": [
    "def data2geojson(df):\n",
    "    points = []\n",
    "    df.apply(lambda X: points.append((X[[\"LOCATION_LONGITUDE\"]],\n",
    "                                     X[[\"LOCATION_LATITUDE\"]]), axis=1))\n",
    "    with open('map.geojson', 'w') as fp:\n",
    "        geojson.dump(geojson.MultiPoint(points), fp, sort_keys=True)"
   ]
  },
  {
   "cell_type": "code",
   "execution_count": 34,
   "metadata": {},
   "outputs": [
    {
     "data": {
      "text/html": [
       "<div>\n",
       "<style scoped>\n",
       "    .dataframe tbody tr th:only-of-type {\n",
       "        vertical-align: middle;\n",
       "    }\n",
       "\n",
       "    .dataframe tbody tr th {\n",
       "        vertical-align: top;\n",
       "    }\n",
       "\n",
       "    .dataframe thead th {\n",
       "        text-align: right;\n",
       "    }\n",
       "</style>\n",
       "<table border=\"1\" class=\"dataframe\">\n",
       "  <thead>\n",
       "    <tr style=\"text-align: right;\">\n",
       "      <th></th>\n",
       "      <th>LOCATION_LONGITUDE</th>\n",
       "      <th>LOCATION_LATITUDE</th>\n",
       "    </tr>\n",
       "  </thead>\n",
       "  <tbody>\n",
       "    <tr>\n",
       "      <th>0</th>\n",
       "      <td>-102.856912</td>\n",
       "      <td>48.524251</td>\n",
       "    </tr>\n",
       "    <tr>\n",
       "      <th>1</th>\n",
       "      <td>-84.972510</td>\n",
       "      <td>42.243290</td>\n",
       "    </tr>\n",
       "  </tbody>\n",
       "</table>\n",
       "</div>"
      ],
      "text/plain": [
       "   LOCATION_LONGITUDE  LOCATION_LATITUDE\n",
       "0         -102.856912          48.524251\n",
       "1          -84.972510          42.243290"
      ]
     },
     "execution_count": 34,
     "metadata": {},
     "output_type": "execute_result"
    }
   ],
   "source": [
    "large_releases[['LOCATION_LONGITUDE', 'LOCATION_LATITUDE']]"
   ]
  },
  {
   "cell_type": "code",
   "execution_count": 35,
   "metadata": {},
   "outputs": [],
   "source": [
    "with open('map.geojson', 'w') as fp:\n",
    "    geojson.dump(geojson.MultiPoint([(-102.856912,48.524251),(-84.972510,42.243290)]), fp, sort_keys=True)"
   ]
  },
  {
   "cell_type": "markdown",
   "metadata": {},
   "source": [
    "## Review Chevron releases"
   ]
  },
  {
   "cell_type": "code",
   "execution_count": 36,
   "metadata": {},
   "outputs": [
    {
     "name": "stdout",
     "output_type": "stream",
     "text": [
      "<class 'pandas.core.frame.DataFrame'>\n",
      "Int64Index: 2707 entries, 1 to 3253\n",
      "Data columns (total 18 columns):\n",
      "LOCAL_DATETIME                2707 non-null datetime64[ns]\n",
      "NAME                          2707 non-null object\n",
      "ONSHORE_CITY_NAME             2619 non-null object\n",
      "ONSHORE_STATE_ABBREVIATION    2687 non-null object\n",
      "REPORT_TYPE                   2707 non-null object\n",
      "ON_OFF_SHORE                  2707 non-null object\n",
      "CAUSE                         2707 non-null object\n",
      "CAUSE_DETAILS                 2707 non-null object\n",
      "STRESS_SUBTYPE                10 non-null object\n",
      "STRESS_DETAILS                7 non-null object\n",
      "SYSTEM_PART_INVOLVED          2707 non-null object\n",
      "ITEM_INVOLVED                 2707 non-null object\n",
      "LOCATION_LATITUDE             2707 non-null float64\n",
      "LOCATION_LONGITUDE            2707 non-null float64\n",
      "COMMODITY_RELEASED_TYPE       2707 non-null object\n",
      "UNINTENTIONAL_RELEASE_BBLS    2707 non-null float64\n",
      "RECOVERED_BBLS                2707 non-null float64\n",
      "NARRATIVE                     2679 non-null object\n",
      "dtypes: datetime64[ns](1), float64(4), object(13)\n",
      "memory usage: 481.8+ KB\n"
     ]
    }
   ],
   "source": [
    "incid_vol_liquid.info()"
   ]
  },
  {
   "cell_type": "code",
   "execution_count": 37,
   "metadata": {},
   "outputs": [],
   "source": [
    "incid_cvx = incid_vol_liquid[incid_vol_liquid['NAME'].str.contains('CHEVRON')]"
   ]
  },
  {
   "cell_type": "code",
   "execution_count": 40,
   "metadata": {},
   "outputs": [
    {
     "data": {
      "text/html": [
       "<div>\n",
       "<style scoped>\n",
       "    .dataframe tbody tr th:only-of-type {\n",
       "        vertical-align: middle;\n",
       "    }\n",
       "\n",
       "    .dataframe tbody tr th {\n",
       "        vertical-align: top;\n",
       "    }\n",
       "\n",
       "    .dataframe thead th {\n",
       "        text-align: right;\n",
       "    }\n",
       "</style>\n",
       "<table border=\"1\" class=\"dataframe\">\n",
       "  <thead>\n",
       "    <tr style=\"text-align: right;\">\n",
       "      <th></th>\n",
       "      <th>LOCAL_DATETIME</th>\n",
       "      <th>NAME</th>\n",
       "      <th>ONSHORE_CITY_NAME</th>\n",
       "      <th>ONSHORE_STATE_ABBREVIATION</th>\n",
       "      <th>REPORT_TYPE</th>\n",
       "      <th>ON_OFF_SHORE</th>\n",
       "      <th>CAUSE</th>\n",
       "      <th>CAUSE_DETAILS</th>\n",
       "      <th>STRESS_SUBTYPE</th>\n",
       "      <th>STRESS_DETAILS</th>\n",
       "      <th>SYSTEM_PART_INVOLVED</th>\n",
       "      <th>ITEM_INVOLVED</th>\n",
       "      <th>LOCATION_LATITUDE</th>\n",
       "      <th>LOCATION_LONGITUDE</th>\n",
       "      <th>COMMODITY_RELEASED_TYPE</th>\n",
       "      <th>UNINTENTIONAL_RELEASE_BBLS</th>\n",
       "      <th>RECOVERED_BBLS</th>\n",
       "      <th>NARRATIVE</th>\n",
       "    </tr>\n",
       "  </thead>\n",
       "  <tbody>\n",
       "    <tr>\n",
       "      <th>1454</th>\n",
       "      <td>2014-09-16 12:45:00</td>\n",
       "      <td>CHEVRON U.S.A. INC</td>\n",
       "      <td>PORT FOURCHON</td>\n",
       "      <td>LA</td>\n",
       "      <td>SUPPLEMENTAL FINAL</td>\n",
       "      <td>ONSHORE</td>\n",
       "      <td>CORROSION FAILURE</td>\n",
       "      <td>INTERNAL CORROSION</td>\n",
       "      <td>NaN</td>\n",
       "      <td>NaN</td>\n",
       "      <td>ONSHORE TERMINAL/TANK FARM EQUIPMENT AND PIPING</td>\n",
       "      <td>AUXILIARY PIPING (E.G. DRAIN LINES)</td>\n",
       "      <td>29.105684</td>\n",
       "      <td>-90.192503</td>\n",
       "      <td>CRUDE OIL</td>\n",
       "      <td>0.02</td>\n",
       "      <td>0.02</td>\n",
       "      <td>A SMALL LEAK IN THE 6 O'CLOCK POSITION OF A 2\"...</td>\n",
       "    </tr>\n",
       "    <tr>\n",
       "      <th>1575</th>\n",
       "      <td>2014-05-24 17:27:00</td>\n",
       "      <td>CHEVRON PIPE LINE CO</td>\n",
       "      <td>MISSOURI TRIANGLE</td>\n",
       "      <td>CA</td>\n",
       "      <td>SUPPLEMENTAL FINAL</td>\n",
       "      <td>ONSHORE</td>\n",
       "      <td>EQUIPMENT FAILURE</td>\n",
       "      <td>PUMP OR PUMP-RELATED EQUIPMENT</td>\n",
       "      <td>NaN</td>\n",
       "      <td>NaN</td>\n",
       "      <td>ONSHORE PUMP/METER STATION EQUIPMENT AND PIPING</td>\n",
       "      <td>PUMP</td>\n",
       "      <td>35.280360</td>\n",
       "      <td>-119.422380</td>\n",
       "      <td>CRUDE OIL</td>\n",
       "      <td>0.24</td>\n",
       "      <td>0.24</td>\n",
       "      <td>ON MAY 24TH 2014 CPL CONTROL CENTER SENT A SHU...</td>\n",
       "    </tr>\n",
       "    <tr>\n",
       "      <th>1722</th>\n",
       "      <td>2014-02-17 10:50:00</td>\n",
       "      <td>CHEVRON PRODUCTS COMPANY - HAWAII</td>\n",
       "      <td>KAPOLEI</td>\n",
       "      <td>HI</td>\n",
       "      <td>SUPPLEMENTAL FINAL</td>\n",
       "      <td>ONSHORE</td>\n",
       "      <td>CORROSION FAILURE</td>\n",
       "      <td>EXTERNAL CORROSION</td>\n",
       "      <td>NaN</td>\n",
       "      <td>NaN</td>\n",
       "      <td>ONSHORE PIPELINE, INCLUDING VALVE SITES</td>\n",
       "      <td>PIPE</td>\n",
       "      <td>21.316680</td>\n",
       "      <td>-158.099930</td>\n",
       "      <td>REFINED AND/OR PETROLEUM PRODUCT (NON-HVL) WHI...</td>\n",
       "      <td>3.00</td>\n",
       "      <td>3.00</td>\n",
       "      <td>ON FEBRUARY 17, 2014 AT 10:50 AM OUTSIDE CALLE...</td>\n",
       "    </tr>\n",
       "    <tr>\n",
       "      <th>1748</th>\n",
       "      <td>2014-01-29 07:25:00</td>\n",
       "      <td>CHEVRON PIPE LINE CO</td>\n",
       "      <td>BURAS</td>\n",
       "      <td>LA</td>\n",
       "      <td>SUPPLEMENTAL FINAL</td>\n",
       "      <td>ONSHORE</td>\n",
       "      <td>EQUIPMENT FAILURE</td>\n",
       "      <td>PUMP OR PUMP-RELATED EQUIPMENT</td>\n",
       "      <td>NaN</td>\n",
       "      <td>NaN</td>\n",
       "      <td>ONSHORE PUMP/METER STATION EQUIPMENT AND PIPING</td>\n",
       "      <td>PUMP</td>\n",
       "      <td>29.374592</td>\n",
       "      <td>-89.552288</td>\n",
       "      <td>CRUDE OIL</td>\n",
       "      <td>0.12</td>\n",
       "      <td>0.12</td>\n",
       "      <td>AT APPROXIMATELY 0725 CST ON 29JAN14 A RELEASE...</td>\n",
       "    </tr>\n",
       "    <tr>\n",
       "      <th>1965</th>\n",
       "      <td>2013-06-30 09:30:00</td>\n",
       "      <td>CHEVRON U.S.A. INC</td>\n",
       "      <td>NaN</td>\n",
       "      <td>NaN</td>\n",
       "      <td>ORIGINAL FINAL</td>\n",
       "      <td>OFFSHORE</td>\n",
       "      <td>CORROSION FAILURE</td>\n",
       "      <td>EXTERNAL CORROSION</td>\n",
       "      <td>NaN</td>\n",
       "      <td>NaN</td>\n",
       "      <td>OFFSHORE PIPELINE, INCLUDING RISER AND RISER BEND</td>\n",
       "      <td>PIPE</td>\n",
       "      <td>29.107880</td>\n",
       "      <td>-90.162120</td>\n",
       "      <td>CRUDE OIL</td>\n",
       "      <td>0.01</td>\n",
       "      <td>0.00</td>\n",
       "      <td>AT 0930 HRS. THE MORNING OF JUNE 30, 2013, A S...</td>\n",
       "    </tr>\n",
       "    <tr>\n",
       "      <th>1994</th>\n",
       "      <td>2013-05-31 00:30:00</td>\n",
       "      <td>CHEVRON PIPE LINE CO</td>\n",
       "      <td>MYTON</td>\n",
       "      <td>UT</td>\n",
       "      <td>SUPPLEMENTAL FINAL</td>\n",
       "      <td>ONSHORE</td>\n",
       "      <td>EQUIPMENT FAILURE</td>\n",
       "      <td>PUMP OR PUMP-RELATED EQUIPMENT</td>\n",
       "      <td>NaN</td>\n",
       "      <td>NaN</td>\n",
       "      <td>ONSHORE PUMP/METER STATION EQUIPMENT AND PIPING</td>\n",
       "      <td>AUXILIARY PIPING (E.G. DRAIN LINES)</td>\n",
       "      <td>40.160050</td>\n",
       "      <td>-110.077696</td>\n",
       "      <td>CRUDE OIL</td>\n",
       "      <td>10.00</td>\n",
       "      <td>10.00</td>\n",
       "      <td>AT APPROXIMATELY 00:30 CDT ON 31MAY13, PERSONN...</td>\n",
       "    </tr>\n",
       "    <tr>\n",
       "      <th>2089</th>\n",
       "      <td>2013-03-18 15:26:00</td>\n",
       "      <td>CHEVRON PIPE LINE CO</td>\n",
       "      <td>WILLARD</td>\n",
       "      <td>UT</td>\n",
       "      <td>SUPPLEMENTAL FINAL</td>\n",
       "      <td>ONSHORE</td>\n",
       "      <td>CORROSION FAILURE</td>\n",
       "      <td>EXTERNAL CORROSION</td>\n",
       "      <td>NaN</td>\n",
       "      <td>NaN</td>\n",
       "      <td>ONSHORE PIPELINE, INCLUDING VALVE SITES</td>\n",
       "      <td>PIPE</td>\n",
       "      <td>41.419421</td>\n",
       "      <td>-112.052591</td>\n",
       "      <td>REFINED AND/OR PETROLEUM PRODUCT (NON-HVL) WHI...</td>\n",
       "      <td>499.00</td>\n",
       "      <td>499.00</td>\n",
       "      <td>AT APPROXIMATELY 1526 CDT ON 18MAR13, THE CPL ...</td>\n",
       "    </tr>\n",
       "    <tr>\n",
       "      <th>2157</th>\n",
       "      <td>2013-01-28 12:42:00</td>\n",
       "      <td>CHEVRON PIPE LINE CO</td>\n",
       "      <td>BOISE</td>\n",
       "      <td>ID</td>\n",
       "      <td>SUPPLEMENTAL FINAL</td>\n",
       "      <td>ONSHORE</td>\n",
       "      <td>NATURAL FORCE DAMAGE</td>\n",
       "      <td>TEMPERATURE</td>\n",
       "      <td>NaN</td>\n",
       "      <td>NaN</td>\n",
       "      <td>ONSHORE TERMINAL/TANK FARM EQUIPMENT AND PIPING</td>\n",
       "      <td>VALVE</td>\n",
       "      <td>43.606700</td>\n",
       "      <td>-116.249000</td>\n",
       "      <td>REFINED AND/OR PETROLEUM PRODUCT (NON-HVL) WHI...</td>\n",
       "      <td>15.00</td>\n",
       "      <td>13.00</td>\n",
       "      <td>TANK 207 HAS AN EXTERNAL FLOATING ROOF DESIGN ...</td>\n",
       "    </tr>\n",
       "    <tr>\n",
       "      <th>2252</th>\n",
       "      <td>2012-11-07 10:40:00</td>\n",
       "      <td>CHEVRON PIPE LINE CO</td>\n",
       "      <td>GARDENA</td>\n",
       "      <td>CA</td>\n",
       "      <td>SUPPLEMENTAL FINAL</td>\n",
       "      <td>ONSHORE</td>\n",
       "      <td>CORROSION FAILURE</td>\n",
       "      <td>INTERNAL CORROSION</td>\n",
       "      <td>NaN</td>\n",
       "      <td>NaN</td>\n",
       "      <td>ONSHORE PIPELINE, INCLUDING VALVE SITES</td>\n",
       "      <td>PIPE</td>\n",
       "      <td>33.902032</td>\n",
       "      <td>-118.313486</td>\n",
       "      <td>REFINED AND/OR PETROLEUM PRODUCT (NON-HVL) WHI...</td>\n",
       "      <td>20.00</td>\n",
       "      <td>0.00</td>\n",
       "      <td>THE #21-8 AND #3-8 PIPELINES WERE SHUT DOWN BA...</td>\n",
       "    </tr>\n",
       "    <tr>\n",
       "      <th>2270</th>\n",
       "      <td>2012-10-17 17:30:00</td>\n",
       "      <td>CHEVRON PIPE LINE CO</td>\n",
       "      <td>BYRON</td>\n",
       "      <td>CA</td>\n",
       "      <td>SUPPLEMENTAL FINAL</td>\n",
       "      <td>ONSHORE</td>\n",
       "      <td>EQUIPMENT FAILURE</td>\n",
       "      <td>FAILURE OF EQUIPMENT BODY (EXCEPT PUMP), TANK ...</td>\n",
       "      <td>NaN</td>\n",
       "      <td>NaN</td>\n",
       "      <td>ONSHORE PIPELINE, INCLUDING VALVE SITES</td>\n",
       "      <td>VALVE</td>\n",
       "      <td>37.817000</td>\n",
       "      <td>-121.587000</td>\n",
       "      <td>REFINED AND/OR PETROLEUM PRODUCT (NON-HVL) WHI...</td>\n",
       "      <td>0.24</td>\n",
       "      <td>0.00</td>\n",
       "      <td>AT APPROXIMATELY 1730 A RELEASE OF 10 GALLONS ...</td>\n",
       "    </tr>\n",
       "    <tr>\n",
       "      <th>2271</th>\n",
       "      <td>2012-10-17 10:09:00</td>\n",
       "      <td>CHEVRON PIPE LINE CO</td>\n",
       "      <td>HANNA</td>\n",
       "      <td>UT</td>\n",
       "      <td>SUPPLEMENTAL FINAL</td>\n",
       "      <td>ONSHORE</td>\n",
       "      <td>EQUIPMENT FAILURE</td>\n",
       "      <td>MALFUNCTION OF CONTROL/RELIEF EQUIPMENT</td>\n",
       "      <td>NaN</td>\n",
       "      <td>NaN</td>\n",
       "      <td>ONSHORE PUMP/METER STATION EQUIPMENT AND PIPING</td>\n",
       "      <td>METER/PROVER</td>\n",
       "      <td>40.401000</td>\n",
       "      <td>-110.759000</td>\n",
       "      <td>CRUDE OIL</td>\n",
       "      <td>30.00</td>\n",
       "      <td>30.00</td>\n",
       "      <td>AT APPROXIMATELY 10:09 CDT ON 17OCT12, THE CPL...</td>\n",
       "    </tr>\n",
       "    <tr>\n",
       "      <th>2311</th>\n",
       "      <td>2012-09-06 12:45:00</td>\n",
       "      <td>CHEVRON PIPE LINE CO</td>\n",
       "      <td>NaN</td>\n",
       "      <td>NaN</td>\n",
       "      <td>SUPPLEMENTAL FINAL</td>\n",
       "      <td>OFFSHORE</td>\n",
       "      <td>EQUIPMENT FAILURE</td>\n",
       "      <td>NON-THREADED CONNECTION FAILURE</td>\n",
       "      <td>NaN</td>\n",
       "      <td>NaN</td>\n",
       "      <td>OFFSHORE PIPELINE, INCLUDING RISER AND RISER BEND</td>\n",
       "      <td>FLANGE</td>\n",
       "      <td>29.485000</td>\n",
       "      <td>-89.444167</td>\n",
       "      <td>CRUDE OIL</td>\n",
       "      <td>0.02</td>\n",
       "      <td>0.00</td>\n",
       "      <td>THE BRETON SOUNDS CRUDE OIL SYSTEM WAS SHUT-IN...</td>\n",
       "    </tr>\n",
       "    <tr>\n",
       "      <th>2338</th>\n",
       "      <td>2012-08-15 13:04:00</td>\n",
       "      <td>CHEVRON PIPE LINE CO</td>\n",
       "      <td>ONTARIO</td>\n",
       "      <td>OR</td>\n",
       "      <td>SUPPLEMENTAL FINAL</td>\n",
       "      <td>ONSHORE</td>\n",
       "      <td>EQUIPMENT FAILURE</td>\n",
       "      <td>NON-THREADED CONNECTION FAILURE</td>\n",
       "      <td>NaN</td>\n",
       "      <td>NaN</td>\n",
       "      <td>ONSHORE PIPELINE, INCLUDING VALVE SITES</td>\n",
       "      <td>INSTRUMENTATION</td>\n",
       "      <td>44.069000</td>\n",
       "      <td>-116.980000</td>\n",
       "      <td>REFINED AND/OR PETROLEUM PRODUCT (NON-HVL) WHI...</td>\n",
       "      <td>0.50</td>\n",
       "      <td>0.50</td>\n",
       "      <td>AT APPROXIMATELY 1:04 PM AUG 15-2012, CSC NOTI...</td>\n",
       "    </tr>\n",
       "    <tr>\n",
       "      <th>2407</th>\n",
       "      <td>2012-05-22 07:43:00</td>\n",
       "      <td>CHEVRON PIPE LINE CO</td>\n",
       "      <td>11.5 MILES NORTH OF MCKITTRICK, CA ON HWY 33</td>\n",
       "      <td>CA</td>\n",
       "      <td>SUPPLEMENTAL FINAL</td>\n",
       "      <td>ONSHORE</td>\n",
       "      <td>OTHER OUTSIDE FORCE DAMAGE</td>\n",
       "      <td>DAMAGE BY CAR, TRUCK, OR OTHER MOTORIZED VEHIC...</td>\n",
       "      <td>NaN</td>\n",
       "      <td>NaN</td>\n",
       "      <td>ONSHORE PIPELINE, INCLUDING VALVE SITES</td>\n",
       "      <td>VALVE</td>\n",
       "      <td>35.467200</td>\n",
       "      <td>-119.704000</td>\n",
       "      <td>CRUDE OIL</td>\n",
       "      <td>9.29</td>\n",
       "      <td>9.29</td>\n",
       "      <td>A 10\" STATION VALVE WAS DAMAGED DURING WORK TH...</td>\n",
       "    </tr>\n",
       "    <tr>\n",
       "      <th>2496</th>\n",
       "      <td>2012-03-04 06:00:00</td>\n",
       "      <td>CHEVRON PIPE LINE CO</td>\n",
       "      <td>EMPIRE</td>\n",
       "      <td>LA</td>\n",
       "      <td>SUPPLEMENTAL</td>\n",
       "      <td>ONSHORE</td>\n",
       "      <td>OTHER INCIDENT CAUSE</td>\n",
       "      <td>MISCELLANEOUS</td>\n",
       "      <td>NaN</td>\n",
       "      <td>NaN</td>\n",
       "      <td>ONSHORE BREAKOUT TANK OR STORAGE VESSEL, INCLU...</td>\n",
       "      <td>TANK/VESSEL</td>\n",
       "      <td>29.373600</td>\n",
       "      <td>-89.551400</td>\n",
       "      <td>CRUDE OIL</td>\n",
       "      <td>0.17</td>\n",
       "      <td>0.17</td>\n",
       "      <td>ON 04MAR12 THE EMPIRE TERMINAL LOCATED IN EMPI...</td>\n",
       "    </tr>\n",
       "    <tr>\n",
       "      <th>2661</th>\n",
       "      <td>2011-09-12 06:16:00</td>\n",
       "      <td>CHEVRON PIPE LINE CO</td>\n",
       "      <td>NaN</td>\n",
       "      <td>NaN</td>\n",
       "      <td>SUPPLEMENTAL FINAL</td>\n",
       "      <td>OFFSHORE</td>\n",
       "      <td>OTHER INCIDENT CAUSE</td>\n",
       "      <td>MISCELLANEOUS</td>\n",
       "      <td>NaN</td>\n",
       "      <td>NaN</td>\n",
       "      <td>OFFSHORE PIPELINE, INCLUDING RISER AND RISER BEND</td>\n",
       "      <td>PIPE</td>\n",
       "      <td>29.265360</td>\n",
       "      <td>-88.772230</td>\n",
       "      <td>CRUDE OIL</td>\n",
       "      <td>0.09</td>\n",
       "      <td>0.00</td>\n",
       "      <td>AT 0616 CDT ON 12 SEP 11 MP 300B (CNAEP) PERSO...</td>\n",
       "    </tr>\n",
       "    <tr>\n",
       "      <th>2719</th>\n",
       "      <td>2011-07-17 17:50:00</td>\n",
       "      <td>CHEVRON PIPE LINE CO</td>\n",
       "      <td>VENICE, LA</td>\n",
       "      <td>LA</td>\n",
       "      <td>ORIGINAL FINAL</td>\n",
       "      <td>ONSHORE</td>\n",
       "      <td>OTHER INCIDENT CAUSE</td>\n",
       "      <td>MISCELLANEOUS</td>\n",
       "      <td>NaN</td>\n",
       "      <td>NaN</td>\n",
       "      <td>ONSHORE PIPELINE, INCLUDING VALVE SITES</td>\n",
       "      <td>SCRAPER/PIG TRAP</td>\n",
       "      <td>29.238862</td>\n",
       "      <td>-89.384553</td>\n",
       "      <td>CRUDE OIL</td>\n",
       "      <td>2.00</td>\n",
       "      <td>2.00</td>\n",
       "      <td>AT 1750 CDT ON 17 JUL 11 CPL PERSONNEL WERE NO...</td>\n",
       "    </tr>\n",
       "    <tr>\n",
       "      <th>2810</th>\n",
       "      <td>2011-03-30 15:35:00</td>\n",
       "      <td>CHEVRON PIPE LINE CO</td>\n",
       "      <td>HABBERMAN</td>\n",
       "      <td>ID</td>\n",
       "      <td>SUPPLEMENTAL FINAL</td>\n",
       "      <td>ONSHORE</td>\n",
       "      <td>CORROSION FAILURE</td>\n",
       "      <td>EXTERNAL CORROSION</td>\n",
       "      <td>NaN</td>\n",
       "      <td>NaN</td>\n",
       "      <td>ONSHORE PIPELINE, INCLUDING VALVE SITES</td>\n",
       "      <td>PIPE</td>\n",
       "      <td>42.738390</td>\n",
       "      <td>-114.948008</td>\n",
       "      <td>REFINED AND/OR PETROLEUM PRODUCT (NON-HVL) WHI...</td>\n",
       "      <td>228.00</td>\n",
       "      <td>23.00</td>\n",
       "      <td>03/30/2011 @ 15:19CDT, CPL CONTROL CENTER IN H...</td>\n",
       "    </tr>\n",
       "    <tr>\n",
       "      <th>2814</th>\n",
       "      <td>2011-03-25 05:10:00</td>\n",
       "      <td>CHEVRON PRODUCTS COMPANY</td>\n",
       "      <td>LOUISVILLE</td>\n",
       "      <td>KY</td>\n",
       "      <td>SUPPLEMENTAL FINAL</td>\n",
       "      <td>ONSHORE</td>\n",
       "      <td>EQUIPMENT FAILURE</td>\n",
       "      <td>PUMP OR PUMP-RELATED EQUIPMENT</td>\n",
       "      <td>NaN</td>\n",
       "      <td>NaN</td>\n",
       "      <td>ONSHORE TERMINAL/TANK FARM EQUIPMENT AND PIPING</td>\n",
       "      <td>PUMP</td>\n",
       "      <td>38.133700</td>\n",
       "      <td>-85.501200</td>\n",
       "      <td>REFINED AND/OR PETROLEUM PRODUCT (NON-HVL) WHI...</td>\n",
       "      <td>10.00</td>\n",
       "      <td>1.00</td>\n",
       "      <td>AT 05:10 ON THE MORNING OF MARCH 25, 2011 THE ...</td>\n",
       "    </tr>\n",
       "    <tr>\n",
       "      <th>2879</th>\n",
       "      <td>2011-01-26 16:03:00</td>\n",
       "      <td>CHEVRON PIPE LINE CO</td>\n",
       "      <td>NaN</td>\n",
       "      <td>NaN</td>\n",
       "      <td>SUPPLEMENTAL FINAL</td>\n",
       "      <td>OFFSHORE</td>\n",
       "      <td>EXCAVATION DAMAGE</td>\n",
       "      <td>EXCAVATION DAMAGE BY OPERATOR'S CONTRACTOR (SE...</td>\n",
       "      <td>NaN</td>\n",
       "      <td>NaN</td>\n",
       "      <td>OFFSHORE PIPELINE, INCLUDING RISER AND RISER BEND</td>\n",
       "      <td>PIPE</td>\n",
       "      <td>29.375300</td>\n",
       "      <td>-89.356100</td>\n",
       "      <td>CRUDE OIL</td>\n",
       "      <td>79.00</td>\n",
       "      <td>79.00</td>\n",
       "      <td>AT 1603 CST ON 26 JAN 11 FIELD PERSONNEL WERE ...</td>\n",
       "    </tr>\n",
       "    <tr>\n",
       "      <th>2943</th>\n",
       "      <td>2010-12-01 17:00:00</td>\n",
       "      <td>CHEVRON PIPE LINE CO</td>\n",
       "      <td>SALT LAKE CITY</td>\n",
       "      <td>UT</td>\n",
       "      <td>SUPPLEMENTAL FINAL</td>\n",
       "      <td>ONSHORE</td>\n",
       "      <td>INCORRECT OPERATION</td>\n",
       "      <td>OTHER INCORRECT OPERATION</td>\n",
       "      <td>NaN</td>\n",
       "      <td>NaN</td>\n",
       "      <td>ONSHORE PIPELINE, INCLUDING VALVE SITES</td>\n",
       "      <td>VALVE</td>\n",
       "      <td>40.766643</td>\n",
       "      <td>-111.827358</td>\n",
       "      <td>CRUDE OIL</td>\n",
       "      <td>500.00</td>\n",
       "      <td>250.00</td>\n",
       "      <td>ON 01 DEC 10, CHEVRON PIPE LINE (CPL) CONTROLL...</td>\n",
       "    </tr>\n",
       "    <tr>\n",
       "      <th>2952</th>\n",
       "      <td>2010-11-27 09:30:00</td>\n",
       "      <td>CHEVRON PIPE LINE CO</td>\n",
       "      <td>MCKITTRICK</td>\n",
       "      <td>CA</td>\n",
       "      <td>SUPPLEMENTAL FINAL</td>\n",
       "      <td>ONSHORE</td>\n",
       "      <td>EQUIPMENT FAILURE</td>\n",
       "      <td>PUMP OR PUMP-RELATED EQUIPMENT</td>\n",
       "      <td>NaN</td>\n",
       "      <td>NaN</td>\n",
       "      <td>ONSHORE PUMP/METER STATION EQUIPMENT AND PIPING</td>\n",
       "      <td>PUMP</td>\n",
       "      <td>35.383359</td>\n",
       "      <td>-119.742552</td>\n",
       "      <td>CRUDE OIL</td>\n",
       "      <td>0.54</td>\n",
       "      <td>0.54</td>\n",
       "      <td>FIELD PERSONNEL DISCOVERED A RELEASE AT THE CH...</td>\n",
       "    </tr>\n",
       "    <tr>\n",
       "      <th>2956</th>\n",
       "      <td>2010-11-23 06:00:00</td>\n",
       "      <td>CHEVRON PIPE LINE CO</td>\n",
       "      <td>TAFT</td>\n",
       "      <td>CA</td>\n",
       "      <td>SUPPLEMENTAL FINAL</td>\n",
       "      <td>ONSHORE</td>\n",
       "      <td>CORROSION FAILURE</td>\n",
       "      <td>INTERNAL CORROSION</td>\n",
       "      <td>NaN</td>\n",
       "      <td>NaN</td>\n",
       "      <td>ONSHORE PUMP/METER STATION EQUIPMENT AND PIPING</td>\n",
       "      <td>PIPE</td>\n",
       "      <td>35.119174</td>\n",
       "      <td>-119.378251</td>\n",
       "      <td>CRUDE OIL</td>\n",
       "      <td>0.76</td>\n",
       "      <td>0.76</td>\n",
       "      <td>NaN</td>\n",
       "    </tr>\n",
       "    <tr>\n",
       "      <th>3094</th>\n",
       "      <td>2010-06-12 07:42:00</td>\n",
       "      <td>CHEVRON PIPE LINE CO</td>\n",
       "      <td>SALT LAKE CITY</td>\n",
       "      <td>UT</td>\n",
       "      <td>SUPPLEMENTAL FINAL</td>\n",
       "      <td>ONSHORE</td>\n",
       "      <td>OTHER OUTSIDE FORCE DAMAGE</td>\n",
       "      <td>ELECTRICAL ARCING FROM OTHER EQUIPMENT OR FACI...</td>\n",
       "      <td>NaN</td>\n",
       "      <td>NaN</td>\n",
       "      <td>ONSHORE PIPELINE, INCLUDING VALVE SITES</td>\n",
       "      <td>PIPE</td>\n",
       "      <td>40.765050</td>\n",
       "      <td>-111.824930</td>\n",
       "      <td>CRUDE OIL</td>\n",
       "      <td>800.00</td>\n",
       "      <td>778.00</td>\n",
       "      <td>CHEVRON PIPE LINE (CPL) CONTROLLER WAS NOTIFIE...</td>\n",
       "    </tr>\n",
       "    <tr>\n",
       "      <th>3110</th>\n",
       "      <td>2010-06-01 10:00:00</td>\n",
       "      <td>CHEVRON PIPE LINE CO</td>\n",
       "      <td>MCKITTRICK</td>\n",
       "      <td>CA</td>\n",
       "      <td>SUPPLEMENTAL FINAL</td>\n",
       "      <td>ONSHORE</td>\n",
       "      <td>CORROSION FAILURE</td>\n",
       "      <td>EXTERNAL CORROSION</td>\n",
       "      <td>NaN</td>\n",
       "      <td>NaN</td>\n",
       "      <td>ONSHORE PIPELINE, INCLUDING VALVE SITES</td>\n",
       "      <td>PIPE</td>\n",
       "      <td>35.467203</td>\n",
       "      <td>-119.703991</td>\n",
       "      <td>CRUDE OIL</td>\n",
       "      <td>508.00</td>\n",
       "      <td>500.00</td>\n",
       "      <td>01 JUN 10 FIELD PERSONNEL INVESTIGATING A POSS...</td>\n",
       "    </tr>\n",
       "    <tr>\n",
       "      <th>3149</th>\n",
       "      <td>2010-04-26 10:18:00</td>\n",
       "      <td>CHEVRON PIPE LINE CO</td>\n",
       "      <td>TWIN FALLS</td>\n",
       "      <td>ID</td>\n",
       "      <td>SUPPLEMENTAL FINAL</td>\n",
       "      <td>ONSHORE</td>\n",
       "      <td>CORROSION FAILURE</td>\n",
       "      <td>EXTERNAL CORROSION</td>\n",
       "      <td>NaN</td>\n",
       "      <td>NaN</td>\n",
       "      <td>ONSHORE PIPELINE, INCLUDING VALVE SITES</td>\n",
       "      <td>PIPE</td>\n",
       "      <td>42.518620</td>\n",
       "      <td>-114.270340</td>\n",
       "      <td>REFINED AND/OR PETROLEUM PRODUCT (NON-HVL) WHI...</td>\n",
       "      <td>22.00</td>\n",
       "      <td>21.00</td>\n",
       "      <td>THE COMPANY CONTROL CENTER IN HOUSTON,TX RECEI...</td>\n",
       "    </tr>\n",
       "    <tr>\n",
       "      <th>3167</th>\n",
       "      <td>2010-04-07 01:46:00</td>\n",
       "      <td>CHEVRON PRODUCTS COMPANY</td>\n",
       "      <td>LOUISVILLE</td>\n",
       "      <td>KY</td>\n",
       "      <td>SUPPLEMENTAL FINAL</td>\n",
       "      <td>ONSHORE</td>\n",
       "      <td>EQUIPMENT FAILURE</td>\n",
       "      <td>PUMP OR PUMP-RELATED EQUIPMENT</td>\n",
       "      <td>NaN</td>\n",
       "      <td>NaN</td>\n",
       "      <td>ONSHORE PIPELINE, INCLUDING VALVE SITES</td>\n",
       "      <td>PUMP</td>\n",
       "      <td>38.133700</td>\n",
       "      <td>-85.501200</td>\n",
       "      <td>REFINED AND/OR PETROLEUM PRODUCT (NON-HVL) WHI...</td>\n",
       "      <td>4.00</td>\n",
       "      <td>4.00</td>\n",
       "      <td>ON 4-7-2010 AT APPROXIMATELY 1:46 PM OPERATOR ...</td>\n",
       "    </tr>\n",
       "    <tr>\n",
       "      <th>3168</th>\n",
       "      <td>2010-04-05 23:45:00</td>\n",
       "      <td>CHEVRON PIPE LINE CO</td>\n",
       "      <td>VENICE</td>\n",
       "      <td>LA</td>\n",
       "      <td>SUPPLEMENTAL FINAL</td>\n",
       "      <td>ONSHORE</td>\n",
       "      <td>EXCAVATION DAMAGE</td>\n",
       "      <td>EXCAVATION DAMAGE BY THIRD PARTY</td>\n",
       "      <td>NaN</td>\n",
       "      <td>NaN</td>\n",
       "      <td>ONSHORE PIPELINE, INCLUDING VALVE SITES</td>\n",
       "      <td>PIPE</td>\n",
       "      <td>29.256400</td>\n",
       "      <td>-89.188300</td>\n",
       "      <td>CRUDE OIL</td>\n",
       "      <td>400.00</td>\n",
       "      <td>185.00</td>\n",
       "      <td>AT 23:45 CDT ON 05 APR 10 CSC SCADA INFORMATIO...</td>\n",
       "    </tr>\n",
       "  </tbody>\n",
       "</table>\n",
       "</div>"
      ],
      "text/plain": [
       "          LOCAL_DATETIME                               NAME  \\\n",
       "1454 2014-09-16 12:45:00                 CHEVRON U.S.A. INC   \n",
       "1575 2014-05-24 17:27:00               CHEVRON PIPE LINE CO   \n",
       "1722 2014-02-17 10:50:00  CHEVRON PRODUCTS COMPANY - HAWAII   \n",
       "1748 2014-01-29 07:25:00               CHEVRON PIPE LINE CO   \n",
       "1965 2013-06-30 09:30:00                 CHEVRON U.S.A. INC   \n",
       "1994 2013-05-31 00:30:00               CHEVRON PIPE LINE CO   \n",
       "2089 2013-03-18 15:26:00               CHEVRON PIPE LINE CO   \n",
       "2157 2013-01-28 12:42:00               CHEVRON PIPE LINE CO   \n",
       "2252 2012-11-07 10:40:00               CHEVRON PIPE LINE CO   \n",
       "2270 2012-10-17 17:30:00               CHEVRON PIPE LINE CO   \n",
       "2271 2012-10-17 10:09:00               CHEVRON PIPE LINE CO   \n",
       "2311 2012-09-06 12:45:00               CHEVRON PIPE LINE CO   \n",
       "2338 2012-08-15 13:04:00               CHEVRON PIPE LINE CO   \n",
       "2407 2012-05-22 07:43:00               CHEVRON PIPE LINE CO   \n",
       "2496 2012-03-04 06:00:00               CHEVRON PIPE LINE CO   \n",
       "2661 2011-09-12 06:16:00               CHEVRON PIPE LINE CO   \n",
       "2719 2011-07-17 17:50:00               CHEVRON PIPE LINE CO   \n",
       "2810 2011-03-30 15:35:00               CHEVRON PIPE LINE CO   \n",
       "2814 2011-03-25 05:10:00           CHEVRON PRODUCTS COMPANY   \n",
       "2879 2011-01-26 16:03:00               CHEVRON PIPE LINE CO   \n",
       "2943 2010-12-01 17:00:00               CHEVRON PIPE LINE CO   \n",
       "2952 2010-11-27 09:30:00               CHEVRON PIPE LINE CO   \n",
       "2956 2010-11-23 06:00:00               CHEVRON PIPE LINE CO   \n",
       "3094 2010-06-12 07:42:00               CHEVRON PIPE LINE CO   \n",
       "3110 2010-06-01 10:00:00               CHEVRON PIPE LINE CO   \n",
       "3149 2010-04-26 10:18:00               CHEVRON PIPE LINE CO   \n",
       "3167 2010-04-07 01:46:00           CHEVRON PRODUCTS COMPANY   \n",
       "3168 2010-04-05 23:45:00               CHEVRON PIPE LINE CO   \n",
       "\n",
       "                                 ONSHORE_CITY_NAME ONSHORE_STATE_ABBREVIATION  \\\n",
       "1454                                 PORT FOURCHON                         LA   \n",
       "1575                             MISSOURI TRIANGLE                         CA   \n",
       "1722                                       KAPOLEI                         HI   \n",
       "1748                                         BURAS                         LA   \n",
       "1965                                           NaN                        NaN   \n",
       "1994                                         MYTON                         UT   \n",
       "2089                                       WILLARD                         UT   \n",
       "2157                                         BOISE                         ID   \n",
       "2252                                       GARDENA                         CA   \n",
       "2270                                         BYRON                         CA   \n",
       "2271                                        HANNA                          UT   \n",
       "2311                                           NaN                        NaN   \n",
       "2338                                       ONTARIO                         OR   \n",
       "2407  11.5 MILES NORTH OF MCKITTRICK, CA ON HWY 33                         CA   \n",
       "2496                                       EMPIRE                          LA   \n",
       "2661                                           NaN                        NaN   \n",
       "2719                                    VENICE, LA                         LA   \n",
       "2810                                     HABBERMAN                         ID   \n",
       "2814                                    LOUISVILLE                         KY   \n",
       "2879                                           NaN                        NaN   \n",
       "2943                                SALT LAKE CITY                         UT   \n",
       "2952                                    MCKITTRICK                         CA   \n",
       "2956                                          TAFT                         CA   \n",
       "3094                                SALT LAKE CITY                         UT   \n",
       "3110                                    MCKITTRICK                         CA   \n",
       "3149                                    TWIN FALLS                         ID   \n",
       "3167                                    LOUISVILLE                         KY   \n",
       "3168                                        VENICE                         LA   \n",
       "\n",
       "             REPORT_TYPE ON_OFF_SHORE                       CAUSE  \\\n",
       "1454  SUPPLEMENTAL FINAL      ONSHORE           CORROSION FAILURE   \n",
       "1575  SUPPLEMENTAL FINAL      ONSHORE           EQUIPMENT FAILURE   \n",
       "1722  SUPPLEMENTAL FINAL      ONSHORE           CORROSION FAILURE   \n",
       "1748  SUPPLEMENTAL FINAL      ONSHORE           EQUIPMENT FAILURE   \n",
       "1965      ORIGINAL FINAL     OFFSHORE           CORROSION FAILURE   \n",
       "1994  SUPPLEMENTAL FINAL      ONSHORE           EQUIPMENT FAILURE   \n",
       "2089  SUPPLEMENTAL FINAL      ONSHORE           CORROSION FAILURE   \n",
       "2157  SUPPLEMENTAL FINAL      ONSHORE        NATURAL FORCE DAMAGE   \n",
       "2252  SUPPLEMENTAL FINAL      ONSHORE           CORROSION FAILURE   \n",
       "2270  SUPPLEMENTAL FINAL      ONSHORE           EQUIPMENT FAILURE   \n",
       "2271  SUPPLEMENTAL FINAL      ONSHORE           EQUIPMENT FAILURE   \n",
       "2311  SUPPLEMENTAL FINAL     OFFSHORE           EQUIPMENT FAILURE   \n",
       "2338  SUPPLEMENTAL FINAL      ONSHORE           EQUIPMENT FAILURE   \n",
       "2407  SUPPLEMENTAL FINAL      ONSHORE  OTHER OUTSIDE FORCE DAMAGE   \n",
       "2496        SUPPLEMENTAL      ONSHORE        OTHER INCIDENT CAUSE   \n",
       "2661  SUPPLEMENTAL FINAL     OFFSHORE        OTHER INCIDENT CAUSE   \n",
       "2719      ORIGINAL FINAL      ONSHORE        OTHER INCIDENT CAUSE   \n",
       "2810  SUPPLEMENTAL FINAL      ONSHORE           CORROSION FAILURE   \n",
       "2814  SUPPLEMENTAL FINAL      ONSHORE           EQUIPMENT FAILURE   \n",
       "2879  SUPPLEMENTAL FINAL     OFFSHORE           EXCAVATION DAMAGE   \n",
       "2943  SUPPLEMENTAL FINAL      ONSHORE         INCORRECT OPERATION   \n",
       "2952  SUPPLEMENTAL FINAL      ONSHORE           EQUIPMENT FAILURE   \n",
       "2956  SUPPLEMENTAL FINAL      ONSHORE           CORROSION FAILURE   \n",
       "3094  SUPPLEMENTAL FINAL      ONSHORE  OTHER OUTSIDE FORCE DAMAGE   \n",
       "3110  SUPPLEMENTAL FINAL      ONSHORE           CORROSION FAILURE   \n",
       "3149  SUPPLEMENTAL FINAL      ONSHORE           CORROSION FAILURE   \n",
       "3167  SUPPLEMENTAL FINAL      ONSHORE           EQUIPMENT FAILURE   \n",
       "3168  SUPPLEMENTAL FINAL      ONSHORE           EXCAVATION DAMAGE   \n",
       "\n",
       "                                          CAUSE_DETAILS STRESS_SUBTYPE  \\\n",
       "1454                                 INTERNAL CORROSION            NaN   \n",
       "1575                     PUMP OR PUMP-RELATED EQUIPMENT            NaN   \n",
       "1722                                 EXTERNAL CORROSION            NaN   \n",
       "1748                     PUMP OR PUMP-RELATED EQUIPMENT            NaN   \n",
       "1965                                 EXTERNAL CORROSION            NaN   \n",
       "1994                     PUMP OR PUMP-RELATED EQUIPMENT            NaN   \n",
       "2089                                 EXTERNAL CORROSION            NaN   \n",
       "2157                                        TEMPERATURE            NaN   \n",
       "2252                                 INTERNAL CORROSION            NaN   \n",
       "2270  FAILURE OF EQUIPMENT BODY (EXCEPT PUMP), TANK ...            NaN   \n",
       "2271            MALFUNCTION OF CONTROL/RELIEF EQUIPMENT            NaN   \n",
       "2311                    NON-THREADED CONNECTION FAILURE            NaN   \n",
       "2338                    NON-THREADED CONNECTION FAILURE            NaN   \n",
       "2407  DAMAGE BY CAR, TRUCK, OR OTHER MOTORIZED VEHIC...            NaN   \n",
       "2496                                      MISCELLANEOUS            NaN   \n",
       "2661                                      MISCELLANEOUS            NaN   \n",
       "2719                                      MISCELLANEOUS            NaN   \n",
       "2810                                 EXTERNAL CORROSION            NaN   \n",
       "2814                     PUMP OR PUMP-RELATED EQUIPMENT            NaN   \n",
       "2879  EXCAVATION DAMAGE BY OPERATOR'S CONTRACTOR (SE...            NaN   \n",
       "2943                          OTHER INCORRECT OPERATION            NaN   \n",
       "2952                     PUMP OR PUMP-RELATED EQUIPMENT            NaN   \n",
       "2956                                 INTERNAL CORROSION            NaN   \n",
       "3094  ELECTRICAL ARCING FROM OTHER EQUIPMENT OR FACI...            NaN   \n",
       "3110                                 EXTERNAL CORROSION            NaN   \n",
       "3149                                 EXTERNAL CORROSION            NaN   \n",
       "3167                     PUMP OR PUMP-RELATED EQUIPMENT            NaN   \n",
       "3168                   EXCAVATION DAMAGE BY THIRD PARTY            NaN   \n",
       "\n",
       "     STRESS_DETAILS                               SYSTEM_PART_INVOLVED  \\\n",
       "1454            NaN    ONSHORE TERMINAL/TANK FARM EQUIPMENT AND PIPING   \n",
       "1575            NaN    ONSHORE PUMP/METER STATION EQUIPMENT AND PIPING   \n",
       "1722            NaN            ONSHORE PIPELINE, INCLUDING VALVE SITES   \n",
       "1748            NaN    ONSHORE PUMP/METER STATION EQUIPMENT AND PIPING   \n",
       "1965            NaN  OFFSHORE PIPELINE, INCLUDING RISER AND RISER BEND   \n",
       "1994            NaN    ONSHORE PUMP/METER STATION EQUIPMENT AND PIPING   \n",
       "2089            NaN            ONSHORE PIPELINE, INCLUDING VALVE SITES   \n",
       "2157            NaN    ONSHORE TERMINAL/TANK FARM EQUIPMENT AND PIPING   \n",
       "2252            NaN            ONSHORE PIPELINE, INCLUDING VALVE SITES   \n",
       "2270            NaN            ONSHORE PIPELINE, INCLUDING VALVE SITES   \n",
       "2271            NaN    ONSHORE PUMP/METER STATION EQUIPMENT AND PIPING   \n",
       "2311            NaN  OFFSHORE PIPELINE, INCLUDING RISER AND RISER BEND   \n",
       "2338            NaN            ONSHORE PIPELINE, INCLUDING VALVE SITES   \n",
       "2407            NaN            ONSHORE PIPELINE, INCLUDING VALVE SITES   \n",
       "2496            NaN  ONSHORE BREAKOUT TANK OR STORAGE VESSEL, INCLU...   \n",
       "2661            NaN  OFFSHORE PIPELINE, INCLUDING RISER AND RISER BEND   \n",
       "2719            NaN            ONSHORE PIPELINE, INCLUDING VALVE SITES   \n",
       "2810            NaN            ONSHORE PIPELINE, INCLUDING VALVE SITES   \n",
       "2814            NaN    ONSHORE TERMINAL/TANK FARM EQUIPMENT AND PIPING   \n",
       "2879            NaN  OFFSHORE PIPELINE, INCLUDING RISER AND RISER BEND   \n",
       "2943            NaN            ONSHORE PIPELINE, INCLUDING VALVE SITES   \n",
       "2952            NaN    ONSHORE PUMP/METER STATION EQUIPMENT AND PIPING   \n",
       "2956            NaN    ONSHORE PUMP/METER STATION EQUIPMENT AND PIPING   \n",
       "3094            NaN            ONSHORE PIPELINE, INCLUDING VALVE SITES   \n",
       "3110            NaN            ONSHORE PIPELINE, INCLUDING VALVE SITES   \n",
       "3149            NaN            ONSHORE PIPELINE, INCLUDING VALVE SITES   \n",
       "3167            NaN            ONSHORE PIPELINE, INCLUDING VALVE SITES   \n",
       "3168            NaN            ONSHORE PIPELINE, INCLUDING VALVE SITES   \n",
       "\n",
       "                            ITEM_INVOLVED  LOCATION_LATITUDE  \\\n",
       "1454  AUXILIARY PIPING (E.G. DRAIN LINES)          29.105684   \n",
       "1575                                 PUMP          35.280360   \n",
       "1722                                 PIPE          21.316680   \n",
       "1748                                 PUMP          29.374592   \n",
       "1965                                 PIPE          29.107880   \n",
       "1994  AUXILIARY PIPING (E.G. DRAIN LINES)          40.160050   \n",
       "2089                                 PIPE          41.419421   \n",
       "2157                                VALVE          43.606700   \n",
       "2252                                 PIPE          33.902032   \n",
       "2270                                VALVE          37.817000   \n",
       "2271                         METER/PROVER          40.401000   \n",
       "2311                               FLANGE          29.485000   \n",
       "2338                      INSTRUMENTATION          44.069000   \n",
       "2407                                VALVE          35.467200   \n",
       "2496                          TANK/VESSEL          29.373600   \n",
       "2661                                 PIPE          29.265360   \n",
       "2719                     SCRAPER/PIG TRAP          29.238862   \n",
       "2810                                 PIPE          42.738390   \n",
       "2814                                 PUMP          38.133700   \n",
       "2879                                 PIPE          29.375300   \n",
       "2943                                VALVE          40.766643   \n",
       "2952                                 PUMP          35.383359   \n",
       "2956                                 PIPE          35.119174   \n",
       "3094                                 PIPE          40.765050   \n",
       "3110                                 PIPE          35.467203   \n",
       "3149                                 PIPE          42.518620   \n",
       "3167                                 PUMP          38.133700   \n",
       "3168                                 PIPE          29.256400   \n",
       "\n",
       "      LOCATION_LONGITUDE                            COMMODITY_RELEASED_TYPE  \\\n",
       "1454          -90.192503                                          CRUDE OIL   \n",
       "1575         -119.422380                                          CRUDE OIL   \n",
       "1722         -158.099930  REFINED AND/OR PETROLEUM PRODUCT (NON-HVL) WHI...   \n",
       "1748          -89.552288                                          CRUDE OIL   \n",
       "1965          -90.162120                                          CRUDE OIL   \n",
       "1994         -110.077696                                          CRUDE OIL   \n",
       "2089         -112.052591  REFINED AND/OR PETROLEUM PRODUCT (NON-HVL) WHI...   \n",
       "2157         -116.249000  REFINED AND/OR PETROLEUM PRODUCT (NON-HVL) WHI...   \n",
       "2252         -118.313486  REFINED AND/OR PETROLEUM PRODUCT (NON-HVL) WHI...   \n",
       "2270         -121.587000  REFINED AND/OR PETROLEUM PRODUCT (NON-HVL) WHI...   \n",
       "2271         -110.759000                                          CRUDE OIL   \n",
       "2311          -89.444167                                          CRUDE OIL   \n",
       "2338         -116.980000  REFINED AND/OR PETROLEUM PRODUCT (NON-HVL) WHI...   \n",
       "2407         -119.704000                                          CRUDE OIL   \n",
       "2496          -89.551400                                          CRUDE OIL   \n",
       "2661          -88.772230                                          CRUDE OIL   \n",
       "2719          -89.384553                                          CRUDE OIL   \n",
       "2810         -114.948008  REFINED AND/OR PETROLEUM PRODUCT (NON-HVL) WHI...   \n",
       "2814          -85.501200  REFINED AND/OR PETROLEUM PRODUCT (NON-HVL) WHI...   \n",
       "2879          -89.356100                                          CRUDE OIL   \n",
       "2943         -111.827358                                          CRUDE OIL   \n",
       "2952         -119.742552                                          CRUDE OIL   \n",
       "2956         -119.378251                                          CRUDE OIL   \n",
       "3094         -111.824930                                          CRUDE OIL   \n",
       "3110         -119.703991                                          CRUDE OIL   \n",
       "3149         -114.270340  REFINED AND/OR PETROLEUM PRODUCT (NON-HVL) WHI...   \n",
       "3167          -85.501200  REFINED AND/OR PETROLEUM PRODUCT (NON-HVL) WHI...   \n",
       "3168          -89.188300                                          CRUDE OIL   \n",
       "\n",
       "      UNINTENTIONAL_RELEASE_BBLS  RECOVERED_BBLS  \\\n",
       "1454                        0.02            0.02   \n",
       "1575                        0.24            0.24   \n",
       "1722                        3.00            3.00   \n",
       "1748                        0.12            0.12   \n",
       "1965                        0.01            0.00   \n",
       "1994                       10.00           10.00   \n",
       "2089                      499.00          499.00   \n",
       "2157                       15.00           13.00   \n",
       "2252                       20.00            0.00   \n",
       "2270                        0.24            0.00   \n",
       "2271                       30.00           30.00   \n",
       "2311                        0.02            0.00   \n",
       "2338                        0.50            0.50   \n",
       "2407                        9.29            9.29   \n",
       "2496                        0.17            0.17   \n",
       "2661                        0.09            0.00   \n",
       "2719                        2.00            2.00   \n",
       "2810                      228.00           23.00   \n",
       "2814                       10.00            1.00   \n",
       "2879                       79.00           79.00   \n",
       "2943                      500.00          250.00   \n",
       "2952                        0.54            0.54   \n",
       "2956                        0.76            0.76   \n",
       "3094                      800.00          778.00   \n",
       "3110                      508.00          500.00   \n",
       "3149                       22.00           21.00   \n",
       "3167                        4.00            4.00   \n",
       "3168                      400.00          185.00   \n",
       "\n",
       "                                              NARRATIVE  \n",
       "1454  A SMALL LEAK IN THE 6 O'CLOCK POSITION OF A 2\"...  \n",
       "1575  ON MAY 24TH 2014 CPL CONTROL CENTER SENT A SHU...  \n",
       "1722  ON FEBRUARY 17, 2014 AT 10:50 AM OUTSIDE CALLE...  \n",
       "1748  AT APPROXIMATELY 0725 CST ON 29JAN14 A RELEASE...  \n",
       "1965  AT 0930 HRS. THE MORNING OF JUNE 30, 2013, A S...  \n",
       "1994  AT APPROXIMATELY 00:30 CDT ON 31MAY13, PERSONN...  \n",
       "2089  AT APPROXIMATELY 1526 CDT ON 18MAR13, THE CPL ...  \n",
       "2157  TANK 207 HAS AN EXTERNAL FLOATING ROOF DESIGN ...  \n",
       "2252  THE #21-8 AND #3-8 PIPELINES WERE SHUT DOWN BA...  \n",
       "2270  AT APPROXIMATELY 1730 A RELEASE OF 10 GALLONS ...  \n",
       "2271  AT APPROXIMATELY 10:09 CDT ON 17OCT12, THE CPL...  \n",
       "2311  THE BRETON SOUNDS CRUDE OIL SYSTEM WAS SHUT-IN...  \n",
       "2338  AT APPROXIMATELY 1:04 PM AUG 15-2012, CSC NOTI...  \n",
       "2407  A 10\" STATION VALVE WAS DAMAGED DURING WORK TH...  \n",
       "2496  ON 04MAR12 THE EMPIRE TERMINAL LOCATED IN EMPI...  \n",
       "2661  AT 0616 CDT ON 12 SEP 11 MP 300B (CNAEP) PERSO...  \n",
       "2719  AT 1750 CDT ON 17 JUL 11 CPL PERSONNEL WERE NO...  \n",
       "2810  03/30/2011 @ 15:19CDT, CPL CONTROL CENTER IN H...  \n",
       "2814  AT 05:10 ON THE MORNING OF MARCH 25, 2011 THE ...  \n",
       "2879  AT 1603 CST ON 26 JAN 11 FIELD PERSONNEL WERE ...  \n",
       "2943  ON 01 DEC 10, CHEVRON PIPE LINE (CPL) CONTROLL...  \n",
       "2952  FIELD PERSONNEL DISCOVERED A RELEASE AT THE CH...  \n",
       "2956                                                NaN  \n",
       "3094  CHEVRON PIPE LINE (CPL) CONTROLLER WAS NOTIFIE...  \n",
       "3110  01 JUN 10 FIELD PERSONNEL INVESTIGATING A POSS...  \n",
       "3149  THE COMPANY CONTROL CENTER IN HOUSTON,TX RECEI...  \n",
       "3167  ON 4-7-2010 AT APPROXIMATELY 1:46 PM OPERATOR ...  \n",
       "3168  AT 23:45 CDT ON 05 APR 10 CSC SCADA INFORMATIO...  "
      ]
     },
     "execution_count": 40,
     "metadata": {},
     "output_type": "execute_result"
    }
   ],
   "source": [
    "incid_cvx"
   ]
  },
  {
   "cell_type": "code",
   "execution_count": 43,
   "metadata": {},
   "outputs": [],
   "source": [
    "incid_cvx_all = incid[(incid['NAME'].str.contains('CHEVRON')) & (incid['ONSHORE_STATE_ABBREVIATION'] == 'CO')]"
   ]
  },
  {
   "cell_type": "code",
   "execution_count": 45,
   "metadata": {},
   "outputs": [
    {
     "data": {
      "text/html": [
       "<div>\n",
       "<style scoped>\n",
       "    .dataframe tbody tr th:only-of-type {\n",
       "        vertical-align: middle;\n",
       "    }\n",
       "\n",
       "    .dataframe tbody tr th {\n",
       "        vertical-align: top;\n",
       "    }\n",
       "\n",
       "    .dataframe thead th {\n",
       "        text-align: right;\n",
       "    }\n",
       "</style>\n",
       "<table border=\"1\" class=\"dataframe\">\n",
       "  <thead>\n",
       "    <tr style=\"text-align: right;\">\n",
       "      <th></th>\n",
       "      <th>REPORT_RECEIVED_DATE</th>\n",
       "      <th>IYEAR</th>\n",
       "      <th>REPORT_NUMBER</th>\n",
       "      <th>SUPPLEMENTAL_NUMBER</th>\n",
       "      <th>REPORT_TYPE</th>\n",
       "      <th>OPERATOR_ID</th>\n",
       "      <th>NAME</th>\n",
       "      <th>OPERATOR_STREET_ADDRESS</th>\n",
       "      <th>OPERATOR_CITY_NAME</th>\n",
       "      <th>OPERATOR_STATE_ABBREVIATION</th>\n",
       "      <th>...</th>\n",
       "      <th>PREPARER_TITLE</th>\n",
       "      <th>PREPARER_EMAIL</th>\n",
       "      <th>PREPARER_TELEPHONE</th>\n",
       "      <th>PREPARER_FAX</th>\n",
       "      <th>PREPARED_DATE</th>\n",
       "      <th>AUTHORIZER_NAME</th>\n",
       "      <th>AUTHORIZER_TITLE</th>\n",
       "      <th>AUTHORIZER_TELEPHONE</th>\n",
       "      <th>AUTHORIZER_EMAIL</th>\n",
       "      <th>NARRATIVE</th>\n",
       "    </tr>\n",
       "  </thead>\n",
       "  <tbody>\n",
       "  </tbody>\n",
       "</table>\n",
       "<p>0 rows × 588 columns</p>\n",
       "</div>"
      ],
      "text/plain": [
       "Empty DataFrame\n",
       "Columns: [REPORT_RECEIVED_DATE, IYEAR, REPORT_NUMBER, SUPPLEMENTAL_NUMBER, REPORT_TYPE, OPERATOR_ID, NAME, OPERATOR_STREET_ADDRESS, OPERATOR_CITY_NAME, OPERATOR_STATE_ABBREVIATION, OPERATOR_POSTAL_CODE, LOCAL_DATETIME, LOCATION_LATITUDE, LOCATION_LONGITUDE, NRC_RPT_NUM, NRC_RPT_DATETIME, COMMODITY_RELEASED_TYPE, COMMODITY_SUBTYPE, COMMODITY_DETAILS, BLEND_DETAILS, BIO_DIESEL_DETAILS, UNINTENTIONAL_RELEASE_BBLS, INTENTIONAL_RELEASE_BBLS, RECOVERED_BBLS, FATALITY_IND, NUM_EMP_FATALITIES, NUM_CONTR_FATALITIES, NUM_ER_FATALITIES, NUM_WORKER_FATALITIES, NUM_GP_FATALITIES, FATAL, INJURY_IND, NUM_EMP_INJURIES, NUM_CONTR_INJURIES, NUM_ER_INJURIES, NUM_WORKER_INJURIES, NUM_GP_INJURIES, INJURE, SHUTDOWN_DUE_ACCIDENT_IND, SHUTDOWN_EXPLAIN, SHUTDOWN_DATETIME, RESTART_DATETIME, STILL_SHUTDOWN_IND, IGNITE_IND, EXPLODE_IND, NUM_PUB_EVACUATED, INCIDENT_IDENTIFIED_DATETIME, ON_SITE_DATETIME, ON_OFF_SHORE, ONSHORE_STATE_ABBREVIATION, ONSHORE_POSTAL_CODE, ONSHORE_CITY_NAME, ONSHORE_COUNTY_NAME, DESIGNATED_LOCATION, DESIGNATED_NAME, PIPE_FAC_NAME, SEGMENT_NAME, FEDERAL, LOCATION_TYPE, INCIDENT_AREA_TYPE, INCIDENT_AREA_SUBTYPE, INCIDENT_AREA_DETAILS, DEPTH_OF_COVER, CROSSING, BRIDGE_CROSSING_IND, BRIDGE_TYPE, RAILROAD_CROSSING_IND, RAILROAD_TYPE, ROAD_CROSSING_IND, ROAD_TYPE, WATER_CROSSING_IND, WATER_TYPE, WATER_NAME, WATER_DEPTH, WATER_SUBTYPE, OFF_WATER_DEPTH, OFF_ACCIDENT_ORIGIN, OFFSHORE_STATE_ABBREVIATION, OFF_INSTATE_AREA, OFF_INSTATE_BLOCK, OFFSHORE_COUNTY_NAME, OFF_OCS_AREA, OFF_OCS_BLOCK, OFF_AREA_ACCIDENT_TYPE, PIPE_FACILITY_TYPE, SYSTEM_PART_INVOLVED, SYSTEM_SUBPART_INVOLVED, ITEM_INVOLVED, PIPE_TYPE, PIPE_DIAMETER, PIPE_WALL_THICKNESS, PIPE_SMYS, PIPE_SPECIFICATION, PIPE_SEAM_TYPE, PIPE_SEAM_DETAILS, PIPE_MANUFACTURER, PIPE_MANUFACTURE_YEAR, PIPE_COATING_TYPE, PIPE_COATING_DETAILS, WELD_SUBTYPE, ...]\n",
       "Index: []\n",
       "\n",
       "[0 rows x 588 columns]"
      ]
     },
     "execution_count": 45,
     "metadata": {},
     "output_type": "execute_result"
    }
   ],
   "source": [
    "incid_cvx_all"
   ]
  },
  {
   "cell_type": "code",
   "execution_count": null,
   "metadata": {},
   "outputs": [],
   "source": []
  },
  {
   "cell_type": "code",
   "execution_count": null,
   "metadata": {},
   "outputs": [],
   "source": []
  },
  {
   "cell_type": "code",
   "execution_count": null,
   "metadata": {},
   "outputs": [],
   "source": []
  },
  {
   "cell_type": "code",
   "execution_count": null,
   "metadata": {},
   "outputs": [],
   "source": []
  },
  {
   "cell_type": "code",
   "execution_count": null,
   "metadata": {},
   "outputs": [],
   "source": []
  },
  {
   "cell_type": "code",
   "execution_count": null,
   "metadata": {
    "collapsed": true,
    "slideshow": {
     "slide_type": "skip"
    }
   },
   "outputs": [],
   "source": [
    "incid_vol_liquid.to_csv('2017-03-01-incidents.csv')"
   ]
  },
  {
   "cell_type": "code",
   "execution_count": null,
   "metadata": {
    "collapsed": false,
    "slideshow": {
     "slide_type": "slide"
    }
   },
   "outputs": [],
   "source": [
    "incid_vol_liquid['PERCENT_RECOV'] = (incid_vol_liquid['RECOVERED_BBLS'] / incid_vol_liquid['UNINTENTIONAL_RELEASE_BBLS']) * 100\n",
    "incid_vol_liquid['PERCENT_RECOV'].head()"
   ]
  },
  {
   "cell_type": "code",
   "execution_count": null,
   "metadata": {
    "collapsed": false,
    "slideshow": {
     "slide_type": "slide"
    }
   },
   "outputs": [],
   "source": [
    "incid_vol_liquid['PERCENT_RECOV'].plot(kind = 'hist', bins = 10)\n",
    "plt.xlabel('percent recovery')\n",
    "plt.ylabel('number of incidents')\n",
    "plt.title('PHMSA Reported Pipeline Incidents 2010 - Present\\n(Liquid Commodity)')\n",
    "plt.savefig(fig_prefix + \"liquid-percent-recovery.png\", dpi=350)"
   ]
  },
  {
   "cell_type": "code",
   "execution_count": null,
   "metadata": {
    "collapsed": false,
    "slideshow": {
     "slide_type": "slide"
    }
   },
   "outputs": [],
   "source": [
    "plt.scatter(incid_vol_liquid['UNINTENTIONAL_RELEASE_BBLS'], incid_vol_liquid['PERCENT_RECOV'])\n",
    "plt.xlabel('volume released (bbls)')\n",
    "plt.ylabel('percent recovered')\n",
    "plt.title('PHMSA Reported Pipeline Incidents 2010 - Present\\n(Liquid Commodity)')\n",
    "plt.savefig(fig_prefix + \"liquid-percent-recovered-by-vol-released.png\", dpi=350)"
   ]
  },
  {
   "cell_type": "code",
   "execution_count": null,
   "metadata": {
    "collapsed": false,
    "slideshow": {
     "slide_type": "slide"
    }
   },
   "outputs": [],
   "source": [
    "incid_vol_liquid['CAUSE'].value_counts().plot(kind = 'pie', legend=False)\n",
    "plt.savefig(fig_prefix + \"major-incident-causes-pie.png\", dpi=350)"
   ]
  },
  {
   "cell_type": "code",
   "execution_count": null,
   "metadata": {
    "collapsed": false,
    "slideshow": {
     "slide_type": "skip"
    }
   },
   "outputs": [],
   "source": [
    "incid_vol_liquid.columns"
   ]
  },
  {
   "cell_type": "code",
   "execution_count": null,
   "metadata": {
    "collapsed": false,
    "slideshow": {
     "slide_type": "subslide"
    }
   },
   "outputs": [],
   "source": [
    "incid_vol_liquid[['CAUSE', 'CAUSE_DETAILS']].head(3)"
   ]
  },
  {
   "cell_type": "code",
   "execution_count": null,
   "metadata": {
    "collapsed": false,
    "slideshow": {
     "slide_type": "slide"
    }
   },
   "outputs": [],
   "source": [
    "causes = incid_vol_liquid['CAUSE_DETAILS'].value_counts().sort_values(ascending=True)\n",
    "causes.tail()"
   ]
  },
  {
   "cell_type": "code",
   "execution_count": null,
   "metadata": {
    "collapsed": false,
    "scrolled": true,
    "slideshow": {
     "slide_type": "slide"
    }
   },
   "outputs": [],
   "source": [
    "# sns.barplot(causes.values, causes.index)\n",
    "causes.plot.barh()\n",
    "plt.xlabel('number of incidents')\n",
    "plt.title('Causes of PHMSA Reported Pipeline Incidents\\n(2010 - Present for Liquid Commodity)')\n",
    "plt.savefig(fig_prefix + \"frequency-of-causes.png\", dpi=350)"
   ]
  },
  {
   "cell_type": "code",
   "execution_count": null,
   "metadata": {
    "collapsed": false,
    "slideshow": {
     "slide_type": "slide"
    }
   },
   "outputs": [],
   "source": [
    "incid_vol_liquid['UNINTENTIONAL_RELEASE_BBLS'].sum()"
   ]
  },
  {
   "cell_type": "code",
   "execution_count": null,
   "metadata": {
    "collapsed": false,
    "slideshow": {
     "slide_type": "subslide"
    }
   },
   "outputs": [],
   "source": [
    "mask4 = incid_vol_liquid['CAUSE_DETAILS'] == 'INTERNAL CORROSION'"
   ]
  },
  {
   "cell_type": "code",
   "execution_count": null,
   "metadata": {
    "collapsed": false,
    "slideshow": {
     "slide_type": "subslide"
    }
   },
   "outputs": [],
   "source": [
    "incid_ic = incid_vol_liquid[mask4]"
   ]
  },
  {
   "cell_type": "code",
   "execution_count": null,
   "metadata": {
    "collapsed": false,
    "slideshow": {
     "slide_type": "subslide"
    }
   },
   "outputs": [],
   "source": [
    "incid_ic['UNINTENTIONAL_RELEASE_BBLS'].sum()"
   ]
  },
  {
   "cell_type": "code",
   "execution_count": null,
   "metadata": {
    "collapsed": false,
    "slideshow": {
     "slide_type": "slide"
    }
   },
   "outputs": [],
   "source": [
    "causes_dict = {}\n",
    "for item in causes.index:\n",
    "    item_bbl_sum = incid_vol_liquid[incid_vol_liquid['CAUSE_DETAILS'] == item]['UNINTENTIONAL_RELEASE_BBLS'].sum()\n",
    "    print('Cause {} resulted in total releases of {} bbls from 2010 to present'.format(item, item_bbl_sum))\n",
    "    causes_dict[item] = item_bbl_sum"
   ]
  },
  {
   "cell_type": "code",
   "execution_count": null,
   "metadata": {
    "collapsed": false,
    "slideshow": {
     "slide_type": "skip"
    }
   },
   "outputs": [],
   "source": [
    "causes_dict"
   ]
  },
  {
   "cell_type": "code",
   "execution_count": null,
   "metadata": {
    "collapsed": false,
    "slideshow": {
     "slide_type": "slide"
    }
   },
   "outputs": [],
   "source": [
    "causes_series = pd.Series(causes_dict).sort_values(ascending=True)\n",
    "causes_series.tail()"
   ]
  },
  {
   "cell_type": "code",
   "execution_count": null,
   "metadata": {
    "collapsed": false,
    "slideshow": {
     "slide_type": "slide"
    }
   },
   "outputs": [],
   "source": [
    "# sns.barplot(causes_series.values, causes_series.index)\n",
    "causes_series.plot.barh()\n",
    "plt.xlabel('total volume released (bbls)')\n",
    "plt.title('Causes of PHMSA Reported Pipeline Incidents\\n(2010 - Present for Liquid Commodity)')\n",
    "plt.savefig(fig_prefix + \"liquid-released-by-cause.png\", dpi=350)"
   ]
  },
  {
   "cell_type": "code",
   "execution_count": null,
   "metadata": {
    "collapsed": false
   },
   "outputs": [],
   "source": [
    "causes.head()\n",
    "causes['INTENTIONAL DAMAGE']"
   ]
  },
  {
   "cell_type": "code",
   "execution_count": null,
   "metadata": {
    "collapsed": false
   },
   "outputs": [],
   "source": [
    "causes_rate_dict = {}\n",
    "for item in causes.index:\n",
    "    item_bbl_sum = incid_vol_liquid[incid_vol_liquid['CAUSE_DETAILS'] == item]['UNINTENTIONAL_RELEASE_BBLS'].sum()\n",
    "    item_count = causes[item]\n",
    "    print('Cause {} resulted in averaage of {} bbls per release from 2010 to present'.format(item, item_bbl_sum))\n",
    "    causes_rate_dict[item] = item_bbl_sum / item_count"
   ]
  },
  {
   "cell_type": "code",
   "execution_count": null,
   "metadata": {
    "collapsed": false
   },
   "outputs": [],
   "source": [
    "causes_rate_series = pd.Series(causes_rate_dict).sort_values(ascending=True)\n",
    "causes_rate_series.tail()"
   ]
  },
  {
   "cell_type": "code",
   "execution_count": null,
   "metadata": {
    "collapsed": false
   },
   "outputs": [],
   "source": [
    "causes_rate_series.plot.barh()\n",
    "plt.xlabel('total volume released PER incident (bbls)')\n",
    "plt.title('Causes of PHMSA Reported Pipeline Incidents\\n(2010 - Present for Liquid Commodity)')\n",
    "plt.savefig(fig_prefix + \"liquid-released-per-incident-by-cause.png\", dpi=350)"
   ]
  },
  {
   "cell_type": "code",
   "execution_count": null,
   "metadata": {
    "collapsed": false
   },
   "outputs": [],
   "source": [
    "mask5 = incid_vol_liquid['CAUSE_DETAILS'] == 'ENVIRONMENTAL CRACKING-RELATED'\n",
    "env_cracking = incid_vol_liquid[mask5]"
   ]
  },
  {
   "cell_type": "code",
   "execution_count": null,
   "metadata": {
    "collapsed": false
   },
   "outputs": [],
   "source": [
    "env_cracking[['NAME', 'STRESS_SUBTYPE', 'STRESS_DETAILS', 'UNINTENTIONAL_RELEASE_BBLS']]"
   ]
  },
  {
   "cell_type": "code",
   "execution_count": null,
   "metadata": {
    "collapsed": false
   },
   "outputs": [],
   "source": [
    "incid_vol_top_10 = incid_vol_liquid.sort(columns=['UNINTENTIONAL_RELEASE_BBLS'], ascending=False).head(10)"
   ]
  },
  {
   "cell_type": "code",
   "execution_count": null,
   "metadata": {
    "collapsed": false
   },
   "outputs": [],
   "source": [
    "incid_vol_top_10[['UNINTENTIONAL_RELEASE_BBLS', 'NARRATIVE']]"
   ]
  },
  {
   "cell_type": "code",
   "execution_count": null,
   "metadata": {
    "collapsed": false
   },
   "outputs": [],
   "source": [
    "incid_vol_top_10['NARRATIVE'][1475]"
   ]
  },
  {
   "cell_type": "code",
   "execution_count": null,
   "metadata": {
    "collapsed": false
   },
   "outputs": [],
   "source": [
    "incid_vol_top_10['NARRATIVE'][2601]"
   ]
  },
  {
   "cell_type": "code",
   "execution_count": null,
   "metadata": {
    "collapsed": false
   },
   "outputs": [],
   "source": [
    "incid_vol_top_10['NARRATIVE'][2299]"
   ]
  },
  {
   "cell_type": "code",
   "execution_count": null,
   "metadata": {
    "collapsed": false
   },
   "outputs": [],
   "source": [
    "mask6 = incid_vol_liquid['NAME'].str.contains('PLAINS')"
   ]
  },
  {
   "cell_type": "code",
   "execution_count": null,
   "metadata": {
    "collapsed": false
   },
   "outputs": [],
   "source": [
    "plains = incid_vol_liquid[mask6]"
   ]
  },
  {
   "cell_type": "code",
   "execution_count": null,
   "metadata": {
    "collapsed": false
   },
   "outputs": [],
   "source": [
    "plains.columns"
   ]
  },
  {
   "cell_type": "code",
   "execution_count": null,
   "metadata": {
    "collapsed": false
   },
   "outputs": [],
   "source": [
    "plains[['ONSHORE_CITY_NAME', 'ONSHORE_STATE_ABBREVIATION']]"
   ]
  },
  {
   "cell_type": "code",
   "execution_count": null,
   "metadata": {
    "collapsed": false
   },
   "outputs": [],
   "source": [
    "mask7 = plains['ONSHORE_STATE_ABBREVIATION'] == 'CA'"
   ]
  },
  {
   "cell_type": "code",
   "execution_count": null,
   "metadata": {
    "collapsed": true
   },
   "outputs": [],
   "source": [
    "plains_ca = plains[mask7]"
   ]
  },
  {
   "cell_type": "code",
   "execution_count": null,
   "metadata": {
    "collapsed": false
   },
   "outputs": [],
   "source": [
    "plains_ca['NARRATIVE'].str.contains('SANTA')"
   ]
  },
  {
   "cell_type": "code",
   "execution_count": null,
   "metadata": {
    "collapsed": false
   },
   "outputs": [],
   "source": [
    "plains_ca['NARRATIVE'][692]"
   ]
  },
  {
   "cell_type": "code",
   "execution_count": null,
   "metadata": {
    "collapsed": false
   },
   "outputs": [],
   "source": [
    "incidents.iloc[692]"
   ]
  },
  {
   "cell_type": "code",
   "execution_count": null,
   "metadata": {
    "collapsed": true
   },
   "outputs": [],
   "source": []
  }
 ],
 "metadata": {
  "kernelspec": {
   "display_name": "Python 3",
   "language": "python",
   "name": "python3"
  },
  "language_info": {
   "codemirror_mode": {
    "name": "ipython",
    "version": 3
   },
   "file_extension": ".py",
   "mimetype": "text/x-python",
   "name": "python",
   "nbconvert_exporter": "python",
   "pygments_lexer": "ipython3",
   "version": "3.6.3"
  }
 },
 "nbformat": 4,
 "nbformat_minor": 2
}
