{
 "cells": [
  {
   "cell_type": "markdown",
   "metadata": {},
   "source": [
    "Internet page with example for doing wordcloud in python:\n",
    "\n",
    "https://www.kaggle.com/adiljadoon/word-cloud-with-python"
   ]
  },
  {
   "cell_type": "code",
   "execution_count": 1,
   "metadata": {},
   "outputs": [
    {
     "name": "stderr",
     "output_type": "stream",
     "text": [
      "/srv/conda/lib/python3.6/site-packages/IPython/core/interactiveshell.py:2728: DtypeWarning: Columns (62,64,65,66,67,68,69,73,75,77,78,79,80,82,90,91,103,105,118,138,139,140,172,182,183,184,185,210,212,226,228,229,240,245,249,253,264,271,273,284,288,290,292,294,296,297,302,308,310,318,322,323,335,337,341,343,371,372,375,376,381,383,385,390,401,408,409,410,411,413,415,430,431,434,437,451,462,468,469,475,476,477,480,481,482,498,504,506,508,509,516,522,524,526,529,530,531,535,536,537,545,548,551,553,554,576) have mixed types. Specify dtype option on import or set low_memory=False.\n",
      "  interactivity=interactivity, compiler=compiler, result=result)\n"
     ]
    }
   ],
   "source": [
    "import pandas as pd\n",
    "df1 = pd.read_csv('https://query.data.world/s/dv2xwja6ue6tmbcqbst5dnilexrip4')\n",
    "# dataset is at kaggle - https://data.world/webmadster/phmsa-hazardous-liquid-accident-data-since-2010"
   ]
  },
  {
   "cell_type": "code",
   "execution_count": 2,
   "metadata": {},
   "outputs": [
    {
     "data": {
      "text/html": [
       "<div>\n",
       "<style scoped>\n",
       "    .dataframe tbody tr th:only-of-type {\n",
       "        vertical-align: middle;\n",
       "    }\n",
       "\n",
       "    .dataframe tbody tr th {\n",
       "        vertical-align: top;\n",
       "    }\n",
       "\n",
       "    .dataframe thead th {\n",
       "        text-align: right;\n",
       "    }\n",
       "</style>\n",
       "<table border=\"1\" class=\"dataframe\">\n",
       "  <thead>\n",
       "    <tr style=\"text-align: right;\">\n",
       "      <th></th>\n",
       "      <th>REPORT_RECEIVED_DATE</th>\n",
       "      <th>IYEAR</th>\n",
       "      <th>REPORT_NUMBER</th>\n",
       "      <th>SUPPLEMENTAL_NUMBER</th>\n",
       "      <th>REPORT_TYPE</th>\n",
       "      <th>OPERATOR_ID</th>\n",
       "      <th>NAME</th>\n",
       "      <th>OPERATOR_STREET_ADDRESS</th>\n",
       "      <th>OPERATOR_CITY_NAME</th>\n",
       "      <th>OPERATOR_STATE_ABBREVIATION</th>\n",
       "      <th>...</th>\n",
       "      <th>PREPARER_TITLE</th>\n",
       "      <th>PREPARER_EMAIL</th>\n",
       "      <th>PREPARER_TELEPHONE</th>\n",
       "      <th>PREPARER_FAX</th>\n",
       "      <th>PREPARED_DATE</th>\n",
       "      <th>AUTHORIZER_NAME</th>\n",
       "      <th>AUTHORIZER_TITLE</th>\n",
       "      <th>AUTHORIZER_TELEPHONE</th>\n",
       "      <th>AUTHORIZER_EMAIL</th>\n",
       "      <th>NARRATIVE</th>\n",
       "    </tr>\n",
       "  </thead>\n",
       "  <tbody>\n",
       "    <tr>\n",
       "      <th>0</th>\n",
       "      <td>2/27/2018</td>\n",
       "      <td>2018</td>\n",
       "      <td>20180064</td>\n",
       "      <td>23185</td>\n",
       "      <td>ORIGINAL FINAL</td>\n",
       "      <td>31618</td>\n",
       "      <td>ENTERPRISE PRODUCTS OPERATING LLC</td>\n",
       "      <td>1100 LOUISIANA STREET</td>\n",
       "      <td>HOUSTON</td>\n",
       "      <td>TX</td>\n",
       "      <td>...</td>\n",
       "      <td>SR. PIPELINE COMPLIANCE ENGINEER</td>\n",
       "      <td>rsromero@eprod.com</td>\n",
       "      <td>713-381-6841</td>\n",
       "      <td>NaN</td>\n",
       "      <td>2/27/2018</td>\n",
       "      <td>RICHARD S ROMERO</td>\n",
       "      <td>SR. PIPELINE COMPLIANCE ENGINEER</td>\n",
       "      <td>713-381-6841</td>\n",
       "      <td>rsromero@eprod.com</td>\n",
       "      <td>ON 2/19/2018 AN EMPLOYEE OF PHILLIPS 66 NOTIFI...</td>\n",
       "    </tr>\n",
       "    <tr>\n",
       "      <th>1</th>\n",
       "      <td>2/20/2018</td>\n",
       "      <td>2018</td>\n",
       "      <td>20180058</td>\n",
       "      <td>23160</td>\n",
       "      <td>ORIGINAL FINAL</td>\n",
       "      <td>30829</td>\n",
       "      <td>ENTERPRISE CRUDE PIPELINE LLC</td>\n",
       "      <td>1100 LOUISIANA STREET</td>\n",
       "      <td>HOUSTON</td>\n",
       "      <td>TX</td>\n",
       "      <td>...</td>\n",
       "      <td>NaN</td>\n",
       "      <td>candress@eprod.com</td>\n",
       "      <td>713-381-6426</td>\n",
       "      <td>NaN</td>\n",
       "      <td>2/20/2018</td>\n",
       "      <td>CHASE ANDRESS</td>\n",
       "      <td>PIPELINE COMPLIANCE</td>\n",
       "      <td>713-381-6462</td>\n",
       "      <td>candress@eprod.com</td>\n",
       "      <td>ON 2-10-18 AT APPROXIMATELY 22:20 LOCAL OPERAT...</td>\n",
       "    </tr>\n",
       "    <tr>\n",
       "      <th>2</th>\n",
       "      <td>2/14/2018</td>\n",
       "      <td>2018</td>\n",
       "      <td>20180042</td>\n",
       "      <td>23135</td>\n",
       "      <td>ORIGINAL FINAL</td>\n",
       "      <td>30829</td>\n",
       "      <td>ENTERPRISE CRUDE PIPELINE LLC</td>\n",
       "      <td>1100 LOUISIANA STREET</td>\n",
       "      <td>HOUSTON</td>\n",
       "      <td>TX</td>\n",
       "      <td>...</td>\n",
       "      <td>NaN</td>\n",
       "      <td>candress@eprod.com</td>\n",
       "      <td>713-381-6426</td>\n",
       "      <td>NaN</td>\n",
       "      <td>2/14/2018</td>\n",
       "      <td>CHASE ANDRESS</td>\n",
       "      <td>PIPELINE COMPLIANCE</td>\n",
       "      <td>713-381-6426</td>\n",
       "      <td>candress@eprod.com</td>\n",
       "      <td>ON 02-07-18 AT 12:27 PIPELINE CONTROL RECEIVED...</td>\n",
       "    </tr>\n",
       "    <tr>\n",
       "      <th>3</th>\n",
       "      <td>2/28/2018</td>\n",
       "      <td>2018</td>\n",
       "      <td>20180066</td>\n",
       "      <td>23190</td>\n",
       "      <td>ORIGINAL</td>\n",
       "      <td>39534</td>\n",
       "      <td>TORRANCE VALLEY PIPELINE COMPANY LLC</td>\n",
       "      <td>1 SYLVAN WAY 2ND FLOOR</td>\n",
       "      <td>PARSIPPANY</td>\n",
       "      <td>NJ</td>\n",
       "      <td>...</td>\n",
       "      <td>REGULATORY ADVISOR</td>\n",
       "      <td>thomas.slosson@pbfenergy.com</td>\n",
       "      <td>310-212-1764</td>\n",
       "      <td>NaN</td>\n",
       "      <td>2/28/2018</td>\n",
       "      <td>THOMAS MCLANE</td>\n",
       "      <td>DIRECTOR OF REGULATORY COMPLIANCE</td>\n",
       "      <td>281-661-4224</td>\n",
       "      <td>thomas.mclane@pbfenergy.com</td>\n",
       "      <td>AT APPROXIMATELY 10:45 AM PST, AN OPERATOR AT ...</td>\n",
       "    </tr>\n",
       "    <tr>\n",
       "      <th>4</th>\n",
       "      <td>2/22/2018</td>\n",
       "      <td>2018</td>\n",
       "      <td>20180061</td>\n",
       "      <td>23181</td>\n",
       "      <td>SUPPLEMENTAL FINAL</td>\n",
       "      <td>30829</td>\n",
       "      <td>ENTERPRISE CRUDE PIPELINE LLC</td>\n",
       "      <td>1100 LOUISIANA STREET</td>\n",
       "      <td>HOUSTON</td>\n",
       "      <td>TX</td>\n",
       "      <td>...</td>\n",
       "      <td>NaN</td>\n",
       "      <td>candress@eprod.com</td>\n",
       "      <td>713-381-6426</td>\n",
       "      <td>NaN</td>\n",
       "      <td>2/26/2018</td>\n",
       "      <td>CHASE ANDRESS</td>\n",
       "      <td>PIPELINE COMPLIANCE</td>\n",
       "      <td>713-381-6426</td>\n",
       "      <td>candress@eprod.com</td>\n",
       "      <td>ON 02-05-2018 AT APPROXIMATELY 20:15 HOURS, LO...</td>\n",
       "    </tr>\n",
       "  </tbody>\n",
       "</table>\n",
       "<p>5 rows × 588 columns</p>\n",
       "</div>"
      ],
      "text/plain": [
       "  REPORT_RECEIVED_DATE  IYEAR  REPORT_NUMBER  SUPPLEMENTAL_NUMBER  \\\n",
       "0            2/27/2018   2018       20180064                23185   \n",
       "1            2/20/2018   2018       20180058                23160   \n",
       "2            2/14/2018   2018       20180042                23135   \n",
       "3            2/28/2018   2018       20180066                23190   \n",
       "4            2/22/2018   2018       20180061                23181   \n",
       "\n",
       "          REPORT_TYPE  OPERATOR_ID                                  NAME  \\\n",
       "0      ORIGINAL FINAL        31618     ENTERPRISE PRODUCTS OPERATING LLC   \n",
       "1      ORIGINAL FINAL        30829         ENTERPRISE CRUDE PIPELINE LLC   \n",
       "2      ORIGINAL FINAL        30829         ENTERPRISE CRUDE PIPELINE LLC   \n",
       "3            ORIGINAL        39534  TORRANCE VALLEY PIPELINE COMPANY LLC   \n",
       "4  SUPPLEMENTAL FINAL        30829         ENTERPRISE CRUDE PIPELINE LLC   \n",
       "\n",
       "  OPERATOR_STREET_ADDRESS OPERATOR_CITY_NAME OPERATOR_STATE_ABBREVIATION  \\\n",
       "0  1100 LOUISIANA STREET             HOUSTON                          TX   \n",
       "1  1100 LOUISIANA STREET             HOUSTON                          TX   \n",
       "2  1100 LOUISIANA STREET             HOUSTON                          TX   \n",
       "3  1 SYLVAN WAY 2ND FLOOR         PARSIPPANY                          NJ   \n",
       "4  1100 LOUISIANA STREET             HOUSTON                          TX   \n",
       "\n",
       "                         ...                          \\\n",
       "0                        ...                           \n",
       "1                        ...                           \n",
       "2                        ...                           \n",
       "3                        ...                           \n",
       "4                        ...                           \n",
       "\n",
       "                     PREPARER_TITLE                PREPARER_EMAIL  \\\n",
       "0  SR. PIPELINE COMPLIANCE ENGINEER            rsromero@eprod.com   \n",
       "1                               NaN            candress@eprod.com   \n",
       "2                               NaN            candress@eprod.com   \n",
       "3                REGULATORY ADVISOR  thomas.slosson@pbfenergy.com   \n",
       "4                               NaN            candress@eprod.com   \n",
       "\n",
       "   PREPARER_TELEPHONE  PREPARER_FAX PREPARED_DATE   AUTHORIZER_NAME  \\\n",
       "0        713-381-6841           NaN     2/27/2018  RICHARD S ROMERO   \n",
       "1        713-381-6426           NaN     2/20/2018     CHASE ANDRESS   \n",
       "2        713-381-6426           NaN     2/14/2018     CHASE ANDRESS   \n",
       "3        310-212-1764           NaN     2/28/2018     THOMAS MCLANE   \n",
       "4        713-381-6426           NaN     2/26/2018     CHASE ANDRESS   \n",
       "\n",
       "                    AUTHORIZER_TITLE AUTHORIZER_TELEPHONE  \\\n",
       "0   SR. PIPELINE COMPLIANCE ENGINEER         713-381-6841   \n",
       "1                PIPELINE COMPLIANCE         713-381-6462   \n",
       "2                PIPELINE COMPLIANCE         713-381-6426   \n",
       "3  DIRECTOR OF REGULATORY COMPLIANCE         281-661-4224   \n",
       "4                PIPELINE COMPLIANCE         713-381-6426   \n",
       "\n",
       "              AUTHORIZER_EMAIL  \\\n",
       "0           rsromero@eprod.com   \n",
       "1           candress@eprod.com   \n",
       "2           candress@eprod.com   \n",
       "3  thomas.mclane@pbfenergy.com   \n",
       "4           candress@eprod.com   \n",
       "\n",
       "                                           NARRATIVE  \n",
       "0  ON 2/19/2018 AN EMPLOYEE OF PHILLIPS 66 NOTIFI...  \n",
       "1  ON 2-10-18 AT APPROXIMATELY 22:20 LOCAL OPERAT...  \n",
       "2  ON 02-07-18 AT 12:27 PIPELINE CONTROL RECEIVED...  \n",
       "3  AT APPROXIMATELY 10:45 AM PST, AN OPERATOR AT ...  \n",
       "4  ON 02-05-2018 AT APPROXIMATELY 20:15 HOURS, LO...  \n",
       "\n",
       "[5 rows x 588 columns]"
      ]
     },
     "execution_count": 2,
     "metadata": {},
     "output_type": "execute_result"
    }
   ],
   "source": [
    "df1.head()"
   ]
  },
  {
   "cell_type": "code",
   "execution_count": 3,
   "metadata": {},
   "outputs": [
    {
     "data": {
      "text/plain": [
       "Index(['REPORT_RECEIVED_DATE', 'IYEAR', 'REPORT_NUMBER', 'SUPPLEMENTAL_NUMBER',\n",
       "       'REPORT_TYPE', 'OPERATOR_ID', 'NAME', 'OPERATOR_STREET_ADDRESS',\n",
       "       'OPERATOR_CITY_NAME', 'OPERATOR_STATE_ABBREVIATION',\n",
       "       ...\n",
       "       'PREPARER_TITLE', 'PREPARER_EMAIL', 'PREPARER_TELEPHONE',\n",
       "       'PREPARER_FAX', 'PREPARED_DATE', 'AUTHORIZER_NAME', 'AUTHORIZER_TITLE',\n",
       "       'AUTHORIZER_TELEPHONE', 'AUTHORIZER_EMAIL', 'NARRATIVE'],\n",
       "      dtype='object', length=588)"
      ]
     },
     "execution_count": 3,
     "metadata": {},
     "output_type": "execute_result"
    }
   ],
   "source": [
    "df1.columns"
   ]
  },
  {
   "cell_type": "code",
   "execution_count": 4,
   "metadata": {},
   "outputs": [
    {
     "data": {
      "text/plain": [
       "0    ON 2/19/2018 AN EMPLOYEE OF PHILLIPS 66 NOTIFI...\n",
       "1    ON 2-10-18 AT APPROXIMATELY 22:20 LOCAL OPERAT...\n",
       "2    ON 02-07-18 AT 12:27 PIPELINE CONTROL RECEIVED...\n",
       "Name: NARRATIVE, dtype: object"
      ]
     },
     "execution_count": 4,
     "metadata": {},
     "output_type": "execute_result"
    }
   ],
   "source": [
    "df1['NARRATIVE'].head(3)"
   ]
  },
  {
   "cell_type": "code",
   "execution_count": 5,
   "metadata": {},
   "outputs": [
    {
     "data": {
      "text/plain": [
       "1    ON 2-10-18 AT APPROXIMATELY 22:20 LOCAL OPERAT...\n",
       "2    ON 02-07-18 AT 12:27 PIPELINE CONTROL RECEIVED...\n",
       "3    AT APPROXIMATELY 10:45 AM PST, AN OPERATOR AT ...\n",
       "4    ON 02-05-2018 AT APPROXIMATELY 20:15 HOURS, LO...\n",
       "5    APPROXIMATELY 4 BBLS OF CRUDE OIL WERE RELEASE...\n",
       "6    ON 2/1/2018, DCP OPERATOR WAS NOTIFIED BY DCP'...\n",
       "7    ON 01-31-18 AT APPROXIMATELY 12:30 HOURS, LOCA...\n",
       "8    THE PIPELINE CONTROLLER RECEIVED A HAZARDOUS A...\n",
       "9    A CRACK IN A 3/8-INCH THREADED BALL VALVE CONN...\n",
       "Name: NARRATIVE, dtype: object"
      ]
     },
     "execution_count": 5,
     "metadata": {},
     "output_type": "execute_result"
    }
   ],
   "source": [
    "df1['NARRATIVE'].iloc[1:10]"
   ]
  },
  {
   "cell_type": "code",
   "execution_count": 6,
   "metadata": {},
   "outputs": [],
   "source": [
    "narr = []\n",
    "for text in df1['NARRATIVE']:\n",
    "    narr.append(text)"
   ]
  },
  {
   "cell_type": "code",
   "execution_count": 7,
   "metadata": {},
   "outputs": [
    {
     "data": {
      "text/plain": [
       "'ON 2/19/2018 AN EMPLOYEE OF PHILLIPS 66 NOTIFIED AN ENTERPRISE EMPLOYEE OF A VAPOR CLOUD INSIDE THE SKELLYTOWN STATION. THE EMPLOYEE NOTIFIED PIPELINE CONTROL WHO THEN SHUTDOWN THE STATION. THE VAPOR CLOUD WAS COMING FROM A FITTING ON THE #1 MAINLINE PUMP. THE FITTING WAS REPLACED AND THE STATION WAS RE-STARTED.'"
      ]
     },
     "execution_count": 7,
     "metadata": {},
     "output_type": "execute_result"
    }
   ],
   "source": [
    "narr[0]"
   ]
  },
  {
   "cell_type": "code",
   "execution_count": 9,
   "metadata": {},
   "outputs": [
    {
     "name": "stdout",
     "output_type": "stream",
     "text": [
      "Collecting wordcloud\n",
      "  Downloading wordcloud-1.4.1.tar.gz (172kB)\n",
      "\u001b[K    100% |████████████████████████████████| 174kB 2.1MB/s ta 0:00:01\n",
      "\u001b[?25hRequirement already satisfied: matplotlib in /srv/conda/lib/python3.6/site-packages (from wordcloud)\n",
      "Requirement already satisfied: numpy>=1.6.1 in /srv/conda/lib/python3.6/site-packages (from wordcloud)\n",
      "Requirement already satisfied: pillow in /srv/conda/lib/python3.6/site-packages (from wordcloud)\n",
      "Requirement already satisfied: cycler>=0.10 in /srv/conda/lib/python3.6/site-packages/cycler-0.10.0-py3.6.egg (from matplotlib->wordcloud)\n",
      "Requirement already satisfied: pyparsing!=2.0.4,!=2.1.2,!=2.1.6,>=2.0.1 in /srv/conda/lib/python3.6/site-packages (from matplotlib->wordcloud)\n",
      "Requirement already satisfied: python-dateutil>=2.1 in /srv/conda/lib/python3.6/site-packages (from matplotlib->wordcloud)\n",
      "Requirement already satisfied: pytz in /srv/conda/lib/python3.6/site-packages (from matplotlib->wordcloud)\n",
      "Requirement already satisfied: six>=1.10 in /srv/conda/lib/python3.6/site-packages (from matplotlib->wordcloud)\n",
      "Requirement already satisfied: kiwisolver>=1.0.1 in /srv/conda/lib/python3.6/site-packages (from matplotlib->wordcloud)\n",
      "Requirement already satisfied: setuptools in /srv/conda/lib/python3.6/site-packages (from kiwisolver>=1.0.1->matplotlib->wordcloud)\n",
      "Building wheels for collected packages: wordcloud\n",
      "  Running setup.py bdist_wheel for wordcloud ... \u001b[?25ldone\n",
      "\u001b[?25h  Stored in directory: /home/jovyan/.cache/pip/wheels/23/f9/5b/3fd378852bbeb8833fccc377757de44d7ea393863a368e4ffa\n",
      "Successfully built wordcloud\n",
      "Installing collected packages: wordcloud\n",
      "Successfully installed wordcloud-1.4.1\n",
      "\u001b[33mYou are using pip version 9.0.1, however version 9.0.3 is available.\n",
      "You should consider upgrading via the 'pip install --upgrade pip' command.\u001b[0m\n"
     ]
    }
   ],
   "source": [
    "!pip install wordcloud"
   ]
  },
  {
   "cell_type": "code",
   "execution_count": 10,
   "metadata": {},
   "outputs": [],
   "source": [
    "import numpy as np\n",
    "import matplotlib as mpl\n",
    "import matplotlib.pyplot as plt\n",
    "%matplotlib inline\n",
    "\n",
    "from subprocess import check_output\n",
    "from wordcloud import WordCloud, STOPWORDS"
   ]
  },
  {
   "cell_type": "code",
   "execution_count": 11,
   "metadata": {},
   "outputs": [
    {
     "name": "stdout",
     "output_type": "stream",
     "text": [
      "Requirement already satisfied: wordcloud in /srv/conda/lib/python3.6/site-packages\n",
      "Requirement already satisfied: matplotlib in /srv/conda/lib/python3.6/site-packages (from wordcloud)\n",
      "Requirement already satisfied: pillow in /srv/conda/lib/python3.6/site-packages (from wordcloud)\n",
      "Requirement already satisfied: numpy>=1.6.1 in /srv/conda/lib/python3.6/site-packages (from wordcloud)\n",
      "Requirement already satisfied: cycler>=0.10 in /srv/conda/lib/python3.6/site-packages/cycler-0.10.0-py3.6.egg (from matplotlib->wordcloud)\n",
      "Requirement already satisfied: pyparsing!=2.0.4,!=2.1.2,!=2.1.6,>=2.0.1 in /srv/conda/lib/python3.6/site-packages (from matplotlib->wordcloud)\n",
      "Requirement already satisfied: python-dateutil>=2.1 in /srv/conda/lib/python3.6/site-packages (from matplotlib->wordcloud)\n",
      "Requirement already satisfied: pytz in /srv/conda/lib/python3.6/site-packages (from matplotlib->wordcloud)\n",
      "Requirement already satisfied: six>=1.10 in /srv/conda/lib/python3.6/site-packages (from matplotlib->wordcloud)\n",
      "Requirement already satisfied: kiwisolver>=1.0.1 in /srv/conda/lib/python3.6/site-packages (from matplotlib->wordcloud)\n",
      "Requirement already satisfied: setuptools in /srv/conda/lib/python3.6/site-packages (from kiwisolver>=1.0.1->matplotlib->wordcloud)\n",
      "\u001b[33mYou are using pip version 9.0.1, however version 9.0.3 is available.\n",
      "You should consider upgrading via the 'pip install --upgrade pip' command.\u001b[0m\n"
     ]
    }
   ],
   "source": [
    "!pip install wordcloud"
   ]
  },
  {
   "cell_type": "code",
   "execution_count": 12,
   "metadata": {},
   "outputs": [],
   "source": [
    "mpl.rcParams['font.size']=12                \n",
    "mpl.rcParams['savefig.dpi']=100             \n",
    "mpl.rcParams['figure.subplot.bottom']=.1"
   ]
  },
  {
   "cell_type": "code",
   "execution_count": 13,
   "metadata": {},
   "outputs": [],
   "source": [
    "stopwords = set(STOPWORDS)"
   ]
  },
  {
   "cell_type": "code",
   "execution_count": 14,
   "metadata": {},
   "outputs": [],
   "source": [
    "data = pd.DataFrame(narr)"
   ]
  },
  {
   "cell_type": "code",
   "execution_count": 15,
   "metadata": {},
   "outputs": [
    {
     "data": {
      "text/plain": [
       "0       ON 2/19/2018 AN EMPLOYEE OF PHILLIPS 66 NOTIFI...\n",
       "1       ON 2-10-18 AT APPROXIMATELY 22:20 LOCAL OPERAT...\n",
       "2       ON 02-07-18 AT 12:27 PIPELINE CONTROL RECEIVED...\n",
       "3       AT APPROXIMATELY 10:45 AM PST, AN OPERATOR AT ...\n",
       "4       ON 02-05-2018 AT APPROXIMATELY 20:15 HOURS, LO...\n",
       "5       APPROXIMATELY 4 BBLS OF CRUDE OIL WERE RELEASE...\n",
       "6       ON 2/1/2018, DCP OPERATOR WAS NOTIFIED BY DCP'...\n",
       "7       ON 01-31-18 AT APPROXIMATELY 12:30 HOURS, LOCA...\n",
       "8       THE PIPELINE CONTROLLER RECEIVED A HAZARDOUS A...\n",
       "9       A CRACK IN A 3/8-INCH THREADED BALL VALVE CONN...\n",
       "10      CRUDE OIL LEAK DISCOVERED BY 3RD PARTY AND REP...\n",
       "11      WHILE PERFORMING ROUTINE MAINTENANCE AT KINDER...\n",
       "12      ON 1-25-18 A CONTRACTOR WORKING FOR ENTERPRISE...\n",
       "13      ON JANUARY 24, 2018, AT APPROXIMATELY 1900, A ...\n",
       "14      ON 01-23-18 AT APPROXIMATELY 21:00 HOURS, LOCA...\n",
       "15      ON 1-23-18 AT APPROXIMATELY 1500 HOURS, LOCAL ...\n",
       "16      ON JANUARY 23, 2018, HILAND CRUDE, LLC COMPLET...\n",
       "17      ON JANUARY 23, 2018 A CRUDE OIL SPILL WAS DISC...\n",
       "18      AS THE O&M ON SHIFT WAS PERFORMING THE MONTHLY...\n",
       "19      AT 13:16 ON 1/21/18 A HAZARDOUS GAS ALARM WAS ...\n",
       "20      ON JANUARY 20, 2018 AT APPROXIMATELY 15:15 CST...\n",
       "21      ON 1/19/2018 AT APPROXIMATELY 13:30, OPERATION...\n",
       "22      ON JANUARY 18TH, 2018, AT APPROXIMATELY 8:30 P...\n",
       "23      AT 11:50 ON 1-18-18 A LEAK WAS IDENTIFIED AT T...\n",
       "24      ON 1/18/18 AT 07:30, A KM EMPLOYEE NOTED A DRI...\n",
       "25      ON JANUARY 18, 2018 WHILE PERFORMING AN INTERN...\n",
       "26      ON JANUARY 17, 2018 GASOLINE WAS CONFIRMED TO ...\n",
       "27      ON JANUARY 17, 2018 AT 16:06, BUCKEYE STATION ...\n",
       "28      DOUBLE BLOCK AND BLEED VALVE THAT IS NORMALLY ...\n",
       "29      ON JANUARY 17, 2018 APPROXIMATELY 10 GALLONS O...\n",
       "                              ...                        \n",
       "3225    A MAINTENANCE TECHNICIAN WAS CONDUCTING MAINTE...\n",
       "3226    A MECHANICAL SEAL ON THE PUMP FAILED.  THE PRO...\n",
       "3227    THE PUMPING STATION IS AN UNMANNED FACILITY.  ...\n",
       "3228    A FIELD OPERATOR DISCOVERED A 2 BARREL RELEASE...\n",
       "3229    ON JANUARY 19, 2010 A RELEASE OF 3 BARRELS OF ...\n",
       "3230    WHILE PERFORMING ROUTINE DAILY INSPECTIONS, A ...\n",
       "3231    THE OPERATOR ON DUTY FOUND A SMALL FROST BALL ...\n",
       "3232    PIPELINE THAT LEAKED IS PRESENTLY BEING REPLAC...\n",
       "3233    THIS RELEASE OCCURED WHEN THE VALVE (2750) WAS...\n",
       "3234    DURING MORNING ROUNDS ON JANUARY 14, 2010, PAR...\n",
       "3235    A PIECE OF FOREIGN MATERIAL SETTLED OVER THE O...\n",
       "3236    DURING THE AFTERNOON OF 1/13/2010 AT APPROXIMA...\n",
       "3237    THE RELEASE WAS DUE TO ICE THAT FORMED IN A 1....\n",
       "3238    A REPORT OF AMMONIA SMELL WAS PHONED INTO THE ...\n",
       "3239    ON JANUARY 12, 2010 AT APPROXIMATELY 2:30 PM L...\n",
       "3240    THIS RELEASE WAS DUE TO INTERNAL CORROSION ON ...\n",
       "3241    TANK 824 WATER DRAIN WAS LEAKING CRUDE.  DUE T...\n",
       "3242    COMPANY PERSONNEL WHILE DOING STATION INSPECTI...\n",
       "3243    ON JANUARY 11, 2010, WHILE FLYING A ROUTINE WE...\n",
       "3244    ON THE AFTERNOON OF MONDAY 01/11/2010, A TARGA...\n",
       "3245    TANK 1501 WAS FOUND LEAKING PRODUCT FROM THE R...\n",
       "3246    THE TIMELINE OF THE EVENTS LEADING UP TO THE 4...\n",
       "3247    WATER ACCUMULATION IN THE VENT TUBE OF A 1/2 I...\n",
       "3248    DURING THE EARLY MORNING HOURS OF 1/9/2010, TH...\n",
       "3249    ON JANUARY 8, 2010 AT 23:38 LOCAL TIME, THE EN...\n",
       "3250    ON JANUARY 7, 2010 AT APPROXIMATELY 1300 HOURS...\n",
       "3251    ON JANUARY 6, 2010 AT APPROXIMATELY 19:30 LOCA...\n",
       "3252    ON TUESDAY JANUARY 5 2010 AT 10:30 AM WHILE FL...\n",
       "3253    APPROXIMATELY 5 GALLONS OF CRUDE OIL OVERFLOWE...\n",
       "3254    PIPELINE CONTROL NOTIFIED OUR FACILITY THAT TH...\n",
       "Name: 0, Length: 3255, dtype: object"
      ]
     },
     "execution_count": 15,
     "metadata": {},
     "output_type": "execute_result"
    }
   ],
   "source": [
    "data[0]"
   ]
  },
  {
   "cell_type": "code",
   "execution_count": 16,
   "metadata": {},
   "outputs": [],
   "source": [
    "wordcloud = WordCloud(\n",
    "                          background_color='white',\n",
    "                          stopwords=stopwords,\n",
    "                          max_words=200,\n",
    "                          max_font_size=40, \n",
    "                          random_state=42\n",
    "                         ).generate(str(data[0]))"
   ]
  },
  {
   "cell_type": "code",
   "execution_count": 17,
   "metadata": {},
   "outputs": [
    {
     "name": "stdout",
     "output_type": "stream",
     "text": [
      "<wordcloud.wordcloud.WordCloud object at 0x7eff608539e8>\n"
     ]
    },
    {
     "data": {
      "image/png": "[encoded data removed]",
      "text/plain": [
       "<Figure size 432x288 with 1 Axes>"
      ]
     },
     "metadata": {},
     "output_type": "display_data"
    }
   ],
   "source": [
    "print(wordcloud)\n",
    "fig = plt.figure(1)\n",
    "plt.imshow(wordcloud)\n",
    "plt.axis('off')\n",
    "plt.show()\n",
    "fig.savefig(\"word1.png\", dpi=900)"
   ]
  },
  {
   "cell_type": "code",
   "execution_count": null,
   "metadata": {},
   "outputs": [],
   "source": []
  }
 ],
 "metadata": {
  "kernelspec": {
   "display_name": "Python 3",
   "language": "python",
   "name": "python3"
  },
  "language_info": {
   "codemirror_mode": {
    "name": "ipython",
    "version": 3
   },
   "file_extension": ".py",
   "mimetype": "text/x-python",
   "name": "python",
   "nbconvert_exporter": "python",
   "pygments_lexer": "ipython3",
   "version": "3.6.4"
  }
 },
 "nbformat": 4,
 "nbformat_minor": 2
}
